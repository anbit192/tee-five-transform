{
 "cells": [
  {
   "cell_type": "code",
   "execution_count": 1,
   "metadata": {},
   "outputs": [],
   "source": [
    "import numpy as np\n",
    "import sentencepiece as spm\n",
    "import os\n",
    "from pathlib import Path"
   ]
  },
  {
   "cell_type": "code",
   "execution_count": 2,
   "metadata": {},
   "outputs": [
    {
     "data": {
      "text/plain": [
       "True"
      ]
     },
     "execution_count": 2,
     "metadata": {},
     "output_type": "execute_result"
    }
   ],
   "source": [
    "vocab_file = \"models/spiece.model\"\n",
    "sp_model = spm.SentencePieceProcessor()\n",
    "sp_model.load(vocab_file)"
   ]
  },
  {
   "cell_type": "code",
   "execution_count": 3,
   "metadata": {},
   "outputs": [],
   "source": [
    "path = Path(\"data/processed/vietnews-master/data/train_tokenized\")"
   ]
  },
  {
   "cell_type": "code",
   "execution_count": 4,
   "metadata": {},
   "outputs": [],
   "source": [
    "files = os.listdir(path)"
   ]
  },
  {
   "cell_type": "code",
   "execution_count": 5,
   "metadata": {},
   "outputs": [],
   "source": [
    "f_names = []\n",
    "for f in files:\n",
    "    f_names.append(path / f)\n"
   ]
  },
  {
   "cell_type": "code",
   "execution_count": 6,
   "metadata": {},
   "outputs": [
    {
     "name": "stdout",
     "output_type": "stream",
     "text": [
      "data\\processed\\vietnews-master\\data\\train_tokenized\\000003.txt.seg\n"
     ]
    }
   ],
   "source": [
    "print(f_names[2])"
   ]
  },
  {
   "cell_type": "code",
   "execution_count": 7,
   "metadata": {},
   "outputs": [],
   "source": [
    "spm.SentencePieceTrainer.train(\n",
    "    input=f_names,\n",
    "    model_prefix=\"models/trained_spiece1\",\n",
    "    vocab_size=32000,\n",
    "    split_by_whitespace=False,\n",
    "    unk_id=2,\n",
    "    bos_id=-1,\n",
    "    eos_id=1,\n",
    "    pad_id=0,\n",
    "    model_type=\"unigram\",\n",
    "    train_extremely_large_corpus=True,\n",
    "    character_coverage=0.995\n",
    ")"
   ]
  },
  {
   "cell_type": "code",
   "execution_count": 8,
   "metadata": {},
   "outputs": [
    {
     "data": {
      "text/plain": [
       "True"
      ]
     },
     "execution_count": 8,
     "metadata": {},
     "output_type": "execute_result"
    }
   ],
   "source": [
    "vocab_file = \"models/trained_spiece1.model\"\n",
    "sp_model = spm.SentencePieceProcessor()\n",
    "sp_model.load(vocab_file)"
   ]
  },
  {
   "cell_type": "code",
   "execution_count": 9,
   "metadata": {},
   "outputs": [
    {
     "data": {
      "text/plain": [
       "False"
      ]
     },
     "execution_count": 9,
     "metadata": {},
     "output_type": "execute_result"
    }
   ],
   "source": [
    "sp_model.is_unused(5)"
   ]
  },
  {
   "cell_type": "code",
   "execution_count": 18,
   "metadata": {},
   "outputs": [
    {
     "name": "stdout",
     "output_type": "stream",
     "text": [
      "12106 -> ▁Đầu▁năm\n",
      "12107 -> ▁được▁thu\n",
      "12108 -> ▁chủ▁tàu\n",
      "12109 -> ▁mà▁Mỹ\n",
      "12110 -> nước▁này\n",
      "12111 -> ▁bô\n",
      "12112 -> ▁lên▁làm\n",
      "12113 -> ▁nhiều▁tranh\n",
      "12114 -> ▁ngày▁nào\n",
      "12115 -> ▁cả▁một\n"
     ]
    }
   ],
   "source": [
    "for index in range(12106, 12116):\n",
    "    print(index, \"->\", sp_model.IdToPiece(index))"
   ]
  },
  {
   "cell_type": "code",
   "execution_count": 12,
   "metadata": {},
   "outputs": [
    {
     "name": "stdout",
     "output_type": "stream",
     "text": [
      "['▁', 'An', '▁là', '▁m', 'ột', '▁th', 'ằ', 'ng', '▁', 'ng', 'u']\n",
      "['▁An', '▁là', '▁m', 'ột', '▁th', 'ằn', 'g', '▁', 'ng', 'u']\n",
      "['▁', 'A', 'n', '▁', 'l', 'à', '▁', 'mộ', 't', '▁', 't', 'h', 'ằng', '▁ngu']\n",
      "['▁', 'A', 'n', '▁là', '▁một', '▁', 'th', 'ằng', '▁ngu']\n",
      "['▁An', '▁l', 'à', '▁một', '▁', 't', 'h', 'ằng', '▁ngu']\n"
     ]
    }
   ],
   "source": [
    "for _ in range(5):\n",
    "    print(sp_model.encode('An là một thằng ngu', out_type=str, enable_sampling=True, alpha=0.1, nbest_size=-1))"
   ]
  }
 ],
 "metadata": {
  "kernelspec": {
   "display_name": "Python 3",
   "language": "python",
   "name": "python3"
  },
  "language_info": {
   "codemirror_mode": {
    "name": "ipython",
    "version": 3
   },
   "file_extension": ".py",
   "mimetype": "text/x-python",
   "name": "python",
   "nbconvert_exporter": "python",
   "pygments_lexer": "ipython3",
   "version": "3.12.2"
  }
 },
 "nbformat": 4,
 "nbformat_minor": 2
}
