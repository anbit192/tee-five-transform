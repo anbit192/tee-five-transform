{
 "cells": [
  {
   "cell_type": "code",
   "execution_count": 9,
   "metadata": {},
   "outputs": [],
   "source": [
    "import numpy as np\n",
    "import sentencepiece as spm\n",
    "import os\n",
    "from pathlib import Path"
   ]
  },
  {
   "cell_type": "code",
   "execution_count": 3,
   "metadata": {},
   "outputs": [
    {
     "data": {
      "text/plain": [
       "True"
      ]
     },
     "execution_count": 3,
     "metadata": {},
     "output_type": "execute_result"
    }
   ],
   "source": [
    "vocab_file = \"models/spiece.model\"\n",
    "sp_model = spm.SentencePieceProcessor()\n",
    "sp_model.load(vocab_file)"
   ]
  },
  {
   "cell_type": "code",
   "execution_count": 11,
   "metadata": {},
   "outputs": [],
   "source": [
    "path = Path(\"data/unprocessed/vietnews/test_tokenized\")"
   ]
  },
  {
   "cell_type": "code",
   "execution_count": 103,
   "metadata": {},
   "outputs": [],
   "source": [
    "files = os.listdir(path)"
   ]
  },
  {
   "cell_type": "code",
   "execution_count": 104,
   "metadata": {},
   "outputs": [],
   "source": [
    "f_names = []\n",
    "for f in files:\n",
    "    f_names.append(path / f)\n"
   ]
  },
  {
   "cell_type": "code",
   "execution_count": null,
   "metadata": {},
   "outputs": [],
   "source": [
    "spm.SentencePieceTrainer.train(\n",
    "    input=f_names,\n",
    "    model_prefix=\"models/trained_spiece1\",\n",
    "    vocab_size=5000,\n",
    "    split_by_whitespace=False,\n",
    "    unk_id=2,\n",
    "    bos_id=-1,\n",
    "    eos_id=1,\n",
    "    pad_id=0,\n",
    "    model_type=\"unigram\",\n",
    "    train_extremely_large_corpus=True,\n",
    "    character_coverage=1\n",
    ")"
   ]
  },
  {
   "cell_type": "code",
   "execution_count": 99,
   "metadata": {},
   "outputs": [
    {
     "data": {
      "text/plain": [
       "True"
      ]
     },
     "execution_count": 99,
     "metadata": {},
     "output_type": "execute_result"
    }
   ],
   "source": [
    "vocab_file = \"models/trained_spiece1.model\"\n",
    "sp_model = spm.SentencePieceProcessor()\n",
    "sp_model.load(vocab_file)"
   ]
  },
  {
   "cell_type": "code",
   "execution_count": 100,
   "metadata": {},
   "outputs": [
    {
     "data": {
      "text/plain": [
       "False"
      ]
     },
     "execution_count": 100,
     "metadata": {},
     "output_type": "execute_result"
    }
   ],
   "source": [
    "sp_model.is_unused(5)"
   ]
  },
  {
   "cell_type": "code",
   "execution_count": 93,
   "metadata": {},
   "outputs": [
    {
     "name": "stdout",
     "output_type": "stream",
     "text": [
      "0 -> <pad>\n",
      "1 -> </s>\n",
      "2 -> <unk>\n",
      "3 -> _\n",
      "4 -> ▁,\n",
      "5 -> ▁\n",
      "6 -> ▁.\n",
      "7 -> ng\n",
      "8 -> n\n",
      "9 -> i\n",
      "10 -> .\n",
      "11 -> ▁và\n",
      "12 -> đã\n",
      "13 -> ▁bị\n",
      "14 -> ▁người\n",
      "15 -> an\n",
      "16 -> ▁c\n",
      "17 -> ▁)\n",
      "18 -> (\n",
      "19 -> ▁có\n"
     ]
    }
   ],
   "source": [
    "for index in range(0, 20):\n",
    "    print(index, \"->\", sp_model.IdToPiece(index))"
   ]
  },
  {
   "cell_type": "code",
   "execution_count": 102,
   "metadata": {},
   "outputs": [
    {
     "name": "stdout",
     "output_type": "stream",
     "text": [
      "['▁khô', 'ng', '▁có', '▁', 'gì', '▁về', '▁t', 'ộ', 'i', '▁', 'đ', 'ị', 't', '▁', 'n', 'h', 'au']\n",
      "['▁', 'kh', 'ôn', 'g', '▁có', '▁g', 'ì', '▁về▁tội', '▁', 'đ', 'ị', 't', '▁n', 'h', 'au']\n",
      "['▁', 'k', 'hông', '▁có', '▁', 'gì', '▁về▁tội', '▁đ', 'ị', 't', '▁n', 'ha', 'u']\n",
      "['▁không▁có', '▁', 'gì', '▁về', '▁', 'tội', '▁đ', 'ị', 't', '▁', 'nh', 'au']\n",
      "['▁', 'không', '▁có', '▁', 'gì', '▁', 'về', '▁t', 'ộ', 'i', '▁đ', 'ị', 't', '▁', 'n', 'h', 'au']\n"
     ]
    }
   ],
   "source": [
    "for _ in range(5):\n",
    "    print(sp_model.encode('không có gì về tội địt nhau', out_type=str, enable_sampling=True, alpha=0.1, nbest_size=-1))"
   ]
  }
 ],
 "metadata": {
  "kernelspec": {
   "display_name": "Python 3",
   "language": "python",
   "name": "python3"
  },
  "language_info": {
   "codemirror_mode": {
    "name": "ipython",
    "version": 3
   },
   "file_extension": ".py",
   "mimetype": "text/x-python",
   "name": "python",
   "nbconvert_exporter": "python",
   "pygments_lexer": "ipython3",
   "version": "3.11.3"
  }
 },
 "nbformat": 4,
 "nbformat_minor": 2
}
