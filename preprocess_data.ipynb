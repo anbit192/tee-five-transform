{
 "cells": [
  {
   "cell_type": "code",
   "execution_count": 1,
   "metadata": {},
   "outputs": [],
   "source": [
    "import numpy as np\n",
    "import pandas as pd"
   ]
  },
  {
   "cell_type": "markdown",
   "metadata": {},
   "source": [
    "## Dataset \"data_summary.csv\""
   ]
  },
  {
   "cell_type": "code",
   "execution_count": 8,
   "metadata": {},
   "outputs": [],
   "source": [
    "df0 = pd.read_csv(\"data/data_summary.csv\")"
   ]
  },
  {
   "cell_type": "code",
   "execution_count": 9,
   "metadata": {},
   "outputs": [
    {
     "data": {
      "text/html": [
       "<div>\n",
       "<style scoped>\n",
       "    .dataframe tbody tr th:only-of-type {\n",
       "        vertical-align: middle;\n",
       "    }\n",
       "\n",
       "    .dataframe tbody tr th {\n",
       "        vertical-align: top;\n",
       "    }\n",
       "\n",
       "    .dataframe thead th {\n",
       "        text-align: right;\n",
       "    }\n",
       "</style>\n",
       "<table border=\"1\" class=\"dataframe\">\n",
       "  <thead>\n",
       "    <tr style=\"text-align: right;\">\n",
       "      <th></th>\n",
       "      <th>Unnamed: 0</th>\n",
       "      <th>Summary</th>\n",
       "      <th>Text</th>\n",
       "    </tr>\n",
       "  </thead>\n",
       "  <tbody>\n",
       "    <tr>\n",
       "      <th>0</th>\n",
       "      <td>0</td>\n",
       "      <td>Ngay khi bắt tay ai đó có thể chúng ta đã cảm ...</td>\n",
       "      <td>Tổng thống Mỹ Donald Trump và Tổng thống Pháp ...</td>\n",
       "    </tr>\n",
       "    <tr>\n",
       "      <th>1</th>\n",
       "      <td>1</td>\n",
       "      <td>Rời khỏi Việt Nam vào 10/2016, ông Vũ Đình Duy...</td>\n",
       "      <td>Vũ Đình Duy hồi tháng 5 xuất hiện trước tòa tạ...</td>\n",
       "    </tr>\n",
       "    <tr>\n",
       "      <th>2</th>\n",
       "      <td>2</td>\n",
       "      <td>Thủ tướng Iraq xác nhận với BBC rằng Syria khô...</td>\n",
       "      <td>Ông Maliki xác nhận các vụ không kích của Syri...</td>\n",
       "    </tr>\n",
       "    <tr>\n",
       "      <th>3</th>\n",
       "      <td>3</td>\n",
       "      <td>Người Việt Nam biết rất ít về ông Trump nhưng ...</td>\n",
       "      <td>Tiến sỹ Vũ Cao Phan tin rằng nếu được tiến hàn...</td>\n",
       "    </tr>\n",
       "    <tr>\n",
       "      <th>4</th>\n",
       "      <td>4</td>\n",
       "      <td>Bốn khoa học gia người Mỹ từng đoạt giải Nobel...</td>\n",
       "      <td>GS Jack Steinberger trao đổi với GS Lê Kim Ngọ...</td>\n",
       "    </tr>\n",
       "    <tr>\n",
       "      <th>5</th>\n",
       "      <td>5</td>\n",
       "      <td>Chính phủ Singapore cho hay cựu thủ tướng, ngư...</td>\n",
       "      <td>Lý Quang Diệu được cho là người đứng đằng sau...</td>\n",
       "    </tr>\n",
       "    <tr>\n",
       "      <th>6</th>\n",
       "      <td>6</td>\n",
       "      <td>Các thỏa thuận trị giá nhiều tỷ USD giữa Hoa K...</td>\n",
       "      <td>Tổng thống Mỹ Donald Trump và phu nhân tới Sau...</td>\n",
       "    </tr>\n",
       "    <tr>\n",
       "      <th>7</th>\n",
       "      <td>7</td>\n",
       "      <td>Kết thúc phiên kiểm định định kỳ phổ quát về t...</td>\n",
       "      <td>Ông Hà Kim Ngọc, Thứ trưởng Bộ Ngoại giao phát...</td>\n",
       "    </tr>\n",
       "    <tr>\n",
       "      <th>8</th>\n",
       "      <td>8</td>\n",
       "      <td>Liên đoàn Bóng đá Việt Nam xin lỗi đội tuyển I...</td>\n",
       "      <td>Trận đấu lượt về ở sân Mỹ Đình Đêm 7/12, sau t...</td>\n",
       "    </tr>\n",
       "    <tr>\n",
       "      <th>9</th>\n",
       "      <td>9</td>\n",
       "      <td>Tòa án tỉnh Đồng Nai vừa tuyên án tù ba nhà ho...</td>\n",
       "      <td>Bà Lê Thị Phương Anh (giữa) cùng chồng đã giúp...</td>\n",
       "    </tr>\n",
       "  </tbody>\n",
       "</table>\n",
       "</div>"
      ],
      "text/plain": [
       "   Unnamed: 0                                            Summary   \n",
       "0           0  Ngay khi bắt tay ai đó có thể chúng ta đã cảm ...  \\\n",
       "1           1  Rời khỏi Việt Nam vào 10/2016, ông Vũ Đình Duy...   \n",
       "2           2  Thủ tướng Iraq xác nhận với BBC rằng Syria khô...   \n",
       "3           3  Người Việt Nam biết rất ít về ông Trump nhưng ...   \n",
       "4           4  Bốn khoa học gia người Mỹ từng đoạt giải Nobel...   \n",
       "5           5  Chính phủ Singapore cho hay cựu thủ tướng, ngư...   \n",
       "6           6  Các thỏa thuận trị giá nhiều tỷ USD giữa Hoa K...   \n",
       "7           7  Kết thúc phiên kiểm định định kỳ phổ quát về t...   \n",
       "8           8  Liên đoàn Bóng đá Việt Nam xin lỗi đội tuyển I...   \n",
       "9           9  Tòa án tỉnh Đồng Nai vừa tuyên án tù ba nhà ho...   \n",
       "\n",
       "                                                Text  \n",
       "0  Tổng thống Mỹ Donald Trump và Tổng thống Pháp ...  \n",
       "1  Vũ Đình Duy hồi tháng 5 xuất hiện trước tòa tạ...  \n",
       "2  Ông Maliki xác nhận các vụ không kích của Syri...  \n",
       "3  Tiến sỹ Vũ Cao Phan tin rằng nếu được tiến hàn...  \n",
       "4  GS Jack Steinberger trao đổi với GS Lê Kim Ngọ...  \n",
       "5  Lý Quang Diệu được cho là người đứng đằng sau...  \n",
       "6  Tổng thống Mỹ Donald Trump và phu nhân tới Sau...  \n",
       "7  Ông Hà Kim Ngọc, Thứ trưởng Bộ Ngoại giao phát...  \n",
       "8  Trận đấu lượt về ở sân Mỹ Đình Đêm 7/12, sau t...  \n",
       "9  Bà Lê Thị Phương Anh (giữa) cùng chồng đã giúp...  "
      ]
     },
     "execution_count": 9,
     "metadata": {},
     "output_type": "execute_result"
    }
   ],
   "source": [
    "df0.head(10)"
   ]
  },
  {
   "cell_type": "code",
   "execution_count": 11,
   "metadata": {},
   "outputs": [],
   "source": [
    "df0 = df0.iloc[:, 1:]"
   ]
  },
  {
   "cell_type": "markdown",
   "metadata": {},
   "source": [
    "## Dataset \"haianhjobs.csv\""
   ]
  },
  {
   "cell_type": "code",
   "execution_count": 13,
   "metadata": {},
   "outputs": [
    {
     "data": {
      "text/plain": [
       "(102681, 2)"
      ]
     },
     "execution_count": 13,
     "metadata": {},
     "output_type": "execute_result"
    }
   ],
   "source": []
  }
 ],
 "metadata": {
  "kernelspec": {
   "display_name": "Python 3",
   "language": "python",
   "name": "python3"
  },
  "language_info": {
   "codemirror_mode": {
    "name": "ipython",
    "version": 3
   },
   "file_extension": ".py",
   "mimetype": "text/x-python",
   "name": "python",
   "nbconvert_exporter": "python",
   "pygments_lexer": "ipython3",
   "version": "3.11.3"
  }
 },
 "nbformat": 4,
 "nbformat_minor": 2
}
