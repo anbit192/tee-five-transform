{
 "cells": [
  {
   "cell_type": "code",
   "execution_count": 15,
   "metadata": {},
   "outputs": [],
   "source": [
    "import pandas as pd"
   ]
  },
  {
   "cell_type": "code",
   "execution_count": 16,
   "metadata": {},
   "outputs": [],
   "source": [
    "dataset = pd.read_csv('data/processed/openhust_with_id.csv')"
   ]
  },
  {
   "cell_type": "code",
   "execution_count": 17,
   "metadata": {},
   "outputs": [
    {
     "data": {
      "text/html": [
       "<div>\n",
       "<style scoped>\n",
       "    .dataframe tbody tr th:only-of-type {\n",
       "        vertical-align: middle;\n",
       "    }\n",
       "\n",
       "    .dataframe tbody tr th {\n",
       "        vertical-align: top;\n",
       "    }\n",
       "\n",
       "    .dataframe thead th {\n",
       "        text-align: right;\n",
       "    }\n",
       "</style>\n",
       "<table border=\"1\" class=\"dataframe\">\n",
       "  <thead>\n",
       "    <tr style=\"text-align: right;\">\n",
       "      <th></th>\n",
       "      <th>ID</th>\n",
       "      <th>Document</th>\n",
       "      <th>Summary</th>\n",
       "      <th>Dataset</th>\n",
       "    </tr>\n",
       "  </thead>\n",
       "  <tbody>\n",
       "    <tr>\n",
       "      <th>0</th>\n",
       "      <td>1</td>\n",
       "      <td>Theo đó , các sở , ngành trên địa bàn phải vào...</td>\n",
       "      <td>Các quận , huyện , thị xã tuyên truyền bằng nh...</td>\n",
       "      <td>vietnews</td>\n",
       "    </tr>\n",
       "    <tr>\n",
       "      <th>1</th>\n",
       "      <td>2</td>\n",
       "      <td>Chiều 12/3 , ông Vũ Hùng Triều , Trưởng phòng ...</td>\n",
       "      <td>Cháu bé được phát hiện trong tình trạng chưa c...</td>\n",
       "      <td>vietnews</td>\n",
       "    </tr>\n",
       "    <tr>\n",
       "      <th>2</th>\n",
       "      <td>3</td>\n",
       "      <td>Thoạt đầu nhìn vào bức ảnh , nếu không có dấu ...</td>\n",
       "      <td>Báo tuyết ( Panthera uncia ) được mệnh danh là...</td>\n",
       "      <td>vietnews</td>\n",
       "    </tr>\n",
       "    <tr>\n",
       "      <th>3</th>\n",
       "      <td>4</td>\n",
       "      <td>Khoảng 9h30 sáng 5/6 , anh Đào Nhật Tuấn ( 30 ...</td>\n",
       "      <td>Thấy con chim bị mắc bẫy rơi xuống hồ nước , a...</td>\n",
       "      <td>vietnews</td>\n",
       "    </tr>\n",
       "    <tr>\n",
       "      <th>4</th>\n",
       "      <td>5</td>\n",
       "      <td>Liên minh Tự do Dân sự Mỹ ( ACLU ) đã nhận đượ...</td>\n",
       "      <td>Loại \" huyết thanh nói thật \" mà CIA sử dụng đ...</td>\n",
       "      <td>vietnews</td>\n",
       "    </tr>\n",
       "  </tbody>\n",
       "</table>\n",
       "</div>"
      ],
      "text/plain": [
       "   ID                                           Document  \\\n",
       "0   1  Theo đó , các sở , ngành trên địa bàn phải vào...   \n",
       "1   2  Chiều 12/3 , ông Vũ Hùng Triều , Trưởng phòng ...   \n",
       "2   3  Thoạt đầu nhìn vào bức ảnh , nếu không có dấu ...   \n",
       "3   4  Khoảng 9h30 sáng 5/6 , anh Đào Nhật Tuấn ( 30 ...   \n",
       "4   5  Liên minh Tự do Dân sự Mỹ ( ACLU ) đã nhận đượ...   \n",
       "\n",
       "                                             Summary   Dataset  \n",
       "0  Các quận , huyện , thị xã tuyên truyền bằng nh...  vietnews  \n",
       "1  Cháu bé được phát hiện trong tình trạng chưa c...  vietnews  \n",
       "2  Báo tuyết ( Panthera uncia ) được mệnh danh là...  vietnews  \n",
       "3  Thấy con chim bị mắc bẫy rơi xuống hồ nước , a...  vietnews  \n",
       "4  Loại \" huyết thanh nói thật \" mà CIA sử dụng đ...  vietnews  "
      ]
     },
     "execution_count": 17,
     "metadata": {},
     "output_type": "execute_result"
    }
   ],
   "source": [
    "dataset.head()"
   ]
  },
  {
   "cell_type": "code",
   "execution_count": 18,
   "metadata": {},
   "outputs": [],
   "source": [
    "dataset.rename(columns={'Document': 'Text'}, inplace=True)"
   ]
  },
  {
   "cell_type": "code",
   "execution_count": 19,
   "metadata": {},
   "outputs": [],
   "source": [
    "dataset = dataset[['Summary','Text']]\n",
    "dataset = dataset.head(10000)"
   ]
  },
  {
   "cell_type": "code",
   "execution_count": 20,
   "metadata": {},
   "outputs": [
    {
     "data": {
      "text/html": [
       "<div>\n",
       "<style scoped>\n",
       "    .dataframe tbody tr th:only-of-type {\n",
       "        vertical-align: middle;\n",
       "    }\n",
       "\n",
       "    .dataframe tbody tr th {\n",
       "        vertical-align: top;\n",
       "    }\n",
       "\n",
       "    .dataframe thead th {\n",
       "        text-align: right;\n",
       "    }\n",
       "</style>\n",
       "<table border=\"1\" class=\"dataframe\">\n",
       "  <thead>\n",
       "    <tr style=\"text-align: right;\">\n",
       "      <th></th>\n",
       "      <th>Summary</th>\n",
       "      <th>Text</th>\n",
       "    </tr>\n",
       "  </thead>\n",
       "  <tbody>\n",
       "    <tr>\n",
       "      <th>0</th>\n",
       "      <td>Các quận , huyện , thị xã tuyên truyền bằng nh...</td>\n",
       "      <td>Theo đó , các sở , ngành trên địa bàn phải vào...</td>\n",
       "    </tr>\n",
       "    <tr>\n",
       "      <th>1</th>\n",
       "      <td>Cháu bé được phát hiện trong tình trạng chưa c...</td>\n",
       "      <td>Chiều 12/3 , ông Vũ Hùng Triều , Trưởng phòng ...</td>\n",
       "    </tr>\n",
       "    <tr>\n",
       "      <th>2</th>\n",
       "      <td>Báo tuyết ( Panthera uncia ) được mệnh danh là...</td>\n",
       "      <td>Thoạt đầu nhìn vào bức ảnh , nếu không có dấu ...</td>\n",
       "    </tr>\n",
       "    <tr>\n",
       "      <th>3</th>\n",
       "      <td>Thấy con chim bị mắc bẫy rơi xuống hồ nước , a...</td>\n",
       "      <td>Khoảng 9h30 sáng 5/6 , anh Đào Nhật Tuấn ( 30 ...</td>\n",
       "    </tr>\n",
       "    <tr>\n",
       "      <th>4</th>\n",
       "      <td>Loại \" huyết thanh nói thật \" mà CIA sử dụng đ...</td>\n",
       "      <td>Liên minh Tự do Dân sự Mỹ ( ACLU ) đã nhận đượ...</td>\n",
       "    </tr>\n",
       "  </tbody>\n",
       "</table>\n",
       "</div>"
      ],
      "text/plain": [
       "                                             Summary  \\\n",
       "0  Các quận , huyện , thị xã tuyên truyền bằng nh...   \n",
       "1  Cháu bé được phát hiện trong tình trạng chưa c...   \n",
       "2  Báo tuyết ( Panthera uncia ) được mệnh danh là...   \n",
       "3  Thấy con chim bị mắc bẫy rơi xuống hồ nước , a...   \n",
       "4  Loại \" huyết thanh nói thật \" mà CIA sử dụng đ...   \n",
       "\n",
       "                                                Text  \n",
       "0  Theo đó , các sở , ngành trên địa bàn phải vào...  \n",
       "1  Chiều 12/3 , ông Vũ Hùng Triều , Trưởng phòng ...  \n",
       "2  Thoạt đầu nhìn vào bức ảnh , nếu không có dấu ...  \n",
       "3  Khoảng 9h30 sáng 5/6 , anh Đào Nhật Tuấn ( 30 ...  \n",
       "4  Liên minh Tự do Dân sự Mỹ ( ACLU ) đã nhận đượ...  "
      ]
     },
     "execution_count": 20,
     "metadata": {},
     "output_type": "execute_result"
    }
   ],
   "source": [
    "dataset.head()"
   ]
  },
  {
   "cell_type": "code",
   "execution_count": 21,
   "metadata": {},
   "outputs": [],
   "source": [
    "from datasets import Dataset\n",
    "dataset = Dataset.from_pandas(dataset)"
   ]
  },
  {
   "cell_type": "code",
   "execution_count": 22,
   "metadata": {},
   "outputs": [
    {
     "name": "stdout",
     "output_type": "stream",
     "text": [
      "Dataset({\n",
      "    features: ['Summary', 'Text'],\n",
      "    num_rows: 8000\n",
      "})\n",
      "Dataset({\n",
      "    features: ['Summary', 'Text'],\n",
      "    num_rows: 2000\n",
      "})\n"
     ]
    }
   ],
   "source": [
    "full_dataset = dataset.train_test_split(test_size=0.2, shuffle=True)\n",
    "dataset_train = full_dataset['train']\n",
    "dataset_valid = full_dataset['test']\n",
    "\n",
    "print(dataset_train)\n",
    "print(dataset_valid)"
   ]
  },
  {
   "cell_type": "code",
   "execution_count": 25,
   "metadata": {},
   "outputs": [],
   "source": [
    "import torch\n",
    "import pprint\n",
    "import evaluate\n",
    "import numpy as np"
   ]
  },
  {
   "cell_type": "code",
   "execution_count": 26,
   "metadata": {},
   "outputs": [],
   "source": [
    "from transformers import (\n",
    "    T5Tokenizer,\n",
    "    T5ForConditionalGeneration,\n",
    "    TrainingArguments,\n",
    "    Trainer\n",
    ")"
   ]
  },
  {
   "cell_type": "code",
   "execution_count": 27,
   "metadata": {},
   "outputs": [],
   "source": [
    "MODEL = 't5-small'\n",
    "BATCH_SIZE = 4\n",
    "NUM_PROCS = 4\n",
    "EPOCHS = 5\n",
    "OUT_DIR = './result666'\n",
    "MAX_LENGTH = 512 "
   ]
  },
  {
   "cell_type": "code",
   "execution_count": 28,
   "metadata": {},
   "outputs": [
    {
     "name": "stderr",
     "output_type": "stream",
     "text": [
      "You are using the default legacy behaviour of the <class 'transformers.models.t5.tokenization_t5.T5Tokenizer'>. This is expected, and simply means that the `legacy` (previous) behavior will be used so nothing changes for you. If you want to use the new behaviour, set `legacy=False`. This should only be set if you understand what it means, and thoroughly read the reason why this was added as explained in https://github.com/huggingface/transformers/pull/24565\n"
     ]
    }
   ],
   "source": [
    "tokenizer = T5Tokenizer('models/trained_spiece.model')"
   ]
  },
  {
   "cell_type": "code",
   "execution_count": 29,
   "metadata": {},
   "outputs": [
    {
     "data": {
      "application/vnd.jupyter.widget-view+json": {
       "model_id": "f6911fbd22e74f139525c3801f3e2b17",
       "version_major": 2,
       "version_minor": 0
      },
      "text/plain": [
       "Map (num_proc=4):   0%|          | 0/8000 [00:00<?, ? examples/s]"
      ]
     },
     "metadata": {},
     "output_type": "display_data"
    },
    {
     "data": {
      "application/vnd.jupyter.widget-view+json": {
       "model_id": "4ed5e764d7a8491abeba19dcf306dacc",
       "version_major": 2,
       "version_minor": 0
      },
      "text/plain": [
       "Map (num_proc=4):   0%|          | 0/2000 [00:00<?, ? examples/s]"
      ]
     },
     "metadata": {},
     "output_type": "display_data"
    }
   ],
   "source": [
    "from functools import partial\n",
    "from transformers import T5Tokenizer\n",
    "\n",
    "# Initialize the tokenizer\n",
    "# tokenizer = T5Tokenizer.from_pretrained(MODEL)\n",
    "tokenizer = T5Tokenizer('models/trained_spiece.model')\n",
    "# Function to convert text data into model inputs and targets\n",
    "def preprocess_function(examples, tokenizer):\n",
    "    inputs = [f\"summarize: {text}\" for text in examples['Text']]\n",
    "    model_inputs = tokenizer(\n",
    "        inputs,\n",
    "        max_length=512,\n",
    "        truncation=True,\n",
    "        padding='max_length'\n",
    "    )\n",
    "\n",
    "    # Set up the tokenizer for targets\n",
    "    targets = [summary for summary in examples['Summary']]\n",
    "    with tokenizer.as_target_tokenizer():\n",
    "        labels = tokenizer(\n",
    "            targets,\n",
    "            max_length=512,\n",
    "            truncation=True,\n",
    "            padding='max_length'\n",
    "        )\n",
    "\n",
    "    model_inputs[\"labels\"] = labels[\"input_ids\"]\n",
    "    return model_inputs\n",
    "\n",
    "# Create a partial function with the tokenizer\n",
    "preprocess_function_with_tokenizer = partial(preprocess_function, tokenizer=tokenizer)\n",
    "\n",
    "# Apply the function to the whole dataset\n",
    "tokenized_train = dataset_train.map(\n",
    "    preprocess_function_with_tokenizer,\n",
    "    batched=True,\n",
    "    num_proc=NUM_PROCS\n",
    ")\n",
    "tokenized_valid = dataset_valid.map(\n",
    "    preprocess_function_with_tokenizer,\n",
    "    batched=True,\n",
    "    num_proc=NUM_PROCS\n",
    ")\n"
   ]
  },
  {
   "cell_type": "code",
   "execution_count": 30,
   "metadata": {},
   "outputs": [
    {
     "name": "stdout",
     "output_type": "stream",
     "text": [
      "cuda\n"
     ]
    }
   ],
   "source": [
    "device = torch.device(\"cuda\" if torch.cuda.is_available() else \"cpu\")\n",
    "print(device)"
   ]
  },
  {
   "cell_type": "code",
   "execution_count": 31,
   "metadata": {},
   "outputs": [
    {
     "name": "stdout",
     "output_type": "stream",
     "text": [
      "60,506,624 total parameters.\n",
      "60,506,624 training parameters.\n"
     ]
    }
   ],
   "source": [
    "model = T5ForConditionalGeneration.from_pretrained(MODEL)\n",
    "device = torch.device(\"cuda\" if torch.cuda.is_available() else \"cpu\")\n",
    "model.to(device)\n",
    "# Total parameters and trainable parameters.\n",
    "total_params = sum(p.numel() for p in model.parameters())\n",
    "print(f\"{total_params:,} total parameters.\")\n",
    "total_trainable_params = sum(\n",
    "    p.numel() for p in model.parameters() if p.requires_grad)\n",
    "print(f\"{total_trainable_params:,} training parameters.\")"
   ]
  },
  {
   "cell_type": "code",
   "execution_count": 32,
   "metadata": {},
   "outputs": [],
   "source": [
    "rouge = evaluate.load(\"rouge\")\n",
    " \n",
    "def compute_metrics(eval_pred):\n",
    "    predictions, labels = eval_pred.predictions[0], eval_pred.label_ids\n",
    " \n",
    "    decoded_preds = tokenizer.batch_decode(predictions, skip_special_tokens=True)\n",
    "    labels = np.where(labels != -100, labels, tokenizer.pad_token_id)\n",
    "    decoded_labels = tokenizer.batch_decode(labels, skip_special_tokens=True)\n",
    " \n",
    "    result = rouge.compute(\n",
    "        predictions=decoded_preds,\n",
    "        references=decoded_labels,\n",
    "        use_stemmer=True,\n",
    "        rouge_types=[\n",
    "            'rouge1',\n",
    "            'rouge2',\n",
    "            'rougeL'\n",
    "        ]\n",
    "    )\n",
    " \n",
    "    prediction_lens = [np.count_nonzero(pred != tokenizer.pad_token_id) for pred in predictions]\n",
    "    result[\"gen_len\"] = np.mean(prediction_lens)\n",
    " \n",
    "    return {k: round(v, 4) for k, v in result.items()}"
   ]
  },
  {
   "cell_type": "code",
   "execution_count": 33,
   "metadata": {},
   "outputs": [],
   "source": [
    "def preprocess_logits_for_metrics(logits, labels):\n",
    "    \"\"\"\n",
    "    Original Trainer may have a memory leak.\n",
    "    This is a workaround to avoid storing too many tensors that are not needed.\n",
    "    \"\"\"\n",
    "    pred_ids = torch.argmax(logits[0], dim=-1)\n",
    "    return pred_ids, labels"
   ]
  },
  {
   "cell_type": "code",
   "execution_count": 35,
   "metadata": {},
   "outputs": [
    {
     "data": {
      "application/vnd.jupyter.widget-view+json": {
       "model_id": "3f9d778851a8488799df5c9c72f30288",
       "version_major": 2,
       "version_minor": 0
      },
      "text/plain": [
       "  0%|          | 0/10000 [00:00<?, ?it/s]"
      ]
     },
     "metadata": {},
     "output_type": "display_data"
    },
    {
     "name": "stdout",
     "output_type": "stream",
     "text": [
      "{'loss': 0.5505, 'grad_norm': 0.6501509547233582, 'learning_rate': 2.0000000000000003e-06, 'epoch': 0.01}\n",
      "{'loss': 0.55, 'grad_norm': 0.5168552398681641, 'learning_rate': 4.000000000000001e-06, 'epoch': 0.01}\n",
      "{'loss': 0.548, 'grad_norm': 0.7078872323036194, 'learning_rate': 6e-06, 'epoch': 0.01}\n",
      "{'loss': 0.5454, 'grad_norm': 0.5406089425086975, 'learning_rate': 8.000000000000001e-06, 'epoch': 0.02}\n",
      "{'loss': 0.5765, 'grad_norm': 0.7442662119865417, 'learning_rate': 1e-05, 'epoch': 0.03}\n",
      "{'loss': 0.6236, 'grad_norm': 0.6773218512535095, 'learning_rate': 1.2e-05, 'epoch': 0.03}\n",
      "{'loss': 0.511, 'grad_norm': 0.5719890594482422, 'learning_rate': 1.4000000000000001e-05, 'epoch': 0.04}\n",
      "{'loss': 0.5632, 'grad_norm': 0.8859125375747681, 'learning_rate': 1.6000000000000003e-05, 'epoch': 0.04}\n",
      "{'loss': 0.6622, 'grad_norm': 0.5398176312446594, 'learning_rate': 1.8e-05, 'epoch': 0.04}\n",
      "{'loss': 0.5168, 'grad_norm': 0.4715711772441864, 'learning_rate': 2e-05, 'epoch': 0.05}\n",
      "{'loss': 0.5524, 'grad_norm': 0.5862374901771545, 'learning_rate': 2.2000000000000003e-05, 'epoch': 0.06}\n",
      "{'loss': 0.4938, 'grad_norm': 0.4532793462276459, 'learning_rate': 2.4e-05, 'epoch': 0.06}\n",
      "{'loss': 0.5543, 'grad_norm': 1.052884817123413, 'learning_rate': 2.6000000000000002e-05, 'epoch': 0.07}\n",
      "{'loss': 0.474, 'grad_norm': 0.6535212397575378, 'learning_rate': 2.8000000000000003e-05, 'epoch': 0.07}\n",
      "{'loss': 0.6136, 'grad_norm': 0.5159668922424316, 'learning_rate': 3e-05, 'epoch': 0.07}\n",
      "{'loss': 0.5559, 'grad_norm': 0.5090880393981934, 'learning_rate': 3.2000000000000005e-05, 'epoch': 0.08}\n",
      "{'loss': 0.5313, 'grad_norm': 0.695196807384491, 'learning_rate': 3.4000000000000007e-05, 'epoch': 0.09}\n",
      "{'loss': 0.5455, 'grad_norm': 0.6866642236709595, 'learning_rate': 3.6e-05, 'epoch': 0.09}\n",
      "{'loss': 0.4377, 'grad_norm': 0.49583423137664795, 'learning_rate': 3.8e-05, 'epoch': 0.1}\n",
      "{'loss': 0.5246, 'grad_norm': 0.5174790620803833, 'learning_rate': 4e-05, 'epoch': 0.1}\n",
      "{'loss': 0.5077, 'grad_norm': 0.8005548715591431, 'learning_rate': 4.2e-05, 'epoch': 0.1}\n",
      "{'loss': 0.5506, 'grad_norm': 0.44832491874694824, 'learning_rate': 4.4000000000000006e-05, 'epoch': 0.11}\n",
      "{'loss': 0.5468, 'grad_norm': 0.7234439849853516, 'learning_rate': 4.600000000000001e-05, 'epoch': 0.12}\n",
      "{'loss': 0.5438, 'grad_norm': 0.5112925171852112, 'learning_rate': 4.8e-05, 'epoch': 0.12}\n",
      "{'loss': 0.4977, 'grad_norm': 0.32711902260780334, 'learning_rate': 5e-05, 'epoch': 0.12}\n",
      "{'loss': 0.6125, 'grad_norm': 0.4963498115539551, 'learning_rate': 5.2000000000000004e-05, 'epoch': 0.13}\n",
      "{'loss': 0.5358, 'grad_norm': 0.42399123311042786, 'learning_rate': 5.4000000000000005e-05, 'epoch': 0.14}\n",
      "{'loss': 0.4877, 'grad_norm': 0.5455540418624878, 'learning_rate': 5.6000000000000006e-05, 'epoch': 0.14}\n",
      "{'loss': 0.4975, 'grad_norm': 0.4730430841445923, 'learning_rate': 5.8e-05, 'epoch': 0.14}\n",
      "{'loss': 0.5324, 'grad_norm': 0.5718210339546204, 'learning_rate': 6e-05, 'epoch': 0.15}\n",
      "{'loss': 0.528, 'grad_norm': 0.6782892942428589, 'learning_rate': 6.2e-05, 'epoch': 0.15}\n",
      "{'loss': 0.4553, 'grad_norm': 0.502799391746521, 'learning_rate': 6.400000000000001e-05, 'epoch': 0.16}\n",
      "{'loss': 0.6241, 'grad_norm': 3.786625385284424, 'learning_rate': 6.6e-05, 'epoch': 0.17}\n",
      "{'loss': 0.4693, 'grad_norm': 0.5496135950088501, 'learning_rate': 6.800000000000001e-05, 'epoch': 0.17}\n",
      "{'loss': 0.4591, 'grad_norm': 0.4602925777435303, 'learning_rate': 7e-05, 'epoch': 0.17}\n",
      "{'loss': 0.4905, 'grad_norm': 0.4984307289123535, 'learning_rate': 7.2e-05, 'epoch': 0.18}\n",
      "{'loss': 0.4201, 'grad_norm': 0.43380191922187805, 'learning_rate': 7.4e-05, 'epoch': 0.18}\n",
      "{'loss': 0.5384, 'grad_norm': 0.37543705105781555, 'learning_rate': 7.6e-05, 'epoch': 0.19}\n",
      "{'loss': 0.4912, 'grad_norm': 0.4702090919017792, 'learning_rate': 7.800000000000001e-05, 'epoch': 0.2}\n",
      "{'loss': 0.4096, 'grad_norm': 0.47080013155937195, 'learning_rate': 8e-05, 'epoch': 0.2}\n"
     ]
    },
    {
     "data": {
      "application/vnd.jupyter.widget-view+json": {
       "model_id": "e6d552b9b83f470b98859b151569b4bc",
       "version_major": 2,
       "version_minor": 0
      },
      "text/plain": [
       "  0%|          | 0/500 [00:00<?, ?it/s]"
      ]
     },
     "metadata": {},
     "output_type": "display_data"
    },
    {
     "name": "stdout",
     "output_type": "stream",
     "text": [
      "{'eval_loss': 0.47695666551589966, 'eval_rouge1': 0.6112, 'eval_rouge2': 0.31, 'eval_rougeL': 0.4628, 'eval_gen_len': 42.2295, 'eval_runtime': 93.3387, 'eval_samples_per_second': 21.427, 'eval_steps_per_second': 5.357, 'epoch': 0.2}\n",
      "{'loss': 0.5204, 'grad_norm': 0.6771959066390991, 'learning_rate': 8.2e-05, 'epoch': 0.2}\n",
      "{'loss': 0.5303, 'grad_norm': 0.4466670751571655, 'learning_rate': 8.4e-05, 'epoch': 0.21}\n",
      "{'loss': 0.4724, 'grad_norm': 0.5213791131973267, 'learning_rate': 8.6e-05, 'epoch': 0.21}\n",
      "{'loss': 0.5627, 'grad_norm': 0.605518102645874, 'learning_rate': 8.800000000000001e-05, 'epoch': 0.22}\n",
      "{'loss': 0.4768, 'grad_norm': 0.3355215787887573, 'learning_rate': 9e-05, 'epoch': 0.23}\n",
      "{'loss': 0.4898, 'grad_norm': 0.30185094475746155, 'learning_rate': 9.200000000000001e-05, 'epoch': 0.23}\n",
      "{'loss': 0.5331, 'grad_norm': 0.6162463426589966, 'learning_rate': 9.4e-05, 'epoch': 0.23}\n",
      "{'loss': 0.473, 'grad_norm': 1.788686752319336, 'learning_rate': 9.6e-05, 'epoch': 0.24}\n",
      "{'loss': 0.4675, 'grad_norm': 0.3609655201435089, 'learning_rate': 9.8e-05, 'epoch': 0.24}\n",
      "{'loss': 0.4835, 'grad_norm': 0.693398654460907, 'learning_rate': 0.0001, 'epoch': 0.25}\n",
      "{'loss': 0.558, 'grad_norm': 0.3850122392177582, 'learning_rate': 9.989473684210526e-05, 'epoch': 0.26}\n",
      "{'loss': 0.4551, 'grad_norm': 0.431601345539093, 'learning_rate': 9.978947368421054e-05, 'epoch': 0.26}\n",
      "{'loss': 0.524, 'grad_norm': 0.532508134841919, 'learning_rate': 9.968421052631578e-05, 'epoch': 0.27}\n",
      "{'loss': 0.485, 'grad_norm': 0.35312262177467346, 'learning_rate': 9.957894736842106e-05, 'epoch': 0.27}\n",
      "{'loss': 0.4916, 'grad_norm': 0.43991485238075256, 'learning_rate': 9.947368421052632e-05, 'epoch': 0.28}\n",
      "{'loss': 0.5371, 'grad_norm': 0.42040714621543884, 'learning_rate': 9.936842105263159e-05, 'epoch': 0.28}\n",
      "{'loss': 0.5028, 'grad_norm': 0.6089707016944885, 'learning_rate': 9.926315789473685e-05, 'epoch': 0.28}\n",
      "{'loss': 0.4359, 'grad_norm': 0.5754465460777283, 'learning_rate': 9.915789473684211e-05, 'epoch': 0.29}\n",
      "{'loss': 0.5569, 'grad_norm': 0.5226308703422546, 'learning_rate': 9.905263157894737e-05, 'epoch': 0.29}\n",
      "{'loss': 0.5706, 'grad_norm': 0.3606994152069092, 'learning_rate': 9.894736842105263e-05, 'epoch': 0.3}\n",
      "{'loss': 0.4132, 'grad_norm': 0.6541209816932678, 'learning_rate': 9.88421052631579e-05, 'epoch': 0.3}\n",
      "{'loss': 0.4599, 'grad_norm': 0.5455758571624756, 'learning_rate': 9.873684210526316e-05, 'epoch': 0.31}\n",
      "{'loss': 0.5159, 'grad_norm': 0.3402433693408966, 'learning_rate': 9.863157894736842e-05, 'epoch': 0.32}\n",
      "{'loss': 0.4611, 'grad_norm': 0.32987290620803833, 'learning_rate': 9.852631578947368e-05, 'epoch': 0.32}\n",
      "{'loss': 0.479, 'grad_norm': 0.43627896904945374, 'learning_rate': 9.842105263157894e-05, 'epoch': 0.33}\n",
      "{'loss': 0.4453, 'grad_norm': 0.3718307316303253, 'learning_rate': 9.831578947368422e-05, 'epoch': 0.33}\n",
      "{'loss': 0.4543, 'grad_norm': 0.4508320391178131, 'learning_rate': 9.821052631578948e-05, 'epoch': 0.34}\n",
      "{'loss': 0.4846, 'grad_norm': 0.411609023809433, 'learning_rate': 9.810526315789475e-05, 'epoch': 0.34}\n",
      "{'loss': 0.4149, 'grad_norm': 0.49861714243888855, 'learning_rate': 9.8e-05, 'epoch': 0.34}\n",
      "{'loss': 0.4214, 'grad_norm': 0.32198578119277954, 'learning_rate': 9.789473684210527e-05, 'epoch': 0.35}\n",
      "{'loss': 0.4294, 'grad_norm': 0.3302677273750305, 'learning_rate': 9.778947368421053e-05, 'epoch': 0.35}\n",
      "{'loss': 0.4122, 'grad_norm': 0.498819500207901, 'learning_rate': 9.768421052631579e-05, 'epoch': 0.36}\n",
      "{'loss': 0.4323, 'grad_norm': 0.29581648111343384, 'learning_rate': 9.757894736842106e-05, 'epoch': 0.36}\n",
      "{'loss': 0.4713, 'grad_norm': 0.3745613396167755, 'learning_rate': 9.747368421052632e-05, 'epoch': 0.37}\n",
      "{'loss': 0.4245, 'grad_norm': 0.3135053813457489, 'learning_rate': 9.736842105263158e-05, 'epoch': 0.38}\n",
      "{'loss': 0.4158, 'grad_norm': 0.48774978518486023, 'learning_rate': 9.726315789473684e-05, 'epoch': 0.38}\n",
      "{'loss': 0.4302, 'grad_norm': 0.3877013921737671, 'learning_rate': 9.715789473684212e-05, 'epoch': 0.39}\n",
      "{'loss': 0.5124, 'grad_norm': 0.4352068305015564, 'learning_rate': 9.705263157894738e-05, 'epoch': 0.39}\n",
      "{'loss': 0.4688, 'grad_norm': 0.42132893204689026, 'learning_rate': 9.694736842105264e-05, 'epoch': 0.4}\n",
      "{'loss': 0.417, 'grad_norm': 0.375110000371933, 'learning_rate': 9.68421052631579e-05, 'epoch': 0.4}\n"
     ]
    },
    {
     "data": {
      "application/vnd.jupyter.widget-view+json": {
       "model_id": "6b26e6ba9dc44cedbc9a0ab35f9628ee",
       "version_major": 2,
       "version_minor": 0
      },
      "text/plain": [
       "  0%|          | 0/500 [00:00<?, ?it/s]"
      ]
     },
     "metadata": {},
     "output_type": "display_data"
    },
    {
     "name": "stdout",
     "output_type": "stream",
     "text": [
      "{'eval_loss': 0.4514653980731964, 'eval_rouge1': 0.6171, 'eval_rouge2': 0.3189, 'eval_rougeL': 0.4718, 'eval_gen_len': 43.0795, 'eval_runtime': 91.8426, 'eval_samples_per_second': 21.776, 'eval_steps_per_second': 5.444, 'epoch': 0.4}\n",
      "{'loss': 0.5209, 'grad_norm': 0.42755332589149475, 'learning_rate': 9.673684210526316e-05, 'epoch': 0.41}\n",
      "{'loss': 0.4757, 'grad_norm': 0.31793132424354553, 'learning_rate': 9.663157894736843e-05, 'epoch': 0.41}\n",
      "{'loss': 0.4313, 'grad_norm': 0.45539724826812744, 'learning_rate': 9.652631578947369e-05, 'epoch': 0.41}\n",
      "{'loss': 0.4242, 'grad_norm': 0.33187028765678406, 'learning_rate': 9.642105263157896e-05, 'epoch': 0.42}\n",
      "{'loss': 0.4605, 'grad_norm': 0.34293368458747864, 'learning_rate': 9.631578947368421e-05, 'epoch': 0.42}\n",
      "{'loss': 0.4022, 'grad_norm': 0.4436727464199066, 'learning_rate': 9.621052631578947e-05, 'epoch': 0.43}\n",
      "{'loss': 0.4799, 'grad_norm': 0.3932771682739258, 'learning_rate': 9.610526315789474e-05, 'epoch': 0.43}\n",
      "{'loss': 0.3722, 'grad_norm': 0.45506995916366577, 'learning_rate': 9.6e-05, 'epoch': 0.44}\n",
      "{'loss': 0.5075, 'grad_norm': 0.6019617915153503, 'learning_rate': 9.589473684210528e-05, 'epoch': 0.45}\n",
      "{'loss': 0.4012, 'grad_norm': 0.39507758617401123, 'learning_rate': 9.578947368421052e-05, 'epoch': 0.45}\n",
      "{'loss': 0.4556, 'grad_norm': 0.49061110615730286, 'learning_rate': 9.56842105263158e-05, 'epoch': 0.46}\n",
      "{'loss': 0.4774, 'grad_norm': 0.47669923305511475, 'learning_rate': 9.557894736842106e-05, 'epoch': 0.46}\n",
      "{'loss': 0.3966, 'grad_norm': 0.5807309746742249, 'learning_rate': 9.547368421052632e-05, 'epoch': 0.47}\n",
      "{'loss': 0.4357, 'grad_norm': 0.5323482751846313, 'learning_rate': 9.536842105263159e-05, 'epoch': 0.47}\n",
      "{'loss': 0.4865, 'grad_norm': 0.4772723615169525, 'learning_rate': 9.526315789473685e-05, 'epoch': 0.47}\n",
      "{'loss': 0.4532, 'grad_norm': 0.39447885751724243, 'learning_rate': 9.515789473684211e-05, 'epoch': 0.48}\n",
      "{'loss': 0.3748, 'grad_norm': 0.4192849099636078, 'learning_rate': 9.505263157894737e-05, 'epoch': 0.48}\n",
      "{'loss': 0.4679, 'grad_norm': 0.4101511538028717, 'learning_rate': 9.494736842105264e-05, 'epoch': 0.49}\n",
      "{'loss': 0.4212, 'grad_norm': 0.4221424162387848, 'learning_rate': 9.48421052631579e-05, 'epoch': 0.49}\n",
      "{'loss': 0.4399, 'grad_norm': 0.31772416830062866, 'learning_rate': 9.473684210526316e-05, 'epoch': 0.5}\n",
      "{'loss': 0.4016, 'grad_norm': 0.37576040625572205, 'learning_rate': 9.463157894736842e-05, 'epoch': 0.51}\n",
      "{'loss': 0.4449, 'grad_norm': 0.3553791642189026, 'learning_rate': 9.452631578947368e-05, 'epoch': 0.51}\n",
      "{'loss': 0.562, 'grad_norm': 0.4317018985748291, 'learning_rate': 9.442105263157895e-05, 'epoch': 0.52}\n",
      "{'loss': 0.4013, 'grad_norm': 0.4012454152107239, 'learning_rate': 9.431578947368421e-05, 'epoch': 0.52}\n",
      "{'loss': 0.4859, 'grad_norm': 0.3371787965297699, 'learning_rate': 9.421052631578949e-05, 'epoch': 0.53}\n",
      "{'loss': 0.5039, 'grad_norm': 0.4604852795600891, 'learning_rate': 9.410526315789473e-05, 'epoch': 0.53}\n",
      "{'loss': 0.4627, 'grad_norm': 0.36008012294769287, 'learning_rate': 9.4e-05, 'epoch': 0.54}\n",
      "{'loss': 0.4829, 'grad_norm': 0.3532281816005707, 'learning_rate': 9.389473684210527e-05, 'epoch': 0.54}\n",
      "{'loss': 0.4579, 'grad_norm': 0.34088656306266785, 'learning_rate': 9.378947368421053e-05, 'epoch': 0.55}\n",
      "{'loss': 0.4435, 'grad_norm': 0.43846556544303894, 'learning_rate': 9.36842105263158e-05, 'epoch': 0.55}\n",
      "{'loss': 0.4124, 'grad_norm': 0.3603455126285553, 'learning_rate': 9.357894736842106e-05, 'epoch': 0.56}\n",
      "{'loss': 0.5226, 'grad_norm': 0.3514888882637024, 'learning_rate': 9.347368421052632e-05, 'epoch': 0.56}\n",
      "{'loss': 0.4518, 'grad_norm': 0.28548526763916016, 'learning_rate': 9.336842105263158e-05, 'epoch': 0.56}\n",
      "{'loss': 0.3864, 'grad_norm': 0.3551006019115448, 'learning_rate': 9.326315789473684e-05, 'epoch': 0.57}\n",
      "{'loss': 0.4498, 'grad_norm': 0.3802639842033386, 'learning_rate': 9.315789473684211e-05, 'epoch': 0.57}\n",
      "{'loss': 0.4675, 'grad_norm': 0.30236852169036865, 'learning_rate': 9.305263157894737e-05, 'epoch': 0.58}\n",
      "{'loss': 0.4736, 'grad_norm': 0.39480388164520264, 'learning_rate': 9.294736842105263e-05, 'epoch': 0.58}\n",
      "{'loss': 0.4594, 'grad_norm': 0.43415775895118713, 'learning_rate': 9.28421052631579e-05, 'epoch': 0.59}\n",
      "{'loss': 0.4159, 'grad_norm': 0.48464149236679077, 'learning_rate': 9.273684210526317e-05, 'epoch': 0.59}\n",
      "{'loss': 0.4554, 'grad_norm': 0.5312896966934204, 'learning_rate': 9.263157894736843e-05, 'epoch': 0.6}\n"
     ]
    },
    {
     "data": {
      "application/vnd.jupyter.widget-view+json": {
       "model_id": "3115a607d13a45a6869efb939aae44c8",
       "version_major": 2,
       "version_minor": 0
      },
      "text/plain": [
       "  0%|          | 0/500 [00:00<?, ?it/s]"
      ]
     },
     "metadata": {},
     "output_type": "display_data"
    },
    {
     "name": "stdout",
     "output_type": "stream",
     "text": [
      "{'eval_loss': 0.43480512499809265, 'eval_rouge1': 0.6147, 'eval_rouge2': 0.3189, 'eval_rougeL': 0.472, 'eval_gen_len': 43.1525, 'eval_runtime': 92.6325, 'eval_samples_per_second': 21.591, 'eval_steps_per_second': 5.398, 'epoch': 0.6}\n",
      "{'loss': 0.4606, 'grad_norm': 0.30242204666137695, 'learning_rate': 9.252631578947369e-05, 'epoch': 0.6}\n",
      "{'loss': 0.509, 'grad_norm': 0.40138310194015503, 'learning_rate': 9.242105263157895e-05, 'epoch': 0.61}\n",
      "{'loss': 0.4494, 'grad_norm': 0.3667277991771698, 'learning_rate': 9.231578947368421e-05, 'epoch': 0.61}\n",
      "{'loss': 0.4588, 'grad_norm': 0.2850913107395172, 'learning_rate': 9.221052631578948e-05, 'epoch': 0.62}\n",
      "{'loss': 0.4338, 'grad_norm': 0.3648276925086975, 'learning_rate': 9.210526315789474e-05, 'epoch': 0.62}\n",
      "{'loss': 0.4304, 'grad_norm': 0.333997517824173, 'learning_rate': 9.200000000000001e-05, 'epoch': 0.63}\n",
      "{'loss': 0.4195, 'grad_norm': 0.3983985185623169, 'learning_rate': 9.189473684210527e-05, 'epoch': 0.64}\n",
      "{'loss': 0.483, 'grad_norm': 0.31655752658843994, 'learning_rate': 9.178947368421052e-05, 'epoch': 0.64}\n",
      "{'loss': 0.4113, 'grad_norm': 0.3619210124015808, 'learning_rate': 9.16842105263158e-05, 'epoch': 0.65}\n",
      "{'loss': 0.4654, 'grad_norm': 0.35843977332115173, 'learning_rate': 9.157894736842105e-05, 'epoch': 0.65}\n",
      "{'loss': 0.4432, 'grad_norm': 0.29562148451805115, 'learning_rate': 9.147368421052633e-05, 'epoch': 0.66}\n",
      "{'loss': 0.4798, 'grad_norm': 0.26381346583366394, 'learning_rate': 9.136842105263159e-05, 'epoch': 0.66}\n",
      "{'loss': 0.4576, 'grad_norm': 0.4493998885154724, 'learning_rate': 9.126315789473685e-05, 'epoch': 0.67}\n",
      "{'loss': 0.4687, 'grad_norm': 0.3804227113723755, 'learning_rate': 9.11578947368421e-05, 'epoch': 0.67}\n",
      "{'loss': 0.4496, 'grad_norm': 0.35957592725753784, 'learning_rate': 9.105263157894738e-05, 'epoch': 0.68}\n",
      "{'loss': 0.4032, 'grad_norm': 0.3297472894191742, 'learning_rate': 9.094736842105264e-05, 'epoch': 0.68}\n",
      "{'loss': 0.446, 'grad_norm': 0.39057251811027527, 'learning_rate': 9.08421052631579e-05, 'epoch': 0.69}\n",
      "{'loss': 0.4314, 'grad_norm': 0.33838123083114624, 'learning_rate': 9.073684210526316e-05, 'epoch': 0.69}\n",
      "{'loss': 0.4383, 'grad_norm': 0.5266764760017395, 'learning_rate': 9.063157894736842e-05, 'epoch': 0.69}\n",
      "{'loss': 0.4987, 'grad_norm': 0.5340176820755005, 'learning_rate': 9.052631578947369e-05, 'epoch': 0.7}\n",
      "{'loss': 0.5019, 'grad_norm': 0.47463005781173706, 'learning_rate': 9.042105263157895e-05, 'epoch': 0.7}\n",
      "{'loss': 0.3564, 'grad_norm': 0.5378273725509644, 'learning_rate': 9.031578947368423e-05, 'epoch': 0.71}\n",
      "{'loss': 0.4479, 'grad_norm': 0.2527505159378052, 'learning_rate': 9.021052631578947e-05, 'epoch': 0.71}\n",
      "{'loss': 0.4323, 'grad_norm': 0.36950165033340454, 'learning_rate': 9.010526315789473e-05, 'epoch': 0.72}\n",
      "{'loss': 0.4717, 'grad_norm': 0.3918757140636444, 'learning_rate': 9e-05, 'epoch': 0.72}\n",
      "{'loss': 0.4528, 'grad_norm': 0.3903883099555969, 'learning_rate': 8.989473684210527e-05, 'epoch': 0.73}\n",
      "{'loss': 0.4555, 'grad_norm': 0.3439037799835205, 'learning_rate': 8.978947368421054e-05, 'epoch': 0.73}\n",
      "{'loss': 0.4701, 'grad_norm': 0.3359008729457855, 'learning_rate': 8.96842105263158e-05, 'epoch': 0.74}\n",
      "{'loss': 0.4616, 'grad_norm': 0.7058224678039551, 'learning_rate': 8.957894736842106e-05, 'epoch': 0.74}\n",
      "{'loss': 0.4623, 'grad_norm': 0.3363664746284485, 'learning_rate': 8.947368421052632e-05, 'epoch': 0.75}\n",
      "{'loss': 0.4548, 'grad_norm': 0.29610109329223633, 'learning_rate': 8.936842105263158e-05, 'epoch': 0.76}\n",
      "{'loss': 0.4553, 'grad_norm': 0.4686409533023834, 'learning_rate': 8.926315789473685e-05, 'epoch': 0.76}\n",
      "{'loss': 0.4838, 'grad_norm': 0.6754645705223083, 'learning_rate': 8.915789473684211e-05, 'epoch': 0.77}\n",
      "{'loss': 0.5149, 'grad_norm': 0.27479469776153564, 'learning_rate': 8.905263157894737e-05, 'epoch': 0.77}\n",
      "{'loss': 0.5016, 'grad_norm': 0.328206330537796, 'learning_rate': 8.894736842105263e-05, 'epoch': 0.78}\n",
      "{'loss': 0.4932, 'grad_norm': 0.3345625102519989, 'learning_rate': 8.88421052631579e-05, 'epoch': 0.78}\n",
      "{'loss': 0.4369, 'grad_norm': 0.403809517621994, 'learning_rate': 8.873684210526316e-05, 'epoch': 0.79}\n",
      "{'loss': 0.4361, 'grad_norm': 0.28530967235565186, 'learning_rate': 8.863157894736842e-05, 'epoch': 0.79}\n",
      "{'loss': 0.4722, 'grad_norm': 0.6378180980682373, 'learning_rate': 8.852631578947368e-05, 'epoch': 0.8}\n",
      "{'loss': 0.4186, 'grad_norm': 0.42819494009017944, 'learning_rate': 8.842105263157894e-05, 'epoch': 0.8}\n"
     ]
    },
    {
     "data": {
      "application/vnd.jupyter.widget-view+json": {
       "model_id": "d6399e4deef5445caf9e2d34ed71641e",
       "version_major": 2,
       "version_minor": 0
      },
      "text/plain": [
       "  0%|          | 0/500 [00:00<?, ?it/s]"
      ]
     },
     "metadata": {},
     "output_type": "display_data"
    },
    {
     "name": "stdout",
     "output_type": "stream",
     "text": [
      "{'eval_loss': 0.42746350169181824, 'eval_rouge1': 0.6266, 'eval_rouge2': 0.3268, 'eval_rougeL': 0.4793, 'eval_gen_len': 43.152, 'eval_runtime': 93.2788, 'eval_samples_per_second': 21.441, 'eval_steps_per_second': 5.36, 'epoch': 0.8}\n",
      "{'loss': 0.4122, 'grad_norm': 0.4203113615512848, 'learning_rate': 8.831578947368422e-05, 'epoch': 0.81}\n",
      "{'loss': 0.4028, 'grad_norm': 0.5077258944511414, 'learning_rate': 8.821052631578948e-05, 'epoch': 0.81}\n",
      "{'loss': 0.4645, 'grad_norm': 0.39222678542137146, 'learning_rate': 8.810526315789475e-05, 'epoch': 0.81}\n",
      "{'loss': 0.4252, 'grad_norm': 0.28349974751472473, 'learning_rate': 8.800000000000001e-05, 'epoch': 0.82}\n",
      "{'loss': 0.4207, 'grad_norm': 0.2958548069000244, 'learning_rate': 8.789473684210526e-05, 'epoch': 0.82}\n",
      "{'loss': 0.467, 'grad_norm': 0.32843896746635437, 'learning_rate': 8.778947368421053e-05, 'epoch': 0.83}\n",
      "{'loss': 0.5081, 'grad_norm': 0.3928925395011902, 'learning_rate': 8.768421052631579e-05, 'epoch': 0.83}\n",
      "{'loss': 0.3993, 'grad_norm': 0.582405686378479, 'learning_rate': 8.757894736842106e-05, 'epoch': 0.84}\n",
      "{'loss': 0.4732, 'grad_norm': 0.5719392895698547, 'learning_rate': 8.747368421052632e-05, 'epoch': 0.84}\n",
      "{'loss': 0.4591, 'grad_norm': 0.34324726462364197, 'learning_rate': 8.736842105263158e-05, 'epoch': 0.85}\n",
      "{'loss': 0.4383, 'grad_norm': 0.4315280020236969, 'learning_rate': 8.726315789473684e-05, 'epoch': 0.85}\n",
      "{'loss': 0.497, 'grad_norm': 0.5043589472770691, 'learning_rate': 8.71578947368421e-05, 'epoch': 0.86}\n",
      "{'loss': 0.4644, 'grad_norm': 0.3911077678203583, 'learning_rate': 8.705263157894738e-05, 'epoch': 0.86}\n",
      "{'loss': 0.4313, 'grad_norm': 0.5472400784492493, 'learning_rate': 8.694736842105264e-05, 'epoch': 0.87}\n",
      "{'loss': 0.4814, 'grad_norm': 0.47021281719207764, 'learning_rate': 8.68421052631579e-05, 'epoch': 0.88}\n",
      "{'loss': 0.4766, 'grad_norm': 0.414644330739975, 'learning_rate': 8.673684210526316e-05, 'epoch': 0.88}\n",
      "{'loss': 0.4731, 'grad_norm': 0.6060183644294739, 'learning_rate': 8.663157894736843e-05, 'epoch': 0.89}\n",
      "{'loss': 0.4262, 'grad_norm': 0.2915022075176239, 'learning_rate': 8.652631578947369e-05, 'epoch': 0.89}\n",
      "{'loss': 0.4733, 'grad_norm': 0.39326924085617065, 'learning_rate': 8.642105263157895e-05, 'epoch': 0.9}\n",
      "{'loss': 0.4826, 'grad_norm': 0.31327876448631287, 'learning_rate': 8.631578947368421e-05, 'epoch': 0.9}\n",
      "{'loss': 0.4595, 'grad_norm': 0.37837061285972595, 'learning_rate': 8.621052631578947e-05, 'epoch': 0.91}\n",
      "{'loss': 0.4443, 'grad_norm': 0.4156387150287628, 'learning_rate': 8.610526315789474e-05, 'epoch': 0.91}\n",
      "{'loss': 0.357, 'grad_norm': 0.49382075667381287, 'learning_rate': 8.6e-05, 'epoch': 0.92}\n",
      "{'loss': 0.4492, 'grad_norm': 0.4570448100566864, 'learning_rate': 8.589473684210528e-05, 'epoch': 0.92}\n",
      "{'loss': 0.4562, 'grad_norm': 0.4314463138580322, 'learning_rate': 8.578947368421054e-05, 'epoch': 0.93}\n",
      "{'loss': 0.4443, 'grad_norm': 0.39799684286117554, 'learning_rate': 8.568421052631578e-05, 'epoch': 0.93}\n",
      "{'loss': 0.478, 'grad_norm': 0.4890226423740387, 'learning_rate': 8.557894736842106e-05, 'epoch': 0.94}\n",
      "{'loss': 0.4086, 'grad_norm': 0.5240156650543213, 'learning_rate': 8.547368421052632e-05, 'epoch': 0.94}\n",
      "{'loss': 0.4058, 'grad_norm': 0.4505479335784912, 'learning_rate': 8.536842105263159e-05, 'epoch': 0.94}\n",
      "{'loss': 0.4449, 'grad_norm': 0.2709575295448303, 'learning_rate': 8.526315789473685e-05, 'epoch': 0.95}\n",
      "{'loss': 0.4139, 'grad_norm': 0.3333166837692261, 'learning_rate': 8.515789473684211e-05, 'epoch': 0.95}\n",
      "{'loss': 0.4359, 'grad_norm': 0.3540082275867462, 'learning_rate': 8.505263157894737e-05, 'epoch': 0.96}\n",
      "{'loss': 0.4213, 'grad_norm': 0.30691957473754883, 'learning_rate': 8.494736842105263e-05, 'epoch': 0.96}\n",
      "{'loss': 0.3979, 'grad_norm': 0.2681191861629486, 'learning_rate': 8.48421052631579e-05, 'epoch': 0.97}\n",
      "{'loss': 0.36, 'grad_norm': 0.33494624495506287, 'learning_rate': 8.473684210526316e-05, 'epoch': 0.97}\n",
      "{'loss': 0.5004, 'grad_norm': 0.313772052526474, 'learning_rate': 8.463157894736842e-05, 'epoch': 0.98}\n",
      "{'loss': 0.402, 'grad_norm': 0.3756314814090729, 'learning_rate': 8.452631578947368e-05, 'epoch': 0.98}\n",
      "{'loss': 0.4004, 'grad_norm': 0.32682347297668457, 'learning_rate': 8.442105263157896e-05, 'epoch': 0.99}\n",
      "{'loss': 0.4557, 'grad_norm': 0.5097788572311401, 'learning_rate': 8.431578947368422e-05, 'epoch': 0.99}\n",
      "{'loss': 0.3931, 'grad_norm': 0.3048980236053467, 'learning_rate': 8.421052631578948e-05, 'epoch': 1.0}\n"
     ]
    },
    {
     "data": {
      "application/vnd.jupyter.widget-view+json": {
       "model_id": "27043b3aac2e4b07bf685545251d8909",
       "version_major": 2,
       "version_minor": 0
      },
      "text/plain": [
       "  0%|          | 0/500 [00:00<?, ?it/s]"
      ]
     },
     "metadata": {},
     "output_type": "display_data"
    },
    {
     "name": "stdout",
     "output_type": "stream",
     "text": [
      "{'eval_loss': 0.42178982496261597, 'eval_rouge1': 0.6339, 'eval_rouge2': 0.3297, 'eval_rougeL': 0.4808, 'eval_gen_len': 43.1525, 'eval_runtime': 97.2819, 'eval_samples_per_second': 20.559, 'eval_steps_per_second': 5.14, 'epoch': 1.0}\n",
      "{'loss': 0.4876, 'grad_norm': 0.41858693957328796, 'learning_rate': 8.410526315789475e-05, 'epoch': 1.0}\n",
      "{'loss': 0.3919, 'grad_norm': 0.40605586767196655, 'learning_rate': 8.4e-05, 'epoch': 1.01}\n",
      "{'loss': 0.429, 'grad_norm': 0.3154928386211395, 'learning_rate': 8.389473684210527e-05, 'epoch': 1.01}\n",
      "{'loss': 0.417, 'grad_norm': 0.2776026725769043, 'learning_rate': 8.378947368421053e-05, 'epoch': 1.02}\n",
      "{'loss': 0.4658, 'grad_norm': 0.5477669835090637, 'learning_rate': 8.36842105263158e-05, 'epoch': 1.02}\n",
      "{'loss': 0.4244, 'grad_norm': 0.3564594089984894, 'learning_rate': 8.357894736842106e-05, 'epoch': 1.03}\n",
      "{'loss': 0.3916, 'grad_norm': 0.36120083928108215, 'learning_rate': 8.347368421052631e-05, 'epoch': 1.03}\n",
      "{'loss': 0.439, 'grad_norm': 0.24193082749843597, 'learning_rate': 8.336842105263158e-05, 'epoch': 1.04}\n",
      "{'loss': 0.3834, 'grad_norm': 0.2966589629650116, 'learning_rate': 8.326315789473684e-05, 'epoch': 1.04}\n",
      "{'loss': 0.3675, 'grad_norm': 0.36089831590652466, 'learning_rate': 8.315789473684212e-05, 'epoch': 1.05}\n",
      "{'loss': 0.3993, 'grad_norm': 0.41164925694465637, 'learning_rate': 8.305263157894737e-05, 'epoch': 1.05}\n",
      "{'loss': 0.3897, 'grad_norm': 0.3396642804145813, 'learning_rate': 8.294736842105263e-05, 'epoch': 1.06}\n",
      "{'loss': 0.391, 'grad_norm': 0.42416101694107056, 'learning_rate': 8.28421052631579e-05, 'epoch': 1.06}\n",
      "{'loss': 0.3926, 'grad_norm': 0.3199072480201721, 'learning_rate': 8.273684210526315e-05, 'epoch': 1.07}\n",
      "{'loss': 0.4271, 'grad_norm': 0.2604479193687439, 'learning_rate': 8.263157894736843e-05, 'epoch': 1.07}\n",
      "{'loss': 0.4001, 'grad_norm': 0.3452696204185486, 'learning_rate': 8.252631578947369e-05, 'epoch': 1.08}\n",
      "{'loss': 0.4603, 'grad_norm': 0.46426427364349365, 'learning_rate': 8.242105263157895e-05, 'epoch': 1.08}\n",
      "{'loss': 0.4666, 'grad_norm': 0.3368639647960663, 'learning_rate': 8.231578947368421e-05, 'epoch': 1.09}\n",
      "{'loss': 0.4499, 'grad_norm': 0.39340683817863464, 'learning_rate': 8.221052631578948e-05, 'epoch': 1.09}\n",
      "{'loss': 0.4074, 'grad_norm': 0.5212299227714539, 'learning_rate': 8.210526315789474e-05, 'epoch': 1.1}\n",
      "{'loss': 0.446, 'grad_norm': 0.35190826654434204, 'learning_rate': 8.2e-05, 'epoch': 1.1}\n",
      "{'loss': 0.4442, 'grad_norm': 0.34054437279701233, 'learning_rate': 8.189473684210527e-05, 'epoch': 1.11}\n",
      "{'loss': 0.4525, 'grad_norm': 0.38197553157806396, 'learning_rate': 8.178947368421052e-05, 'epoch': 1.11}\n",
      "{'loss': 0.3891, 'grad_norm': 0.36750322580337524, 'learning_rate': 8.16842105263158e-05, 'epoch': 1.12}\n",
      "{'loss': 0.4497, 'grad_norm': 0.450638085603714, 'learning_rate': 8.157894736842105e-05, 'epoch': 1.12}\n",
      "{'loss': 0.4165, 'grad_norm': 0.45039820671081543, 'learning_rate': 8.147368421052633e-05, 'epoch': 1.13}\n",
      "{'loss': 0.3873, 'grad_norm': 0.35129982233047485, 'learning_rate': 8.136842105263159e-05, 'epoch': 1.14}\n",
      "{'loss': 0.4946, 'grad_norm': 0.3454872667789459, 'learning_rate': 8.126315789473685e-05, 'epoch': 1.14}\n",
      "{'loss': 0.4733, 'grad_norm': 0.258672297000885, 'learning_rate': 8.115789473684211e-05, 'epoch': 1.15}\n",
      "{'loss': 0.4252, 'grad_norm': 0.4467904269695282, 'learning_rate': 8.105263157894737e-05, 'epoch': 1.15}\n",
      "{'loss': 0.4078, 'grad_norm': 0.3873908221721649, 'learning_rate': 8.094736842105264e-05, 'epoch': 1.16}\n",
      "{'loss': 0.4099, 'grad_norm': 0.3895075023174286, 'learning_rate': 8.08421052631579e-05, 'epoch': 1.16}\n",
      "{'loss': 0.4003, 'grad_norm': 0.4863397777080536, 'learning_rate': 8.073684210526316e-05, 'epoch': 1.17}\n",
      "{'loss': 0.3955, 'grad_norm': 0.3321780264377594, 'learning_rate': 8.063157894736842e-05, 'epoch': 1.17}\n",
      "{'loss': 0.4906, 'grad_norm': 0.45406264066696167, 'learning_rate': 8.052631578947368e-05, 'epoch': 1.18}\n",
      "{'loss': 0.3922, 'grad_norm': 0.3377288281917572, 'learning_rate': 8.042105263157895e-05, 'epoch': 1.18}\n",
      "{'loss': 0.4419, 'grad_norm': 0.3832736015319824, 'learning_rate': 8.031578947368421e-05, 'epoch': 1.19}\n",
      "{'loss': 0.3958, 'grad_norm': 0.29383954405784607, 'learning_rate': 8.021052631578949e-05, 'epoch': 1.19}\n",
      "{'loss': 0.343, 'grad_norm': 0.35620203614234924, 'learning_rate': 8.010526315789473e-05, 'epoch': 1.2}\n",
      "{'loss': 0.4621, 'grad_norm': 0.362831711769104, 'learning_rate': 8e-05, 'epoch': 1.2}\n"
     ]
    },
    {
     "data": {
      "application/vnd.jupyter.widget-view+json": {
       "model_id": "adaeca3dcced421e9e47155814ddcea2",
       "version_major": 2,
       "version_minor": 0
      },
      "text/plain": [
       "  0%|          | 0/500 [00:00<?, ?it/s]"
      ]
     },
     "metadata": {},
     "output_type": "display_data"
    },
    {
     "name": "stdout",
     "output_type": "stream",
     "text": [
      "{'eval_loss': 0.4144328534603119, 'eval_rouge1': 0.6297, 'eval_rouge2': 0.3294, 'eval_rougeL': 0.4816, 'eval_gen_len': 43.1525, 'eval_runtime': 96.6116, 'eval_samples_per_second': 20.701, 'eval_steps_per_second': 5.175, 'epoch': 1.2}\n",
      "{'loss': 0.4469, 'grad_norm': 0.26377540826797485, 'learning_rate': 7.989473684210527e-05, 'epoch': 1.21}\n",
      "{'loss': 0.4531, 'grad_norm': 0.34014278650283813, 'learning_rate': 7.978947368421053e-05, 'epoch': 1.21}\n",
      "{'loss': 0.4333, 'grad_norm': 0.5104837417602539, 'learning_rate': 7.96842105263158e-05, 'epoch': 1.22}\n",
      "{'loss': 0.4065, 'grad_norm': 0.2524182200431824, 'learning_rate': 7.957894736842106e-05, 'epoch': 1.22}\n",
      "{'loss': 0.3842, 'grad_norm': 0.436619371175766, 'learning_rate': 7.947368421052632e-05, 'epoch': 1.23}\n",
      "{'loss': 0.3771, 'grad_norm': 0.27353766560554504, 'learning_rate': 7.936842105263158e-05, 'epoch': 1.23}\n",
      "{'loss': 0.4427, 'grad_norm': 0.35374540090560913, 'learning_rate': 7.926315789473685e-05, 'epoch': 1.23}\n",
      "{'loss': 0.4865, 'grad_norm': 0.4190502464771271, 'learning_rate': 7.915789473684211e-05, 'epoch': 1.24}\n",
      "{'loss': 0.404, 'grad_norm': 0.37122753262519836, 'learning_rate': 7.905263157894737e-05, 'epoch': 1.25}\n",
      "{'loss': 0.4195, 'grad_norm': 0.3963949978351593, 'learning_rate': 7.894736842105263e-05, 'epoch': 1.25}\n",
      "{'loss': 0.4284, 'grad_norm': 0.2825125753879547, 'learning_rate': 7.884210526315789e-05, 'epoch': 1.25}\n",
      "{'loss': 0.4382, 'grad_norm': 0.3575518727302551, 'learning_rate': 7.873684210526317e-05, 'epoch': 1.26}\n",
      "{'loss': 0.5114, 'grad_norm': 0.3336111307144165, 'learning_rate': 7.863157894736843e-05, 'epoch': 1.27}\n",
      "{'loss': 0.4203, 'grad_norm': 0.2591436803340912, 'learning_rate': 7.852631578947369e-05, 'epoch': 1.27}\n",
      "{'loss': 0.4608, 'grad_norm': 0.2766748368740082, 'learning_rate': 7.842105263157895e-05, 'epoch': 1.27}\n",
      "{'loss': 0.393, 'grad_norm': 0.30713963508605957, 'learning_rate': 7.83157894736842e-05, 'epoch': 1.28}\n",
      "{'loss': 0.4125, 'grad_norm': 0.2900941073894501, 'learning_rate': 7.821052631578948e-05, 'epoch': 1.28}\n",
      "{'loss': 0.3846, 'grad_norm': 0.29449811577796936, 'learning_rate': 7.810526315789474e-05, 'epoch': 1.29}\n",
      "{'loss': 0.4055, 'grad_norm': 0.40187978744506836, 'learning_rate': 7.800000000000001e-05, 'epoch': 1.29}\n",
      "{'loss': 0.4168, 'grad_norm': 0.31768494844436646, 'learning_rate': 7.789473684210526e-05, 'epoch': 1.3}\n",
      "{'loss': 0.3451, 'grad_norm': 0.32555145025253296, 'learning_rate': 7.778947368421053e-05, 'epoch': 1.3}\n",
      "{'loss': 0.44, 'grad_norm': 0.44207528233528137, 'learning_rate': 7.768421052631579e-05, 'epoch': 1.31}\n",
      "{'loss': 0.3901, 'grad_norm': 0.3061307668685913, 'learning_rate': 7.757894736842105e-05, 'epoch': 1.31}\n",
      "{'loss': 0.3728, 'grad_norm': 0.31382840871810913, 'learning_rate': 7.747368421052633e-05, 'epoch': 1.32}\n",
      "{'loss': 0.3958, 'grad_norm': 0.5362680554389954, 'learning_rate': 7.736842105263159e-05, 'epoch': 1.32}\n",
      "{'loss': 0.4344, 'grad_norm': 0.32921332120895386, 'learning_rate': 7.726315789473684e-05, 'epoch': 1.33}\n",
      "{'loss': 0.3611, 'grad_norm': 0.2977680265903473, 'learning_rate': 7.71578947368421e-05, 'epoch': 1.33}\n",
      "{'loss': 0.4174, 'grad_norm': 0.28444093465805054, 'learning_rate': 7.705263157894738e-05, 'epoch': 1.34}\n",
      "{'loss': 0.3707, 'grad_norm': 0.30487939715385437, 'learning_rate': 7.694736842105264e-05, 'epoch': 1.34}\n",
      "{'loss': 0.4318, 'grad_norm': 0.29635506868362427, 'learning_rate': 7.68421052631579e-05, 'epoch': 1.35}\n",
      "{'loss': 0.419, 'grad_norm': 0.4798627197742462, 'learning_rate': 7.673684210526316e-05, 'epoch': 1.35}\n",
      "{'loss': 0.459, 'grad_norm': 0.30772751569747925, 'learning_rate': 7.663157894736842e-05, 'epoch': 1.36}\n",
      "{'loss': 0.4271, 'grad_norm': 0.4189484417438507, 'learning_rate': 7.652631578947369e-05, 'epoch': 1.36}\n",
      "{'loss': 0.4563, 'grad_norm': 0.5053834319114685, 'learning_rate': 7.642105263157895e-05, 'epoch': 1.37}\n",
      "{'loss': 0.4299, 'grad_norm': 0.45029163360595703, 'learning_rate': 7.631578947368422e-05, 'epoch': 1.38}\n",
      "{'loss': 0.4367, 'grad_norm': 0.2590066194534302, 'learning_rate': 7.621052631578947e-05, 'epoch': 1.38}\n",
      "{'loss': 0.3627, 'grad_norm': 0.3737872242927551, 'learning_rate': 7.610526315789473e-05, 'epoch': 1.39}\n",
      "{'loss': 0.4015, 'grad_norm': 0.32851558923721313, 'learning_rate': 7.6e-05, 'epoch': 1.39}\n",
      "{'loss': 0.3894, 'grad_norm': 0.46712398529052734, 'learning_rate': 7.589473684210526e-05, 'epoch': 1.4}\n",
      "{'loss': 0.4226, 'grad_norm': 0.61466383934021, 'learning_rate': 7.578947368421054e-05, 'epoch': 1.4}\n"
     ]
    },
    {
     "data": {
      "application/vnd.jupyter.widget-view+json": {
       "model_id": "119aa49044cd45daad1fbea26177fd7b",
       "version_major": 2,
       "version_minor": 0
      },
      "text/plain": [
       "  0%|          | 0/500 [00:00<?, ?it/s]"
      ]
     },
     "metadata": {},
     "output_type": "display_data"
    },
    {
     "name": "stdout",
     "output_type": "stream",
     "text": [
      "{'eval_loss': 0.41062265634536743, 'eval_rouge1': 0.642, 'eval_rouge2': 0.3363, 'eval_rougeL': 0.4863, 'eval_gen_len': 43.1525, 'eval_runtime': 96.8715, 'eval_samples_per_second': 20.646, 'eval_steps_per_second': 5.161, 'epoch': 1.4}\n",
      "{'loss': 0.3814, 'grad_norm': 0.37047505378723145, 'learning_rate': 7.56842105263158e-05, 'epoch': 1.41}\n",
      "{'loss': 0.4381, 'grad_norm': 0.40300628542900085, 'learning_rate': 7.557894736842106e-05, 'epoch': 1.41}\n",
      "{'loss': 0.381, 'grad_norm': 0.40449681878089905, 'learning_rate': 7.547368421052632e-05, 'epoch': 1.42}\n",
      "{'loss': 0.4134, 'grad_norm': 0.3108035624027252, 'learning_rate': 7.536842105263158e-05, 'epoch': 1.42}\n",
      "{'loss': 0.4728, 'grad_norm': 0.5184997916221619, 'learning_rate': 7.526315789473685e-05, 'epoch': 1.43}\n",
      "{'loss': 0.3988, 'grad_norm': 0.28799107670783997, 'learning_rate': 7.515789473684211e-05, 'epoch': 1.43}\n",
      "{'loss': 0.3972, 'grad_norm': 0.3201943635940552, 'learning_rate': 7.505263157894737e-05, 'epoch': 1.44}\n",
      "{'loss': 0.4187, 'grad_norm': 0.2549580931663513, 'learning_rate': 7.494736842105263e-05, 'epoch': 1.44}\n",
      "{'loss': 0.4095, 'grad_norm': 0.5054140686988831, 'learning_rate': 7.48421052631579e-05, 'epoch': 1.45}\n",
      "{'loss': 0.3714, 'grad_norm': 0.39206454157829285, 'learning_rate': 7.473684210526316e-05, 'epoch': 1.45}\n",
      "{'loss': 0.4171, 'grad_norm': 0.44360116124153137, 'learning_rate': 7.463157894736844e-05, 'epoch': 1.46}\n",
      "{'loss': 0.4447, 'grad_norm': 0.42793479561805725, 'learning_rate': 7.452631578947368e-05, 'epoch': 1.46}\n",
      "{'loss': 0.396, 'grad_norm': 0.34272098541259766, 'learning_rate': 7.442105263157894e-05, 'epoch': 1.47}\n",
      "{'loss': 0.4227, 'grad_norm': 0.3012397289276123, 'learning_rate': 7.431578947368422e-05, 'epoch': 1.47}\n",
      "{'loss': 0.4774, 'grad_norm': 0.3147099018096924, 'learning_rate': 7.421052631578948e-05, 'epoch': 1.48}\n",
      "{'loss': 0.4279, 'grad_norm': 0.33700814843177795, 'learning_rate': 7.410526315789475e-05, 'epoch': 1.48}\n",
      "{'loss': 0.5008, 'grad_norm': 0.42294156551361084, 'learning_rate': 7.4e-05, 'epoch': 1.48}\n",
      "{'loss': 0.4096, 'grad_norm': 0.4736143946647644, 'learning_rate': 7.389473684210527e-05, 'epoch': 1.49}\n",
      "{'loss': 0.3844, 'grad_norm': 0.4023517370223999, 'learning_rate': 7.378947368421053e-05, 'epoch': 1.5}\n",
      "{'loss': 0.3801, 'grad_norm': 0.30928078293800354, 'learning_rate': 7.368421052631579e-05, 'epoch': 1.5}\n",
      "{'loss': 0.421, 'grad_norm': 0.35494157671928406, 'learning_rate': 7.357894736842106e-05, 'epoch': 1.5}\n",
      "{'loss': 0.4426, 'grad_norm': 0.31465089321136475, 'learning_rate': 7.347368421052632e-05, 'epoch': 1.51}\n",
      "{'loss': 0.3925, 'grad_norm': 0.37936922907829285, 'learning_rate': 7.336842105263158e-05, 'epoch': 1.52}\n",
      "{'loss': 0.4151, 'grad_norm': 0.420772910118103, 'learning_rate': 7.326315789473684e-05, 'epoch': 1.52}\n",
      "{'loss': 0.3624, 'grad_norm': 0.322289377450943, 'learning_rate': 7.315789473684212e-05, 'epoch': 1.52}\n",
      "{'loss': 0.478, 'grad_norm': 0.3353429436683655, 'learning_rate': 7.305263157894738e-05, 'epoch': 1.53}\n",
      "{'loss': 0.4195, 'grad_norm': 0.2844606339931488, 'learning_rate': 7.294736842105264e-05, 'epoch': 1.54}\n",
      "{'loss': 0.3837, 'grad_norm': 0.5611180067062378, 'learning_rate': 7.28421052631579e-05, 'epoch': 1.54}\n",
      "{'loss': 0.3898, 'grad_norm': 0.44873160123825073, 'learning_rate': 7.273684210526316e-05, 'epoch': 1.54}\n",
      "{'loss': 0.4094, 'grad_norm': 0.31545737385749817, 'learning_rate': 7.263157894736843e-05, 'epoch': 1.55}\n",
      "{'loss': 0.4069, 'grad_norm': 0.4671488404273987, 'learning_rate': 7.252631578947369e-05, 'epoch': 1.56}\n",
      "{'loss': 0.4207, 'grad_norm': 0.3131236732006073, 'learning_rate': 7.242105263157896e-05, 'epoch': 1.56}\n",
      "{'loss': 0.4079, 'grad_norm': 0.2734159231185913, 'learning_rate': 7.231578947368421e-05, 'epoch': 1.56}\n",
      "{'loss': 0.3724, 'grad_norm': 0.45658767223358154, 'learning_rate': 7.221052631578947e-05, 'epoch': 1.57}\n",
      "{'loss': 0.4088, 'grad_norm': 0.3954561948776245, 'learning_rate': 7.210526315789474e-05, 'epoch': 1.57}\n",
      "{'loss': 0.383, 'grad_norm': 0.2838438153266907, 'learning_rate': 7.2e-05, 'epoch': 1.58}\n",
      "{'loss': 0.3708, 'grad_norm': 0.3486954867839813, 'learning_rate': 7.189473684210528e-05, 'epoch': 1.58}\n",
      "{'loss': 0.3665, 'grad_norm': 0.27823367714881897, 'learning_rate': 7.178947368421054e-05, 'epoch': 1.59}\n",
      "{'loss': 0.4337, 'grad_norm': 0.3169122338294983, 'learning_rate': 7.16842105263158e-05, 'epoch': 1.59}\n",
      "{'loss': 0.4013, 'grad_norm': 0.3009029030799866, 'learning_rate': 7.157894736842105e-05, 'epoch': 1.6}\n"
     ]
    },
    {
     "data": {
      "application/vnd.jupyter.widget-view+json": {
       "model_id": "0b6d64e9c86b47e29447485041efb199",
       "version_major": 2,
       "version_minor": 0
      },
      "text/plain": [
       "  0%|          | 0/500 [00:00<?, ?it/s]"
      ]
     },
     "metadata": {},
     "output_type": "display_data"
    },
    {
     "name": "stdout",
     "output_type": "stream",
     "text": [
      "{'eval_loss': 0.40462082624435425, 'eval_rouge1': 0.641, 'eval_rouge2': 0.3369, 'eval_rougeL': 0.4879, 'eval_gen_len': 43.1525, 'eval_runtime': 98.6568, 'eval_samples_per_second': 20.272, 'eval_steps_per_second': 5.068, 'epoch': 1.6}\n",
      "{'loss': 0.4387, 'grad_norm': 0.354946494102478, 'learning_rate': 7.147368421052631e-05, 'epoch': 1.6}\n",
      "{'loss': 0.4085, 'grad_norm': 0.3172445297241211, 'learning_rate': 7.136842105263159e-05, 'epoch': 1.61}\n",
      "{'loss': 0.3978, 'grad_norm': 0.3124130964279175, 'learning_rate': 7.126315789473685e-05, 'epoch': 1.61}\n",
      "{'loss': 0.3833, 'grad_norm': 0.45782408118247986, 'learning_rate': 7.115789473684211e-05, 'epoch': 1.62}\n",
      "{'loss': 0.4352, 'grad_norm': 0.3568982183933258, 'learning_rate': 7.105263157894737e-05, 'epoch': 1.62}\n",
      "{'loss': 0.4647, 'grad_norm': 0.37002861499786377, 'learning_rate': 7.094736842105264e-05, 'epoch': 1.63}\n",
      "{'loss': 0.4697, 'grad_norm': 0.27991798520088196, 'learning_rate': 7.08421052631579e-05, 'epoch': 1.64}\n",
      "{'loss': 0.475, 'grad_norm': 0.26814207434654236, 'learning_rate': 7.073684210526316e-05, 'epoch': 1.64}\n",
      "{'loss': 0.442, 'grad_norm': 0.27625176310539246, 'learning_rate': 7.063157894736842e-05, 'epoch': 1.65}\n",
      "{'loss': 0.4559, 'grad_norm': 0.44413864612579346, 'learning_rate': 7.052631578947368e-05, 'epoch': 1.65}\n",
      "{'loss': 0.3983, 'grad_norm': 0.3993169665336609, 'learning_rate': 7.042105263157895e-05, 'epoch': 1.66}\n",
      "{'loss': 0.4091, 'grad_norm': 0.35339489579200745, 'learning_rate': 7.031578947368421e-05, 'epoch': 1.66}\n",
      "{'loss': 0.4018, 'grad_norm': 0.41273489594459534, 'learning_rate': 7.021052631578949e-05, 'epoch': 1.67}\n",
      "{'loss': 0.3653, 'grad_norm': 0.3929795026779175, 'learning_rate': 7.010526315789473e-05, 'epoch': 1.67}\n",
      "{'loss': 0.3936, 'grad_norm': 0.2642359733581543, 'learning_rate': 7e-05, 'epoch': 1.68}\n",
      "{'loss': 0.3828, 'grad_norm': 0.3185728192329407, 'learning_rate': 6.989473684210527e-05, 'epoch': 1.68}\n",
      "{'loss': 0.4376, 'grad_norm': 0.3275406062602997, 'learning_rate': 6.978947368421053e-05, 'epoch': 1.69}\n",
      "{'loss': 0.4339, 'grad_norm': 0.2411249428987503, 'learning_rate': 6.96842105263158e-05, 'epoch': 1.69}\n",
      "{'loss': 0.3969, 'grad_norm': 0.47047528624534607, 'learning_rate': 6.957894736842106e-05, 'epoch': 1.69}\n",
      "{'loss': 0.4197, 'grad_norm': 0.3517173230648041, 'learning_rate': 6.947368421052632e-05, 'epoch': 1.7}\n",
      "{'loss': 0.429, 'grad_norm': 0.3177014887332916, 'learning_rate': 6.936842105263158e-05, 'epoch': 1.71}\n",
      "{'loss': 0.5286, 'grad_norm': 0.45095211267471313, 'learning_rate': 6.926315789473684e-05, 'epoch': 1.71}\n",
      "{'loss': 0.4736, 'grad_norm': 0.36087921261787415, 'learning_rate': 6.915789473684211e-05, 'epoch': 1.71}\n",
      "{'loss': 0.4003, 'grad_norm': 0.3029763996601105, 'learning_rate': 6.905263157894737e-05, 'epoch': 1.72}\n",
      "{'loss': 0.4176, 'grad_norm': 1.2097463607788086, 'learning_rate': 6.894736842105263e-05, 'epoch': 1.73}\n",
      "{'loss': 0.4307, 'grad_norm': 0.4097023904323578, 'learning_rate': 6.88421052631579e-05, 'epoch': 1.73}\n",
      "{'loss': 0.4017, 'grad_norm': 0.27487900853157043, 'learning_rate': 6.873684210526317e-05, 'epoch': 1.73}\n",
      "{'loss': 0.3891, 'grad_norm': 0.3476787805557251, 'learning_rate': 6.863157894736843e-05, 'epoch': 1.74}\n",
      "{'loss': 0.4019, 'grad_norm': 0.5303101539611816, 'learning_rate': 6.852631578947369e-05, 'epoch': 1.75}\n",
      "{'loss': 0.3645, 'grad_norm': 0.4617111086845398, 'learning_rate': 6.842105263157895e-05, 'epoch': 1.75}\n",
      "{'loss': 0.4266, 'grad_norm': 0.36322808265686035, 'learning_rate': 6.83157894736842e-05, 'epoch': 1.75}\n",
      "{'loss': 0.3748, 'grad_norm': 0.3049294352531433, 'learning_rate': 6.821052631578948e-05, 'epoch': 1.76}\n",
      "{'loss': 0.3861, 'grad_norm': 0.4083119332790375, 'learning_rate': 6.810526315789474e-05, 'epoch': 1.77}\n",
      "{'loss': 0.4338, 'grad_norm': 0.41771286725997925, 'learning_rate': 6.800000000000001e-05, 'epoch': 1.77}\n",
      "{'loss': 0.3615, 'grad_norm': 0.3465155065059662, 'learning_rate': 6.789473684210527e-05, 'epoch': 1.77}\n",
      "{'loss': 0.3913, 'grad_norm': 0.2842057943344116, 'learning_rate': 6.778947368421052e-05, 'epoch': 1.78}\n",
      "{'loss': 0.4056, 'grad_norm': 0.3243962824344635, 'learning_rate': 6.768421052631579e-05, 'epoch': 1.79}\n",
      "{'loss': 0.4086, 'grad_norm': 0.3817594349384308, 'learning_rate': 6.757894736842105e-05, 'epoch': 1.79}\n",
      "{'loss': 0.3879, 'grad_norm': 0.32441335916519165, 'learning_rate': 6.747368421052633e-05, 'epoch': 1.79}\n",
      "{'loss': 0.3905, 'grad_norm': 0.3611244559288025, 'learning_rate': 6.736842105263159e-05, 'epoch': 1.8}\n"
     ]
    },
    {
     "data": {
      "application/vnd.jupyter.widget-view+json": {
       "model_id": "42dadba7424746a6a1ea3050c33893fd",
       "version_major": 2,
       "version_minor": 0
      },
      "text/plain": [
       "  0%|          | 0/500 [00:00<?, ?it/s]"
      ]
     },
     "metadata": {},
     "output_type": "display_data"
    },
    {
     "name": "stdout",
     "output_type": "stream",
     "text": [
      "{'eval_loss': 0.4011801779270172, 'eval_rouge1': 0.6488, 'eval_rouge2': 0.3405, 'eval_rougeL': 0.4911, 'eval_gen_len': 43.1525, 'eval_runtime': 95.5244, 'eval_samples_per_second': 20.937, 'eval_steps_per_second': 5.234, 'epoch': 1.8}\n",
      "{'loss': 0.4977, 'grad_norm': 0.4730972349643707, 'learning_rate': 6.726315789473685e-05, 'epoch': 1.81}\n",
      "{'loss': 0.3327, 'grad_norm': 0.25124016404151917, 'learning_rate': 6.71578947368421e-05, 'epoch': 1.81}\n",
      "{'loss': 0.4482, 'grad_norm': 0.377005010843277, 'learning_rate': 6.705263157894737e-05, 'epoch': 1.81}\n",
      "{'loss': 0.3423, 'grad_norm': 0.30536067485809326, 'learning_rate': 6.694736842105264e-05, 'epoch': 1.82}\n",
      "{'loss': 0.4381, 'grad_norm': 0.5284860134124756, 'learning_rate': 6.68421052631579e-05, 'epoch': 1.82}\n",
      "{'loss': 0.4006, 'grad_norm': 0.3184221684932709, 'learning_rate': 6.673684210526316e-05, 'epoch': 1.83}\n",
      "{'loss': 0.4025, 'grad_norm': 0.2792104482650757, 'learning_rate': 6.663157894736842e-05, 'epoch': 1.83}\n",
      "{'loss': 0.3769, 'grad_norm': 0.39831963181495667, 'learning_rate': 6.652631578947369e-05, 'epoch': 1.84}\n",
      "{'loss': 0.4873, 'grad_norm': 0.29680997133255005, 'learning_rate': 6.642105263157895e-05, 'epoch': 1.84}\n",
      "{'loss': 0.3791, 'grad_norm': 0.5197224020957947, 'learning_rate': 6.631578947368421e-05, 'epoch': 1.85}\n",
      "{'loss': 0.4104, 'grad_norm': 0.38051608204841614, 'learning_rate': 6.621052631578947e-05, 'epoch': 1.85}\n",
      "{'loss': 0.4648, 'grad_norm': 0.2636433243751526, 'learning_rate': 6.610526315789473e-05, 'epoch': 1.86}\n",
      "{'loss': 0.4388, 'grad_norm': 0.3458787202835083, 'learning_rate': 6.6e-05, 'epoch': 1.86}\n",
      "{'loss': 0.4817, 'grad_norm': 0.34155726432800293, 'learning_rate': 6.589473684210526e-05, 'epoch': 1.87}\n",
      "{'loss': 0.4787, 'grad_norm': 0.46648746728897095, 'learning_rate': 6.578947368421054e-05, 'epoch': 1.88}\n",
      "{'loss': 0.4747, 'grad_norm': 0.30383017659187317, 'learning_rate': 6.56842105263158e-05, 'epoch': 1.88}\n",
      "{'loss': 0.3403, 'grad_norm': 0.43888533115386963, 'learning_rate': 6.557894736842104e-05, 'epoch': 1.89}\n",
      "{'loss': 0.4132, 'grad_norm': 0.3009470999240875, 'learning_rate': 6.547368421052632e-05, 'epoch': 1.89}\n",
      "{'loss': 0.3809, 'grad_norm': 0.32513225078582764, 'learning_rate': 6.536842105263158e-05, 'epoch': 1.9}\n",
      "{'loss': 0.4143, 'grad_norm': 0.4585726857185364, 'learning_rate': 6.526315789473685e-05, 'epoch': 1.9}\n",
      "{'loss': 0.3901, 'grad_norm': 0.30547034740448, 'learning_rate': 6.515789473684211e-05, 'epoch': 1.91}\n",
      "{'loss': 0.4006, 'grad_norm': 0.3947131931781769, 'learning_rate': 6.505263157894737e-05, 'epoch': 1.91}\n",
      "{'loss': 0.3888, 'grad_norm': 0.5360168218612671, 'learning_rate': 6.494736842105263e-05, 'epoch': 1.92}\n",
      "{'loss': 0.5134, 'grad_norm': 1.7589281797409058, 'learning_rate': 6.484210526315789e-05, 'epoch': 1.92}\n",
      "{'loss': 0.3716, 'grad_norm': 0.48598238825798035, 'learning_rate': 6.473684210526316e-05, 'epoch': 1.93}\n",
      "{'loss': 0.3974, 'grad_norm': 0.3382387161254883, 'learning_rate': 6.463157894736842e-05, 'epoch': 1.93}\n",
      "{'loss': 0.4251, 'grad_norm': 0.34374290704727173, 'learning_rate': 6.452631578947368e-05, 'epoch': 1.94}\n",
      "{'loss': 0.4567, 'grad_norm': 0.4737950563430786, 'learning_rate': 6.442105263157894e-05, 'epoch': 1.94}\n",
      "{'loss': 0.455, 'grad_norm': 0.3891139328479767, 'learning_rate': 6.431578947368422e-05, 'epoch': 1.94}\n",
      "{'loss': 0.3853, 'grad_norm': 0.3245667815208435, 'learning_rate': 6.421052631578948e-05, 'epoch': 1.95}\n",
      "{'loss': 0.4455, 'grad_norm': 0.3830968737602234, 'learning_rate': 6.410526315789474e-05, 'epoch': 1.96}\n",
      "{'loss': 0.4, 'grad_norm': 0.2714734971523285, 'learning_rate': 6.400000000000001e-05, 'epoch': 1.96}\n",
      "{'loss': 0.4226, 'grad_norm': 0.38213643431663513, 'learning_rate': 6.389473684210526e-05, 'epoch': 1.96}\n",
      "{'loss': 0.3398, 'grad_norm': 0.37079548835754395, 'learning_rate': 6.378947368421053e-05, 'epoch': 1.97}\n",
      "{'loss': 0.388, 'grad_norm': 0.39132562279701233, 'learning_rate': 6.368421052631579e-05, 'epoch': 1.98}\n",
      "{'loss': 0.3671, 'grad_norm': 0.23751585185527802, 'learning_rate': 6.357894736842106e-05, 'epoch': 1.98}\n",
      "{'loss': 0.443, 'grad_norm': 0.2954024076461792, 'learning_rate': 6.347368421052632e-05, 'epoch': 1.98}\n",
      "{'loss': 0.4111, 'grad_norm': 0.30898991227149963, 'learning_rate': 6.336842105263158e-05, 'epoch': 1.99}\n",
      "{'loss': 0.377, 'grad_norm': 0.31390708684921265, 'learning_rate': 6.326315789473684e-05, 'epoch': 2.0}\n",
      "{'loss': 0.4462, 'grad_norm': 0.37126266956329346, 'learning_rate': 6.31578947368421e-05, 'epoch': 2.0}\n"
     ]
    },
    {
     "data": {
      "application/vnd.jupyter.widget-view+json": {
       "model_id": "f9839a165fd945308c44988f91e45c5f",
       "version_major": 2,
       "version_minor": 0
      },
      "text/plain": [
       "  0%|          | 0/500 [00:00<?, ?it/s]"
      ]
     },
     "metadata": {},
     "output_type": "display_data"
    },
    {
     "name": "stdout",
     "output_type": "stream",
     "text": [
      "{'eval_loss': 0.3967725336551666, 'eval_rouge1': 0.6502, 'eval_rouge2': 0.3416, 'eval_rougeL': 0.4929, 'eval_gen_len': 43.1525, 'eval_runtime': 94.0076, 'eval_samples_per_second': 21.275, 'eval_steps_per_second': 5.319, 'epoch': 2.0}\n",
      "{'loss': 0.4326, 'grad_norm': 0.23297114670276642, 'learning_rate': 6.305263157894738e-05, 'epoch': 2.0}\n",
      "{'loss': 0.3693, 'grad_norm': 0.4418458342552185, 'learning_rate': 6.294736842105264e-05, 'epoch': 2.01}\n",
      "{'loss': 0.3533, 'grad_norm': 0.3066933751106262, 'learning_rate': 6.28421052631579e-05, 'epoch': 2.02}\n",
      "{'loss': 0.3869, 'grad_norm': 0.370021790266037, 'learning_rate': 6.273684210526316e-05, 'epoch': 2.02}\n",
      "{'loss': 0.4001, 'grad_norm': 0.35760387778282166, 'learning_rate': 6.263157894736842e-05, 'epoch': 2.02}\n",
      "{'loss': 0.4476, 'grad_norm': 0.23314808309078217, 'learning_rate': 6.252631578947369e-05, 'epoch': 2.03}\n",
      "{'loss': 0.3396, 'grad_norm': 0.35580331087112427, 'learning_rate': 6.242105263157895e-05, 'epoch': 2.04}\n",
      "{'loss': 0.4416, 'grad_norm': 0.2699827253818512, 'learning_rate': 6.231578947368422e-05, 'epoch': 2.04}\n",
      "{'loss': 0.377, 'grad_norm': 0.3228399157524109, 'learning_rate': 6.221052631578947e-05, 'epoch': 2.04}\n",
      "{'loss': 0.3742, 'grad_norm': 0.3488262891769409, 'learning_rate': 6.210526315789474e-05, 'epoch': 2.05}\n",
      "{'loss': 0.3626, 'grad_norm': 0.32798445224761963, 'learning_rate': 6.2e-05, 'epoch': 2.06}\n",
      "{'loss': 0.4124, 'grad_norm': 0.41643595695495605, 'learning_rate': 6.189473684210526e-05, 'epoch': 2.06}\n",
      "{'loss': 0.3748, 'grad_norm': 0.4524807333946228, 'learning_rate': 6.178947368421054e-05, 'epoch': 2.06}\n",
      "{'loss': 0.4434, 'grad_norm': 0.3154463469982147, 'learning_rate': 6.168421052631578e-05, 'epoch': 2.07}\n",
      "{'loss': 0.3913, 'grad_norm': 0.3566513657569885, 'learning_rate': 6.157894736842106e-05, 'epoch': 2.08}\n",
      "{'loss': 0.4356, 'grad_norm': 0.30334460735321045, 'learning_rate': 6.147368421052632e-05, 'epoch': 2.08}\n",
      "{'loss': 0.4215, 'grad_norm': 0.3515932261943817, 'learning_rate': 6.136842105263159e-05, 'epoch': 2.08}\n",
      "{'loss': 0.3899, 'grad_norm': 0.3910941779613495, 'learning_rate': 6.126315789473685e-05, 'epoch': 2.09}\n",
      "{'loss': 0.4167, 'grad_norm': 0.2858247756958008, 'learning_rate': 6.115789473684211e-05, 'epoch': 2.1}\n",
      "{'loss': 0.3456, 'grad_norm': 0.41659095883369446, 'learning_rate': 6.105263157894737e-05, 'epoch': 2.1}\n",
      "{'loss': 0.3923, 'grad_norm': 0.5138192176818848, 'learning_rate': 6.094736842105263e-05, 'epoch': 2.1}\n",
      "{'loss': 0.3622, 'grad_norm': 0.2798745036125183, 'learning_rate': 6.08421052631579e-05, 'epoch': 2.11}\n",
      "{'loss': 0.4284, 'grad_norm': 0.4922988712787628, 'learning_rate': 6.073684210526316e-05, 'epoch': 2.12}\n",
      "{'loss': 0.4072, 'grad_norm': 0.43931323289871216, 'learning_rate': 6.063157894736843e-05, 'epoch': 2.12}\n",
      "{'loss': 0.3969, 'grad_norm': 0.3798692524433136, 'learning_rate': 6.052631578947369e-05, 'epoch': 2.12}\n",
      "{'loss': 0.3974, 'grad_norm': 0.29793936014175415, 'learning_rate': 6.042105263157894e-05, 'epoch': 2.13}\n",
      "{'loss': 0.3537, 'grad_norm': 0.4748193323612213, 'learning_rate': 6.0315789473684215e-05, 'epoch': 2.13}\n",
      "{'loss': 0.4114, 'grad_norm': 0.5099338889122009, 'learning_rate': 6.0210526315789475e-05, 'epoch': 2.14}\n",
      "{'loss': 0.3528, 'grad_norm': 0.47123196721076965, 'learning_rate': 6.010526315789474e-05, 'epoch': 2.15}\n",
      "{'loss': 0.4101, 'grad_norm': 0.465060293674469, 'learning_rate': 6e-05, 'epoch': 2.15}\n",
      "{'loss': 0.3551, 'grad_norm': 0.37030574679374695, 'learning_rate': 5.989473684210527e-05, 'epoch': 2.15}\n",
      "{'loss': 0.377, 'grad_norm': 0.4652951955795288, 'learning_rate': 5.978947368421053e-05, 'epoch': 2.16}\n",
      "{'loss': 0.4493, 'grad_norm': 0.3134341537952423, 'learning_rate': 5.968421052631579e-05, 'epoch': 2.17}\n",
      "{'loss': 0.3743, 'grad_norm': 0.3991656005382538, 'learning_rate': 5.9578947368421055e-05, 'epoch': 2.17}\n",
      "{'loss': 0.3963, 'grad_norm': 0.4048835337162018, 'learning_rate': 5.9473684210526315e-05, 'epoch': 2.17}\n",
      "{'loss': 0.338, 'grad_norm': 0.42639774084091187, 'learning_rate': 5.936842105263158e-05, 'epoch': 2.18}\n",
      "{'loss': 0.3859, 'grad_norm': 0.3560023009777069, 'learning_rate': 5.926315789473684e-05, 'epoch': 2.19}\n",
      "{'loss': 0.4417, 'grad_norm': 0.5873557329177856, 'learning_rate': 5.9157894736842114e-05, 'epoch': 2.19}\n",
      "{'loss': 0.3582, 'grad_norm': 0.2645624876022339, 'learning_rate': 5.905263157894737e-05, 'epoch': 2.19}\n",
      "{'loss': 0.3688, 'grad_norm': 0.31063276529312134, 'learning_rate': 5.894736842105263e-05, 'epoch': 2.2}\n"
     ]
    },
    {
     "data": {
      "application/vnd.jupyter.widget-view+json": {
       "model_id": "544d00b8075d44fb89505f476ba54868",
       "version_major": 2,
       "version_minor": 0
      },
      "text/plain": [
       "  0%|          | 0/500 [00:00<?, ?it/s]"
      ]
     },
     "metadata": {},
     "output_type": "display_data"
    },
    {
     "name": "stdout",
     "output_type": "stream",
     "text": [
      "{'eval_loss': 0.39395812153816223, 'eval_rouge1': 0.6522, 'eval_rouge2': 0.3426, 'eval_rougeL': 0.495, 'eval_gen_len': 43.1525, 'eval_runtime': 94.3616, 'eval_samples_per_second': 21.195, 'eval_steps_per_second': 5.299, 'epoch': 2.2}\n",
      "{'loss': 0.4121, 'grad_norm': 0.6152205467224121, 'learning_rate': 5.88421052631579e-05, 'epoch': 2.21}\n",
      "{'loss': 0.4147, 'grad_norm': 0.37999778985977173, 'learning_rate': 5.8736842105263154e-05, 'epoch': 2.21}\n",
      "{'loss': 0.4026, 'grad_norm': 0.37444114685058594, 'learning_rate': 5.863157894736843e-05, 'epoch': 2.21}\n",
      "{'loss': 0.4487, 'grad_norm': 0.4095427989959717, 'learning_rate': 5.852631578947369e-05, 'epoch': 2.22}\n",
      "{'loss': 0.4262, 'grad_norm': 0.34542468190193176, 'learning_rate': 5.8421052631578954e-05, 'epoch': 2.23}\n",
      "{'loss': 0.3279, 'grad_norm': 0.2913527488708496, 'learning_rate': 5.8315789473684214e-05, 'epoch': 2.23}\n",
      "{'loss': 0.2986, 'grad_norm': 0.3448982238769531, 'learning_rate': 5.821052631578948e-05, 'epoch': 2.23}\n",
      "{'loss': 0.4139, 'grad_norm': 0.4604315757751465, 'learning_rate': 5.810526315789474e-05, 'epoch': 2.24}\n",
      "{'loss': 0.4369, 'grad_norm': 0.41927632689476013, 'learning_rate': 5.8e-05, 'epoch': 2.25}\n",
      "{'loss': 0.3764, 'grad_norm': 0.34101876616477966, 'learning_rate': 5.789473684210527e-05, 'epoch': 2.25}\n",
      "{'loss': 0.3546, 'grad_norm': 0.3154408931732178, 'learning_rate': 5.778947368421053e-05, 'epoch': 2.25}\n",
      "{'loss': 0.4003, 'grad_norm': 0.43289992213249207, 'learning_rate': 5.7684210526315794e-05, 'epoch': 2.26}\n",
      "{'loss': 0.3889, 'grad_norm': 0.34645289182662964, 'learning_rate': 5.7578947368421053e-05, 'epoch': 2.27}\n",
      "{'loss': 0.4175, 'grad_norm': 0.2628723978996277, 'learning_rate': 5.747368421052633e-05, 'epoch': 2.27}\n",
      "{'loss': 0.395, 'grad_norm': 0.29235467314720154, 'learning_rate': 5.736842105263158e-05, 'epoch': 2.27}\n",
      "{'loss': 0.4121, 'grad_norm': 0.38031476736068726, 'learning_rate': 5.726315789473684e-05, 'epoch': 2.28}\n",
      "{'loss': 0.3773, 'grad_norm': 0.3566494286060333, 'learning_rate': 5.715789473684211e-05, 'epoch': 2.29}\n",
      "{'loss': 0.4257, 'grad_norm': 0.3739684522151947, 'learning_rate': 5.7052631578947366e-05, 'epoch': 2.29}\n",
      "{'loss': 0.3436, 'grad_norm': 0.4511416256427765, 'learning_rate': 5.694736842105264e-05, 'epoch': 2.29}\n",
      "{'loss': 0.4399, 'grad_norm': 0.46263572573661804, 'learning_rate': 5.68421052631579e-05, 'epoch': 2.3}\n",
      "{'loss': 0.3877, 'grad_norm': 2.948730230331421, 'learning_rate': 5.6736842105263166e-05, 'epoch': 2.31}\n",
      "{'loss': 0.3752, 'grad_norm': 0.3386510908603668, 'learning_rate': 5.6631578947368426e-05, 'epoch': 2.31}\n",
      "{'loss': 0.4219, 'grad_norm': 0.3944161534309387, 'learning_rate': 5.652631578947368e-05, 'epoch': 2.31}\n",
      "{'loss': 0.4102, 'grad_norm': 0.5010475516319275, 'learning_rate': 5.642105263157895e-05, 'epoch': 2.32}\n",
      "{'loss': 0.3838, 'grad_norm': 0.37571626901626587, 'learning_rate': 5.631578947368421e-05, 'epoch': 2.33}\n",
      "{'loss': 0.4229, 'grad_norm': 0.31361064314842224, 'learning_rate': 5.621052631578948e-05, 'epoch': 2.33}\n",
      "{'loss': 0.391, 'grad_norm': 0.2635733485221863, 'learning_rate': 5.610526315789474e-05, 'epoch': 2.33}\n",
      "{'loss': 0.4231, 'grad_norm': 0.2922126054763794, 'learning_rate': 5.6000000000000006e-05, 'epoch': 2.34}\n",
      "{'loss': 0.3869, 'grad_norm': 0.35674652457237244, 'learning_rate': 5.5894736842105266e-05, 'epoch': 2.34}\n",
      "{'loss': 0.4115, 'grad_norm': 0.2966730296611786, 'learning_rate': 5.5789473684210526e-05, 'epoch': 2.35}\n",
      "{'loss': 0.3504, 'grad_norm': 0.25476914644241333, 'learning_rate': 5.568421052631579e-05, 'epoch': 2.35}\n",
      "{'loss': 0.3683, 'grad_norm': 0.271849125623703, 'learning_rate': 5.557894736842105e-05, 'epoch': 2.36}\n",
      "{'loss': 0.3893, 'grad_norm': 0.29783210158348083, 'learning_rate': 5.547368421052632e-05, 'epoch': 2.37}\n",
      "{'loss': 0.3941, 'grad_norm': 0.2945576608181, 'learning_rate': 5.536842105263158e-05, 'epoch': 2.37}\n",
      "{'loss': 0.3648, 'grad_norm': 0.26955270767211914, 'learning_rate': 5.526315789473685e-05, 'epoch': 2.38}\n",
      "{'loss': 0.4144, 'grad_norm': 0.4503385126590729, 'learning_rate': 5.5157894736842105e-05, 'epoch': 2.38}\n",
      "{'loss': 0.3971, 'grad_norm': 0.3617575764656067, 'learning_rate': 5.5052631578947365e-05, 'epoch': 2.38}\n",
      "{'loss': 0.3745, 'grad_norm': 0.48360246419906616, 'learning_rate': 5.494736842105264e-05, 'epoch': 2.39}\n",
      "{'loss': 0.4009, 'grad_norm': 0.2839338481426239, 'learning_rate': 5.484210526315789e-05, 'epoch': 2.4}\n",
      "{'loss': 0.3922, 'grad_norm': 0.2585022449493408, 'learning_rate': 5.4736842105263165e-05, 'epoch': 2.4}\n"
     ]
    },
    {
     "data": {
      "application/vnd.jupyter.widget-view+json": {
       "model_id": "14e075cb3998443f8dd549a9200a9de7",
       "version_major": 2,
       "version_minor": 0
      },
      "text/plain": [
       "  0%|          | 0/500 [00:00<?, ?it/s]"
      ]
     },
     "metadata": {},
     "output_type": "display_data"
    },
    {
     "name": "stdout",
     "output_type": "stream",
     "text": [
      "{'eval_loss': 0.39222782850265503, 'eval_rouge1': 0.6544, 'eval_rouge2': 0.3461, 'eval_rougeL': 0.4968, 'eval_gen_len': 43.1525, 'eval_runtime': 96.7451, 'eval_samples_per_second': 20.673, 'eval_steps_per_second': 5.168, 'epoch': 2.4}\n",
      "{'loss': 0.4328, 'grad_norm': 0.4399929344654083, 'learning_rate': 5.4631578947368425e-05, 'epoch': 2.41}\n",
      "{'loss': 0.3818, 'grad_norm': 0.47657519578933716, 'learning_rate': 5.452631578947369e-05, 'epoch': 2.41}\n",
      "{'loss': 0.4377, 'grad_norm': 0.27068892121315, 'learning_rate': 5.442105263157895e-05, 'epoch': 2.42}\n",
      "{'loss': 0.4035, 'grad_norm': 0.3354891538619995, 'learning_rate': 5.431578947368421e-05, 'epoch': 2.42}\n",
      "{'loss': 0.4103, 'grad_norm': 0.3966781497001648, 'learning_rate': 5.421052631578948e-05, 'epoch': 2.42}\n",
      "{'loss': 0.3676, 'grad_norm': 0.3752385973930359, 'learning_rate': 5.410526315789474e-05, 'epoch': 2.43}\n",
      "{'loss': 0.3744, 'grad_norm': 0.4348120093345642, 'learning_rate': 5.4000000000000005e-05, 'epoch': 2.44}\n",
      "{'loss': 0.4905, 'grad_norm': 0.4634483754634857, 'learning_rate': 5.3894736842105265e-05, 'epoch': 2.44}\n",
      "{'loss': 0.422, 'grad_norm': 0.40021416544914246, 'learning_rate': 5.378947368421053e-05, 'epoch': 2.44}\n",
      "{'loss': 0.3281, 'grad_norm': 0.3054363429546356, 'learning_rate': 5.368421052631579e-05, 'epoch': 2.45}\n",
      "{'loss': 0.4415, 'grad_norm': 0.3308485150337219, 'learning_rate': 5.357894736842105e-05, 'epoch': 2.46}\n",
      "{'loss': 0.3674, 'grad_norm': 0.30009791254997253, 'learning_rate': 5.347368421052632e-05, 'epoch': 2.46}\n",
      "{'loss': 0.3876, 'grad_norm': 0.4215971827507019, 'learning_rate': 5.336842105263158e-05, 'epoch': 2.46}\n",
      "{'loss': 0.4536, 'grad_norm': 0.3634551167488098, 'learning_rate': 5.326315789473685e-05, 'epoch': 2.47}\n",
      "{'loss': 0.3723, 'grad_norm': 0.3325599730014801, 'learning_rate': 5.3157894736842104e-05, 'epoch': 2.48}\n",
      "{'loss': 0.3215, 'grad_norm': 0.25193944573402405, 'learning_rate': 5.305263157894738e-05, 'epoch': 2.48}\n",
      "{'loss': 0.3704, 'grad_norm': 0.46100616455078125, 'learning_rate': 5.294736842105264e-05, 'epoch': 2.48}\n",
      "{'loss': 0.4033, 'grad_norm': 0.32246217131614685, 'learning_rate': 5.284210526315789e-05, 'epoch': 2.49}\n",
      "{'loss': 0.3823, 'grad_norm': 0.34011518955230713, 'learning_rate': 5.2736842105263164e-05, 'epoch': 2.5}\n",
      "{'loss': 0.4498, 'grad_norm': 0.3429352343082428, 'learning_rate': 5.2631578947368424e-05, 'epoch': 2.5}\n",
      "{'loss': 0.454, 'grad_norm': 0.4216335713863373, 'learning_rate': 5.252631578947369e-05, 'epoch': 2.5}\n",
      "{'loss': 0.3805, 'grad_norm': 0.3204122483730316, 'learning_rate': 5.242105263157895e-05, 'epoch': 2.51}\n",
      "{'loss': 0.3929, 'grad_norm': 0.2932700216770172, 'learning_rate': 5.231578947368422e-05, 'epoch': 2.52}\n",
      "{'loss': 0.4311, 'grad_norm': 0.3203620910644531, 'learning_rate': 5.221052631578948e-05, 'epoch': 2.52}\n",
      "{'loss': 0.3969, 'grad_norm': 0.38914790749549866, 'learning_rate': 5.210526315789474e-05, 'epoch': 2.52}\n",
      "{'loss': 0.448, 'grad_norm': 0.46841657161712646, 'learning_rate': 5.2000000000000004e-05, 'epoch': 2.53}\n",
      "{'loss': 0.3953, 'grad_norm': 0.40508535504341125, 'learning_rate': 5.1894736842105263e-05, 'epoch': 2.54}\n",
      "{'loss': 0.4486, 'grad_norm': 0.3596784174442291, 'learning_rate': 5.178947368421053e-05, 'epoch': 2.54}\n",
      "{'loss': 0.3653, 'grad_norm': 0.2932811975479126, 'learning_rate': 5.168421052631579e-05, 'epoch': 2.54}\n",
      "{'loss': 0.4135, 'grad_norm': 0.3637906014919281, 'learning_rate': 5.157894736842106e-05, 'epoch': 2.55}\n",
      "{'loss': 0.4019, 'grad_norm': 0.27863427996635437, 'learning_rate': 5.1473684210526317e-05, 'epoch': 2.56}\n",
      "{'loss': 0.4005, 'grad_norm': 0.3695624768733978, 'learning_rate': 5.1368421052631576e-05, 'epoch': 2.56}\n",
      "{'loss': 0.3971, 'grad_norm': 0.4537542462348938, 'learning_rate': 5.126315789473684e-05, 'epoch': 2.56}\n",
      "{'loss': 0.4361, 'grad_norm': 0.2933675944805145, 'learning_rate': 5.11578947368421e-05, 'epoch': 2.57}\n",
      "{'loss': 0.4282, 'grad_norm': 0.3528458774089813, 'learning_rate': 5.1052631578947376e-05, 'epoch': 2.58}\n",
      "{'loss': 0.4089, 'grad_norm': 0.3584708571434021, 'learning_rate': 5.094736842105263e-05, 'epoch': 2.58}\n",
      "{'loss': 0.3462, 'grad_norm': 0.35649681091308594, 'learning_rate': 5.08421052631579e-05, 'epoch': 2.58}\n",
      "{'loss': 0.4297, 'grad_norm': 0.31846702098846436, 'learning_rate': 5.073684210526316e-05, 'epoch': 2.59}\n",
      "{'loss': 0.4172, 'grad_norm': 0.45136961340904236, 'learning_rate': 5.0631578947368416e-05, 'epoch': 2.59}\n",
      "{'loss': 0.3935, 'grad_norm': 0.32173898816108704, 'learning_rate': 5.052631578947369e-05, 'epoch': 2.6}\n"
     ]
    },
    {
     "data": {
      "application/vnd.jupyter.widget-view+json": {
       "model_id": "b19f1c2d6c7744a89b01cf0f1a7f2cb0",
       "version_major": 2,
       "version_minor": 0
      },
      "text/plain": [
       "  0%|          | 0/500 [00:00<?, ?it/s]"
      ]
     },
     "metadata": {},
     "output_type": "display_data"
    },
    {
     "name": "stdout",
     "output_type": "stream",
     "text": [
      "{'eval_loss': 0.3893381953239441, 'eval_rouge1': 0.6564, 'eval_rouge2': 0.3454, 'eval_rougeL': 0.4973, 'eval_gen_len': 43.1525, 'eval_runtime': 95.0835, 'eval_samples_per_second': 21.034, 'eval_steps_per_second': 5.259, 'epoch': 2.6}\n",
      "{'loss': 0.3256, 'grad_norm': 0.37922459840774536, 'learning_rate': 5.042105263157895e-05, 'epoch': 2.6}\n",
      "{'loss': 0.4464, 'grad_norm': 0.35446053743362427, 'learning_rate': 5.0315789473684216e-05, 'epoch': 2.61}\n",
      "{'loss': 0.3402, 'grad_norm': 0.22196196019649506, 'learning_rate': 5.0210526315789476e-05, 'epoch': 2.62}\n",
      "{'loss': 0.3773, 'grad_norm': 0.3503531813621521, 'learning_rate': 5.010526315789474e-05, 'epoch': 2.62}\n",
      "{'loss': 0.3943, 'grad_norm': 0.35726380348205566, 'learning_rate': 5e-05, 'epoch': 2.62}\n",
      "{'loss': 0.3546, 'grad_norm': 0.341122031211853, 'learning_rate': 4.989473684210527e-05, 'epoch': 2.63}\n",
      "{'loss': 0.3549, 'grad_norm': 0.3757414221763611, 'learning_rate': 4.978947368421053e-05, 'epoch': 2.63}\n",
      "{'loss': 0.428, 'grad_norm': 0.3028092682361603, 'learning_rate': 4.9684210526315796e-05, 'epoch': 2.64}\n",
      "{'loss': 0.4209, 'grad_norm': 0.352443665266037, 'learning_rate': 4.9578947368421055e-05, 'epoch': 2.65}\n",
      "{'loss': 0.4667, 'grad_norm': 0.3599815368652344, 'learning_rate': 4.9473684210526315e-05, 'epoch': 2.65}\n",
      "{'loss': 0.349, 'grad_norm': 0.28470462560653687, 'learning_rate': 4.936842105263158e-05, 'epoch': 2.66}\n",
      "{'loss': 0.3894, 'grad_norm': 0.31693482398986816, 'learning_rate': 4.926315789473684e-05, 'epoch': 2.66}\n",
      "{'loss': 0.3597, 'grad_norm': 0.3424006998538971, 'learning_rate': 4.915789473684211e-05, 'epoch': 2.67}\n",
      "{'loss': 0.3553, 'grad_norm': 0.31785768270492554, 'learning_rate': 4.9052631578947375e-05, 'epoch': 2.67}\n",
      "{'loss': 0.4449, 'grad_norm': 0.24899429082870483, 'learning_rate': 4.8947368421052635e-05, 'epoch': 2.67}\n",
      "{'loss': 0.4007, 'grad_norm': 0.3138943314552307, 'learning_rate': 4.8842105263157895e-05, 'epoch': 2.68}\n",
      "{'loss': 0.4217, 'grad_norm': 0.2766210734844208, 'learning_rate': 4.873684210526316e-05, 'epoch': 2.69}\n",
      "{'loss': 0.369, 'grad_norm': 0.4682972729206085, 'learning_rate': 4.863157894736842e-05, 'epoch': 2.69}\n",
      "{'loss': 0.4242, 'grad_norm': 0.32376644015312195, 'learning_rate': 4.852631578947369e-05, 'epoch': 2.69}\n",
      "{'loss': 0.3981, 'grad_norm': 0.3718356788158417, 'learning_rate': 4.842105263157895e-05, 'epoch': 2.7}\n",
      "{'loss': 0.3692, 'grad_norm': 0.3000439703464508, 'learning_rate': 4.8315789473684215e-05, 'epoch': 2.71}\n",
      "{'loss': 0.4467, 'grad_norm': 0.30757319927215576, 'learning_rate': 4.821052631578948e-05, 'epoch': 2.71}\n",
      "{'loss': 0.38, 'grad_norm': 0.34897470474243164, 'learning_rate': 4.8105263157894735e-05, 'epoch': 2.71}\n",
      "{'loss': 0.3909, 'grad_norm': 0.4853811264038086, 'learning_rate': 4.8e-05, 'epoch': 2.72}\n",
      "{'loss': 0.3832, 'grad_norm': 0.6217129230499268, 'learning_rate': 4.789473684210526e-05, 'epoch': 2.73}\n",
      "{'loss': 0.4186, 'grad_norm': 0.3610643744468689, 'learning_rate': 4.778947368421053e-05, 'epoch': 2.73}\n",
      "{'loss': 0.3775, 'grad_norm': 0.32926562428474426, 'learning_rate': 4.7684210526315794e-05, 'epoch': 2.73}\n",
      "{'loss': 0.3816, 'grad_norm': 0.34637251496315, 'learning_rate': 4.7578947368421054e-05, 'epoch': 2.74}\n",
      "{'loss': 0.4092, 'grad_norm': 0.29210761189460754, 'learning_rate': 4.747368421052632e-05, 'epoch': 2.75}\n",
      "{'loss': 0.3838, 'grad_norm': 0.43250033259391785, 'learning_rate': 4.736842105263158e-05, 'epoch': 2.75}\n",
      "{'loss': 0.3738, 'grad_norm': 0.24977321922779083, 'learning_rate': 4.726315789473684e-05, 'epoch': 2.75}\n",
      "{'loss': 0.4047, 'grad_norm': 0.4598405063152313, 'learning_rate': 4.715789473684211e-05, 'epoch': 2.76}\n",
      "{'loss': 0.4281, 'grad_norm': 0.4822789132595062, 'learning_rate': 4.705263157894737e-05, 'epoch': 2.77}\n",
      "{'loss': 0.4182, 'grad_norm': 0.553328275680542, 'learning_rate': 4.6947368421052634e-05, 'epoch': 2.77}\n",
      "{'loss': 0.3943, 'grad_norm': 0.4182160198688507, 'learning_rate': 4.68421052631579e-05, 'epoch': 2.77}\n",
      "{'loss': 0.413, 'grad_norm': 0.373729944229126, 'learning_rate': 4.673684210526316e-05, 'epoch': 2.78}\n",
      "{'loss': 0.3744, 'grad_norm': 0.24881483614444733, 'learning_rate': 4.663157894736842e-05, 'epoch': 2.79}\n",
      "{'loss': 0.389, 'grad_norm': 0.37832292914390564, 'learning_rate': 4.652631578947369e-05, 'epoch': 2.79}\n",
      "{'loss': 0.4532, 'grad_norm': 0.3029762804508209, 'learning_rate': 4.642105263157895e-05, 'epoch': 2.79}\n",
      "{'loss': 0.3465, 'grad_norm': 0.36596745252609253, 'learning_rate': 4.6315789473684214e-05, 'epoch': 2.8}\n"
     ]
    },
    {
     "data": {
      "application/vnd.jupyter.widget-view+json": {
       "model_id": "6a7b70ca363742e3aa6f9a2062439d37",
       "version_major": 2,
       "version_minor": 0
      },
      "text/plain": [
       "  0%|          | 0/500 [00:00<?, ?it/s]"
      ]
     },
     "metadata": {},
     "output_type": "display_data"
    },
    {
     "name": "stdout",
     "output_type": "stream",
     "text": [
      "{'eval_loss': 0.3871671259403229, 'eval_rouge1': 0.657, 'eval_rouge2': 0.348, 'eval_rougeL': 0.4988, 'eval_gen_len': 43.1525, 'eval_runtime': 95.8729, 'eval_samples_per_second': 20.861, 'eval_steps_per_second': 5.215, 'epoch': 2.8}\n",
      "{'loss': 0.4222, 'grad_norm': 0.33852148056030273, 'learning_rate': 4.6210526315789473e-05, 'epoch': 2.81}\n",
      "{'loss': 0.4331, 'grad_norm': 0.2858482599258423, 'learning_rate': 4.610526315789474e-05, 'epoch': 2.81}\n",
      "{'loss': 0.3718, 'grad_norm': 0.40588754415512085, 'learning_rate': 4.600000000000001e-05, 'epoch': 2.81}\n",
      "{'loss': 0.3941, 'grad_norm': 0.4647252857685089, 'learning_rate': 4.589473684210526e-05, 'epoch': 2.82}\n",
      "{'loss': 0.4147, 'grad_norm': 0.34081804752349854, 'learning_rate': 4.5789473684210527e-05, 'epoch': 2.83}\n",
      "{'loss': 0.4238, 'grad_norm': 0.27213427424430847, 'learning_rate': 4.568421052631579e-05, 'epoch': 2.83}\n",
      "{'loss': 0.3984, 'grad_norm': 0.30905666947364807, 'learning_rate': 4.557894736842105e-05, 'epoch': 2.83}\n",
      "{'loss': 0.3909, 'grad_norm': 0.4101187586784363, 'learning_rate': 4.547368421052632e-05, 'epoch': 2.84}\n",
      "{'loss': 0.4108, 'grad_norm': 0.26814329624176025, 'learning_rate': 4.536842105263158e-05, 'epoch': 2.84}\n",
      "{'loss': 0.3505, 'grad_norm': 0.4883488118648529, 'learning_rate': 4.5263157894736846e-05, 'epoch': 2.85}\n",
      "{'loss': 0.4361, 'grad_norm': 0.30759429931640625, 'learning_rate': 4.515789473684211e-05, 'epoch': 2.85}\n",
      "{'loss': 0.4132, 'grad_norm': 0.3591880202293396, 'learning_rate': 4.5052631578947366e-05, 'epoch': 2.86}\n",
      "{'loss': 0.3565, 'grad_norm': 0.33635440468788147, 'learning_rate': 4.494736842105263e-05, 'epoch': 2.87}\n",
      "{'loss': 0.3626, 'grad_norm': 0.2856370806694031, 'learning_rate': 4.48421052631579e-05, 'epoch': 2.87}\n",
      "{'loss': 0.3862, 'grad_norm': 0.4778335988521576, 'learning_rate': 4.473684210526316e-05, 'epoch': 2.88}\n",
      "{'loss': 0.3796, 'grad_norm': 0.252981573343277, 'learning_rate': 4.4631578947368426e-05, 'epoch': 2.88}\n",
      "{'loss': 0.3537, 'grad_norm': 0.35899612307548523, 'learning_rate': 4.4526315789473686e-05, 'epoch': 2.88}\n",
      "{'loss': 0.3717, 'grad_norm': 0.3297940194606781, 'learning_rate': 4.442105263157895e-05, 'epoch': 2.89}\n",
      "{'loss': 0.4518, 'grad_norm': 0.28901180624961853, 'learning_rate': 4.431578947368421e-05, 'epoch': 2.9}\n",
      "{'loss': 0.3873, 'grad_norm': 0.4080411195755005, 'learning_rate': 4.421052631578947e-05, 'epoch': 2.9}\n",
      "{'loss': 0.3784, 'grad_norm': 0.3830883800983429, 'learning_rate': 4.410526315789474e-05, 'epoch': 2.91}\n",
      "{'loss': 0.3695, 'grad_norm': 0.4138900935649872, 'learning_rate': 4.4000000000000006e-05, 'epoch': 2.91}\n",
      "{'loss': 0.391, 'grad_norm': 0.32923823595046997, 'learning_rate': 4.3894736842105266e-05, 'epoch': 2.92}\n",
      "{'loss': 0.3833, 'grad_norm': 0.40869247913360596, 'learning_rate': 4.378947368421053e-05, 'epoch': 2.92}\n",
      "{'loss': 0.3592, 'grad_norm': 0.29238349199295044, 'learning_rate': 4.368421052631579e-05, 'epoch': 2.92}\n",
      "{'loss': 0.361, 'grad_norm': 0.2991178631782532, 'learning_rate': 4.357894736842105e-05, 'epoch': 2.93}\n",
      "{'loss': 0.4299, 'grad_norm': 0.3517078161239624, 'learning_rate': 4.347368421052632e-05, 'epoch': 2.94}\n",
      "{'loss': 0.3495, 'grad_norm': 0.34521713852882385, 'learning_rate': 4.336842105263158e-05, 'epoch': 2.94}\n",
      "{'loss': 0.4052, 'grad_norm': 0.4173186421394348, 'learning_rate': 4.3263157894736845e-05, 'epoch': 2.94}\n",
      "{'loss': 0.3936, 'grad_norm': 0.3188977837562561, 'learning_rate': 4.3157894736842105e-05, 'epoch': 2.95}\n",
      "{'loss': 0.4289, 'grad_norm': 0.2954317629337311, 'learning_rate': 4.305263157894737e-05, 'epoch': 2.96}\n",
      "{'loss': 0.3913, 'grad_norm': 0.4574630856513977, 'learning_rate': 4.294736842105264e-05, 'epoch': 2.96}\n",
      "{'loss': 0.4116, 'grad_norm': 0.412541925907135, 'learning_rate': 4.284210526315789e-05, 'epoch': 2.96}\n",
      "{'loss': 0.3731, 'grad_norm': 0.43775245547294617, 'learning_rate': 4.273684210526316e-05, 'epoch': 2.97}\n",
      "{'loss': 0.3765, 'grad_norm': 0.4911692440509796, 'learning_rate': 4.2631578947368425e-05, 'epoch': 2.98}\n",
      "{'loss': 0.3952, 'grad_norm': 0.45139962434768677, 'learning_rate': 4.2526315789473685e-05, 'epoch': 2.98}\n",
      "{'loss': 0.3931, 'grad_norm': 0.31723088026046753, 'learning_rate': 4.242105263157895e-05, 'epoch': 2.98}\n",
      "{'loss': 0.3497, 'grad_norm': 0.3576010465621948, 'learning_rate': 4.231578947368421e-05, 'epoch': 2.99}\n",
      "{'loss': 0.4241, 'grad_norm': 0.3782014548778534, 'learning_rate': 4.221052631578948e-05, 'epoch': 3.0}\n",
      "{'loss': 0.364, 'grad_norm': 0.37743645906448364, 'learning_rate': 4.210526315789474e-05, 'epoch': 3.0}\n"
     ]
    },
    {
     "data": {
      "application/vnd.jupyter.widget-view+json": {
       "model_id": "f638dd22bd454201a9d1d19166106a37",
       "version_major": 2,
       "version_minor": 0
      },
      "text/plain": [
       "  0%|          | 0/500 [00:00<?, ?it/s]"
      ]
     },
     "metadata": {},
     "output_type": "display_data"
    },
    {
     "name": "stdout",
     "output_type": "stream",
     "text": [
      "{'eval_loss': 0.3850921094417572, 'eval_rouge1': 0.6596, 'eval_rouge2': 0.3499, 'eval_rougeL': 0.5002, 'eval_gen_len': 43.1525, 'eval_runtime': 94.9179, 'eval_samples_per_second': 21.071, 'eval_steps_per_second': 5.268, 'epoch': 3.0}\n",
      "{'loss': 0.3282, 'grad_norm': 0.21243780851364136, 'learning_rate': 4.2e-05, 'epoch': 3.0}\n",
      "{'loss': 0.4394, 'grad_norm': 0.3380967676639557, 'learning_rate': 4.1894736842105264e-05, 'epoch': 3.01}\n",
      "{'loss': 0.3769, 'grad_norm': 0.3439804017543793, 'learning_rate': 4.178947368421053e-05, 'epoch': 3.02}\n",
      "{'loss': 0.3925, 'grad_norm': 0.4685874581336975, 'learning_rate': 4.168421052631579e-05, 'epoch': 3.02}\n",
      "{'loss': 0.3308, 'grad_norm': 0.35777977108955383, 'learning_rate': 4.157894736842106e-05, 'epoch': 3.02}\n",
      "{'loss': 0.3951, 'grad_norm': 0.38589778542518616, 'learning_rate': 4.147368421052632e-05, 'epoch': 3.03}\n",
      "{'loss': 0.3726, 'grad_norm': 0.35979053378105164, 'learning_rate': 4.136842105263158e-05, 'epoch': 3.04}\n",
      "{'loss': 0.3961, 'grad_norm': 0.3032912611961365, 'learning_rate': 4.1263157894736844e-05, 'epoch': 3.04}\n",
      "{'loss': 0.4033, 'grad_norm': 0.4535398483276367, 'learning_rate': 4.1157894736842104e-05, 'epoch': 3.04}\n",
      "{'loss': 0.3926, 'grad_norm': 0.420403391122818, 'learning_rate': 4.105263157894737e-05, 'epoch': 3.05}\n",
      "{'loss': 0.348, 'grad_norm': 0.24415118992328644, 'learning_rate': 4.094736842105264e-05, 'epoch': 3.06}\n",
      "{'loss': 0.3906, 'grad_norm': 0.5934434533119202, 'learning_rate': 4.08421052631579e-05, 'epoch': 3.06}\n",
      "{'loss': 0.4286, 'grad_norm': 0.36087825894355774, 'learning_rate': 4.0736842105263164e-05, 'epoch': 3.06}\n",
      "{'loss': 0.4155, 'grad_norm': 0.31417030096054077, 'learning_rate': 4.0631578947368424e-05, 'epoch': 3.07}\n",
      "{'loss': 0.4219, 'grad_norm': 0.2917225956916809, 'learning_rate': 4.0526315789473684e-05, 'epoch': 3.08}\n",
      "{'loss': 0.3491, 'grad_norm': 0.39136821031570435, 'learning_rate': 4.042105263157895e-05, 'epoch': 3.08}\n",
      "{'loss': 0.4043, 'grad_norm': 0.33613893389701843, 'learning_rate': 4.031578947368421e-05, 'epoch': 3.08}\n",
      "{'loss': 0.3805, 'grad_norm': 0.3266545534133911, 'learning_rate': 4.021052631578948e-05, 'epoch': 3.09}\n",
      "{'loss': 0.3114, 'grad_norm': 0.3003332316875458, 'learning_rate': 4.010526315789474e-05, 'epoch': 3.1}\n",
      "{'loss': 0.3771, 'grad_norm': 0.8026695847511292, 'learning_rate': 4e-05, 'epoch': 3.1}\n",
      "{'loss': 0.4687, 'grad_norm': 0.381305068731308, 'learning_rate': 3.989473684210526e-05, 'epoch': 3.1}\n",
      "{'loss': 0.3741, 'grad_norm': 0.3441721796989441, 'learning_rate': 3.978947368421053e-05, 'epoch': 3.11}\n",
      "{'loss': 0.4069, 'grad_norm': 0.35540369153022766, 'learning_rate': 3.968421052631579e-05, 'epoch': 3.12}\n",
      "{'loss': 0.3751, 'grad_norm': 0.30940404534339905, 'learning_rate': 3.9578947368421056e-05, 'epoch': 3.12}\n",
      "{'loss': 0.4887, 'grad_norm': 0.3616771399974823, 'learning_rate': 3.9473684210526316e-05, 'epoch': 3.12}\n",
      "{'loss': 0.3981, 'grad_norm': 0.29777222871780396, 'learning_rate': 3.936842105263158e-05, 'epoch': 3.13}\n",
      "{'loss': 0.4131, 'grad_norm': 0.3268424868583679, 'learning_rate': 3.926315789473684e-05, 'epoch': 3.13}\n",
      "{'loss': 0.3757, 'grad_norm': 0.3364190459251404, 'learning_rate': 3.91578947368421e-05, 'epoch': 3.14}\n",
      "{'loss': 0.3618, 'grad_norm': 0.26581189036369324, 'learning_rate': 3.905263157894737e-05, 'epoch': 3.15}\n",
      "{'loss': 0.3559, 'grad_norm': 0.36389604210853577, 'learning_rate': 3.894736842105263e-05, 'epoch': 3.15}\n",
      "{'loss': 0.4063, 'grad_norm': 0.345641553401947, 'learning_rate': 3.8842105263157896e-05, 'epoch': 3.15}\n",
      "{'loss': 0.4205, 'grad_norm': 0.2791515290737152, 'learning_rate': 3.873684210526316e-05, 'epoch': 3.16}\n",
      "{'loss': 0.3759, 'grad_norm': 0.3427412211894989, 'learning_rate': 3.863157894736842e-05, 'epoch': 3.17}\n",
      "{'loss': 0.3826, 'grad_norm': 0.3619168698787689, 'learning_rate': 3.852631578947369e-05, 'epoch': 3.17}\n",
      "{'loss': 0.3884, 'grad_norm': 0.3076187074184418, 'learning_rate': 3.842105263157895e-05, 'epoch': 3.17}\n",
      "{'loss': 0.3952, 'grad_norm': 0.30750080943107605, 'learning_rate': 3.831578947368421e-05, 'epoch': 3.18}\n",
      "{'loss': 0.3448, 'grad_norm': 0.3946147561073303, 'learning_rate': 3.8210526315789476e-05, 'epoch': 3.19}\n",
      "{'loss': 0.3666, 'grad_norm': 0.3581424951553345, 'learning_rate': 3.8105263157894735e-05, 'epoch': 3.19}\n",
      "{'loss': 0.3134, 'grad_norm': 0.4965894818305969, 'learning_rate': 3.8e-05, 'epoch': 3.19}\n",
      "{'loss': 0.4272, 'grad_norm': 0.40032801032066345, 'learning_rate': 3.789473684210527e-05, 'epoch': 3.2}\n"
     ]
    },
    {
     "data": {
      "application/vnd.jupyter.widget-view+json": {
       "model_id": "4cb4d2fbaed34aa29070c56317caab23",
       "version_major": 2,
       "version_minor": 0
      },
      "text/plain": [
       "  0%|          | 0/500 [00:00<?, ?it/s]"
      ]
     },
     "metadata": {},
     "output_type": "display_data"
    },
    {
     "name": "stdout",
     "output_type": "stream",
     "text": [
      "{'eval_loss': 0.3857538402080536, 'eval_rouge1': 0.6623, 'eval_rouge2': 0.3507, 'eval_rougeL': 0.5009, 'eval_gen_len': 43.1525, 'eval_runtime': 97.6964, 'eval_samples_per_second': 20.472, 'eval_steps_per_second': 5.118, 'epoch': 3.2}\n",
      "{'loss': 0.4269, 'grad_norm': 0.482953816652298, 'learning_rate': 3.778947368421053e-05, 'epoch': 3.21}\n",
      "{'loss': 0.4684, 'grad_norm': 0.5197187662124634, 'learning_rate': 3.768421052631579e-05, 'epoch': 3.21}\n",
      "{'loss': 0.3758, 'grad_norm': 0.37599077820777893, 'learning_rate': 3.7578947368421055e-05, 'epoch': 3.21}\n",
      "{'loss': 0.3925, 'grad_norm': 0.3407813012599945, 'learning_rate': 3.7473684210526315e-05, 'epoch': 3.22}\n",
      "{'loss': 0.4418, 'grad_norm': 0.3578108549118042, 'learning_rate': 3.736842105263158e-05, 'epoch': 3.23}\n",
      "{'loss': 0.3754, 'grad_norm': 0.36897143721580505, 'learning_rate': 3.726315789473684e-05, 'epoch': 3.23}\n",
      "{'loss': 0.3292, 'grad_norm': 0.3507036864757538, 'learning_rate': 3.715789473684211e-05, 'epoch': 3.23}\n",
      "{'loss': 0.3289, 'grad_norm': 0.3005325198173523, 'learning_rate': 3.7052631578947375e-05, 'epoch': 3.24}\n",
      "{'loss': 0.3674, 'grad_norm': 0.3004627823829651, 'learning_rate': 3.6947368421052635e-05, 'epoch': 3.25}\n",
      "{'loss': 0.367, 'grad_norm': 0.2637098431587219, 'learning_rate': 3.6842105263157895e-05, 'epoch': 3.25}\n",
      "{'loss': 0.3979, 'grad_norm': 0.5499349236488342, 'learning_rate': 3.673684210526316e-05, 'epoch': 3.25}\n",
      "{'loss': 0.3808, 'grad_norm': 0.4078388214111328, 'learning_rate': 3.663157894736842e-05, 'epoch': 3.26}\n",
      "{'loss': 0.3602, 'grad_norm': 0.47394710779190063, 'learning_rate': 3.652631578947369e-05, 'epoch': 3.27}\n",
      "{'loss': 0.3687, 'grad_norm': 0.423159122467041, 'learning_rate': 3.642105263157895e-05, 'epoch': 3.27}\n",
      "{'loss': 0.3713, 'grad_norm': 0.38327229022979736, 'learning_rate': 3.6315789473684214e-05, 'epoch': 3.27}\n",
      "{'loss': 0.4039, 'grad_norm': 0.36628255248069763, 'learning_rate': 3.621052631578948e-05, 'epoch': 3.28}\n",
      "{'loss': 0.3668, 'grad_norm': 0.48275837302207947, 'learning_rate': 3.6105263157894734e-05, 'epoch': 3.29}\n",
      "{'loss': 0.3643, 'grad_norm': 0.3608699440956116, 'learning_rate': 3.6e-05, 'epoch': 3.29}\n",
      "{'loss': 0.3618, 'grad_norm': 0.4371512532234192, 'learning_rate': 3.589473684210527e-05, 'epoch': 3.29}\n",
      "{'loss': 0.3794, 'grad_norm': 0.35237279534339905, 'learning_rate': 3.578947368421053e-05, 'epoch': 3.3}\n",
      "{'loss': 0.2982, 'grad_norm': 0.35770028829574585, 'learning_rate': 3.5684210526315794e-05, 'epoch': 3.31}\n",
      "{'loss': 0.3786, 'grad_norm': 0.34455832839012146, 'learning_rate': 3.5578947368421054e-05, 'epoch': 3.31}\n",
      "{'loss': 0.4288, 'grad_norm': 0.3371210992336273, 'learning_rate': 3.547368421052632e-05, 'epoch': 3.31}\n",
      "{'loss': 0.3639, 'grad_norm': 0.3087742030620575, 'learning_rate': 3.536842105263158e-05, 'epoch': 3.32}\n",
      "{'loss': 0.3631, 'grad_norm': 0.44918620586395264, 'learning_rate': 3.526315789473684e-05, 'epoch': 3.33}\n",
      "{'loss': 0.3751, 'grad_norm': 0.5412035584449768, 'learning_rate': 3.515789473684211e-05, 'epoch': 3.33}\n",
      "{'loss': 0.4233, 'grad_norm': 0.41330277919769287, 'learning_rate': 3.505263157894737e-05, 'epoch': 3.33}\n",
      "{'loss': 0.4265, 'grad_norm': 0.321175754070282, 'learning_rate': 3.4947368421052634e-05, 'epoch': 3.34}\n",
      "{'loss': 0.3745, 'grad_norm': 0.3501860499382019, 'learning_rate': 3.48421052631579e-05, 'epoch': 3.34}\n",
      "{'loss': 0.4069, 'grad_norm': 0.4001617431640625, 'learning_rate': 3.473684210526316e-05, 'epoch': 3.35}\n",
      "{'loss': 0.4123, 'grad_norm': 0.300492525100708, 'learning_rate': 3.463157894736842e-05, 'epoch': 3.35}\n",
      "{'loss': 0.4016, 'grad_norm': 0.5189900994300842, 'learning_rate': 3.452631578947369e-05, 'epoch': 3.36}\n",
      "{'loss': 0.3948, 'grad_norm': 0.325772762298584, 'learning_rate': 3.442105263157895e-05, 'epoch': 3.37}\n",
      "{'loss': 0.3953, 'grad_norm': 0.3706151843070984, 'learning_rate': 3.431578947368421e-05, 'epoch': 3.37}\n",
      "{'loss': 0.4404, 'grad_norm': 0.3755672872066498, 'learning_rate': 3.421052631578947e-05, 'epoch': 3.38}\n",
      "{'loss': 0.3815, 'grad_norm': 0.4079779088497162, 'learning_rate': 3.410526315789474e-05, 'epoch': 3.38}\n",
      "{'loss': 0.3682, 'grad_norm': 0.3238442540168762, 'learning_rate': 3.4000000000000007e-05, 'epoch': 3.38}\n",
      "{'loss': 0.4467, 'grad_norm': 0.28821879625320435, 'learning_rate': 3.389473684210526e-05, 'epoch': 3.39}\n",
      "{'loss': 0.3782, 'grad_norm': 0.496734082698822, 'learning_rate': 3.3789473684210526e-05, 'epoch': 3.4}\n",
      "{'loss': 0.4084, 'grad_norm': 0.2929803431034088, 'learning_rate': 3.368421052631579e-05, 'epoch': 3.4}\n"
     ]
    },
    {
     "data": {
      "application/vnd.jupyter.widget-view+json": {
       "model_id": "d101cc4606624982bf71b58ec147e8be",
       "version_major": 2,
       "version_minor": 0
      },
      "text/plain": [
       "  0%|          | 0/500 [00:00<?, ?it/s]"
      ]
     },
     "metadata": {},
     "output_type": "display_data"
    },
    {
     "name": "stdout",
     "output_type": "stream",
     "text": [
      "{'eval_loss': 0.38172048330307007, 'eval_rouge1': 0.6599, 'eval_rouge2': 0.3514, 'eval_rougeL': 0.5018, 'eval_gen_len': 43.1525, 'eval_runtime': 98.5709, 'eval_samples_per_second': 20.29, 'eval_steps_per_second': 5.072, 'epoch': 3.4}\n",
      "{'loss': 0.3602, 'grad_norm': 0.44047197699546814, 'learning_rate': 3.357894736842105e-05, 'epoch': 3.41}\n",
      "{'loss': 0.3609, 'grad_norm': 0.32805073261260986, 'learning_rate': 3.347368421052632e-05, 'epoch': 3.41}\n",
      "{'loss': 0.3739, 'grad_norm': 0.3099897801876068, 'learning_rate': 3.336842105263158e-05, 'epoch': 3.42}\n",
      "{'loss': 0.3602, 'grad_norm': 0.46670353412628174, 'learning_rate': 3.3263157894736846e-05, 'epoch': 3.42}\n",
      "{'loss': 0.3864, 'grad_norm': 0.3673863708972931, 'learning_rate': 3.3157894736842106e-05, 'epoch': 3.42}\n",
      "{'loss': 0.3712, 'grad_norm': 0.3453574776649475, 'learning_rate': 3.3052631578947366e-05, 'epoch': 3.43}\n",
      "{'loss': 0.3478, 'grad_norm': 0.3306275010108948, 'learning_rate': 3.294736842105263e-05, 'epoch': 3.44}\n",
      "{'loss': 0.3964, 'grad_norm': 0.34990671277046204, 'learning_rate': 3.28421052631579e-05, 'epoch': 3.44}\n",
      "{'loss': 0.3877, 'grad_norm': 0.3375280797481537, 'learning_rate': 3.273684210526316e-05, 'epoch': 3.44}\n",
      "{'loss': 0.4349, 'grad_norm': 0.327094167470932, 'learning_rate': 3.2631578947368426e-05, 'epoch': 3.45}\n",
      "{'loss': 0.3475, 'grad_norm': 0.3995780944824219, 'learning_rate': 3.2526315789473686e-05, 'epoch': 3.46}\n",
      "{'loss': 0.3224, 'grad_norm': 0.3984053432941437, 'learning_rate': 3.2421052631578945e-05, 'epoch': 3.46}\n",
      "{'loss': 0.3748, 'grad_norm': 0.3241053521633148, 'learning_rate': 3.231578947368421e-05, 'epoch': 3.46}\n",
      "{'loss': 0.4538, 'grad_norm': 0.2899651825428009, 'learning_rate': 3.221052631578947e-05, 'epoch': 3.47}\n",
      "{'loss': 0.334, 'grad_norm': 0.3551587462425232, 'learning_rate': 3.210526315789474e-05, 'epoch': 3.48}\n",
      "{'loss': 0.3633, 'grad_norm': 0.25982826948165894, 'learning_rate': 3.2000000000000005e-05, 'epoch': 3.48}\n",
      "{'loss': 0.3632, 'grad_norm': 0.3621237874031067, 'learning_rate': 3.1894736842105265e-05, 'epoch': 3.48}\n",
      "{'loss': 0.4012, 'grad_norm': 0.43088147044181824, 'learning_rate': 3.178947368421053e-05, 'epoch': 3.49}\n",
      "{'loss': 0.4347, 'grad_norm': 0.34707024693489075, 'learning_rate': 3.168421052631579e-05, 'epoch': 3.5}\n",
      "{'loss': 0.3559, 'grad_norm': 0.36729544401168823, 'learning_rate': 3.157894736842105e-05, 'epoch': 3.5}\n",
      "{'loss': 0.3773, 'grad_norm': 0.3842274844646454, 'learning_rate': 3.147368421052632e-05, 'epoch': 3.5}\n",
      "{'loss': 0.3414, 'grad_norm': 0.473996102809906, 'learning_rate': 3.136842105263158e-05, 'epoch': 3.51}\n",
      "{'loss': 0.3803, 'grad_norm': 0.3701891005039215, 'learning_rate': 3.1263157894736845e-05, 'epoch': 3.52}\n",
      "{'loss': 0.373, 'grad_norm': 0.33087611198425293, 'learning_rate': 3.115789473684211e-05, 'epoch': 3.52}\n",
      "{'loss': 0.3695, 'grad_norm': 0.30544403195381165, 'learning_rate': 3.105263157894737e-05, 'epoch': 3.52}\n",
      "{'loss': 0.3932, 'grad_norm': 0.2893262207508087, 'learning_rate': 3.094736842105263e-05, 'epoch': 3.53}\n",
      "{'loss': 0.376, 'grad_norm': 0.3333955407142639, 'learning_rate': 3.084210526315789e-05, 'epoch': 3.54}\n",
      "{'loss': 0.3875, 'grad_norm': 0.42629241943359375, 'learning_rate': 3.073684210526316e-05, 'epoch': 3.54}\n",
      "{'loss': 0.4194, 'grad_norm': 0.39872750639915466, 'learning_rate': 3.0631578947368425e-05, 'epoch': 3.54}\n",
      "{'loss': 0.4098, 'grad_norm': 0.32943233847618103, 'learning_rate': 3.0526315789473684e-05, 'epoch': 3.55}\n",
      "{'loss': 0.3881, 'grad_norm': 0.45356786251068115, 'learning_rate': 3.042105263157895e-05, 'epoch': 3.56}\n",
      "{'loss': 0.453, 'grad_norm': 0.4037840664386749, 'learning_rate': 3.0315789473684214e-05, 'epoch': 3.56}\n",
      "{'loss': 0.3236, 'grad_norm': 0.34992268681526184, 'learning_rate': 3.021052631578947e-05, 'epoch': 3.56}\n",
      "{'loss': 0.4084, 'grad_norm': 0.3311862647533417, 'learning_rate': 3.0105263157894737e-05, 'epoch': 3.57}\n",
      "{'loss': 0.4064, 'grad_norm': 0.3219674229621887, 'learning_rate': 3e-05, 'epoch': 3.58}\n",
      "{'loss': 0.399, 'grad_norm': 0.38519951701164246, 'learning_rate': 2.9894736842105264e-05, 'epoch': 3.58}\n",
      "{'loss': 0.357, 'grad_norm': 0.3138214647769928, 'learning_rate': 2.9789473684210527e-05, 'epoch': 3.58}\n",
      "{'loss': 0.3557, 'grad_norm': 0.48901602625846863, 'learning_rate': 2.968421052631579e-05, 'epoch': 3.59}\n",
      "{'loss': 0.4139, 'grad_norm': 0.3559136688709259, 'learning_rate': 2.9578947368421057e-05, 'epoch': 3.59}\n",
      "{'loss': 0.3821, 'grad_norm': 0.5400751829147339, 'learning_rate': 2.9473684210526314e-05, 'epoch': 3.6}\n"
     ]
    },
    {
     "data": {
      "application/vnd.jupyter.widget-view+json": {
       "model_id": "18c575dafae542c29f21ebbfef701e73",
       "version_major": 2,
       "version_minor": 0
      },
      "text/plain": [
       "  0%|          | 0/500 [00:00<?, ?it/s]"
      ]
     },
     "metadata": {},
     "output_type": "display_data"
    },
    {
     "name": "stdout",
     "output_type": "stream",
     "text": [
      "{'eval_loss': 0.3812352418899536, 'eval_rouge1': 0.6625, 'eval_rouge2': 0.353, 'eval_rougeL': 0.5027, 'eval_gen_len': 43.1525, 'eval_runtime': 93.6017, 'eval_samples_per_second': 21.367, 'eval_steps_per_second': 5.342, 'epoch': 3.6}\n",
      "{'loss': 0.3945, 'grad_norm': 0.377096027135849, 'learning_rate': 2.9368421052631577e-05, 'epoch': 3.6}\n",
      "{'loss': 0.3241, 'grad_norm': 0.2910347878932953, 'learning_rate': 2.9263157894736844e-05, 'epoch': 3.61}\n",
      "{'loss': 0.4094, 'grad_norm': 0.35133612155914307, 'learning_rate': 2.9157894736842107e-05, 'epoch': 3.62}\n",
      "{'loss': 0.3278, 'grad_norm': 0.30958428978919983, 'learning_rate': 2.905263157894737e-05, 'epoch': 3.62}\n",
      "{'loss': 0.3875, 'grad_norm': 0.3750988245010376, 'learning_rate': 2.8947368421052634e-05, 'epoch': 3.62}\n",
      "{'loss': 0.4457, 'grad_norm': 0.37195509672164917, 'learning_rate': 2.8842105263157897e-05, 'epoch': 3.63}\n",
      "{'loss': 0.3577, 'grad_norm': 0.23994621634483337, 'learning_rate': 2.8736842105263163e-05, 'epoch': 3.63}\n",
      "{'loss': 0.4278, 'grad_norm': 0.3330205976963043, 'learning_rate': 2.863157894736842e-05, 'epoch': 3.64}\n",
      "{'loss': 0.4325, 'grad_norm': 0.46329283714294434, 'learning_rate': 2.8526315789473683e-05, 'epoch': 3.65}\n",
      "{'loss': 0.3707, 'grad_norm': 0.36951884627342224, 'learning_rate': 2.842105263157895e-05, 'epoch': 3.65}\n",
      "{'loss': 0.4301, 'grad_norm': 0.4338841438293457, 'learning_rate': 2.8315789473684213e-05, 'epoch': 3.66}\n",
      "{'loss': 0.3914, 'grad_norm': 0.40591564774513245, 'learning_rate': 2.8210526315789476e-05, 'epoch': 3.66}\n",
      "{'loss': 0.3815, 'grad_norm': 0.3807448446750641, 'learning_rate': 2.810526315789474e-05, 'epoch': 3.67}\n",
      "{'loss': 0.3581, 'grad_norm': 0.30652064085006714, 'learning_rate': 2.8000000000000003e-05, 'epoch': 3.67}\n",
      "{'loss': 0.4407, 'grad_norm': 0.3924391269683838, 'learning_rate': 2.7894736842105263e-05, 'epoch': 3.67}\n",
      "{'loss': 0.3884, 'grad_norm': 0.3655759394168854, 'learning_rate': 2.7789473684210526e-05, 'epoch': 3.68}\n",
      "{'loss': 0.3623, 'grad_norm': 0.2976562976837158, 'learning_rate': 2.768421052631579e-05, 'epoch': 3.69}\n",
      "{'loss': 0.353, 'grad_norm': 0.28699538111686707, 'learning_rate': 2.7578947368421053e-05, 'epoch': 3.69}\n",
      "{'loss': 0.4121, 'grad_norm': 0.34235718846321106, 'learning_rate': 2.747368421052632e-05, 'epoch': 3.69}\n",
      "{'loss': 0.3856, 'grad_norm': 0.2939976751804352, 'learning_rate': 2.7368421052631583e-05, 'epoch': 3.7}\n",
      "{'loss': 0.3526, 'grad_norm': 0.4425618052482605, 'learning_rate': 2.7263157894736846e-05, 'epoch': 3.71}\n",
      "{'loss': 0.3531, 'grad_norm': 0.28156614303588867, 'learning_rate': 2.7157894736842106e-05, 'epoch': 3.71}\n",
      "{'loss': 0.377, 'grad_norm': 0.3243725299835205, 'learning_rate': 2.705263157894737e-05, 'epoch': 3.71}\n",
      "{'loss': 0.4086, 'grad_norm': 0.45342308282852173, 'learning_rate': 2.6947368421052632e-05, 'epoch': 3.72}\n",
      "{'loss': 0.3583, 'grad_norm': 0.30303242802619934, 'learning_rate': 2.6842105263157896e-05, 'epoch': 3.73}\n",
      "{'loss': 0.3364, 'grad_norm': 0.29903218150138855, 'learning_rate': 2.673684210526316e-05, 'epoch': 3.73}\n",
      "{'loss': 0.343, 'grad_norm': 0.35254958271980286, 'learning_rate': 2.6631578947368426e-05, 'epoch': 3.73}\n",
      "{'loss': 0.3839, 'grad_norm': 0.3243367075920105, 'learning_rate': 2.652631578947369e-05, 'epoch': 3.74}\n",
      "{'loss': 0.3891, 'grad_norm': 0.3742622137069702, 'learning_rate': 2.6421052631578945e-05, 'epoch': 3.75}\n",
      "{'loss': 0.3469, 'grad_norm': 0.35023900866508484, 'learning_rate': 2.6315789473684212e-05, 'epoch': 3.75}\n",
      "{'loss': 0.3645, 'grad_norm': 0.42481479048728943, 'learning_rate': 2.6210526315789475e-05, 'epoch': 3.75}\n",
      "{'loss': 0.3719, 'grad_norm': 0.4101966321468353, 'learning_rate': 2.610526315789474e-05, 'epoch': 3.76}\n",
      "{'loss': 0.4089, 'grad_norm': 0.2924480140209198, 'learning_rate': 2.6000000000000002e-05, 'epoch': 3.77}\n",
      "{'loss': 0.4035, 'grad_norm': 0.3321978449821472, 'learning_rate': 2.5894736842105265e-05, 'epoch': 3.77}\n",
      "{'loss': 0.3953, 'grad_norm': 0.40484437346458435, 'learning_rate': 2.578947368421053e-05, 'epoch': 3.77}\n",
      "{'loss': 0.3821, 'grad_norm': 0.28833669424057007, 'learning_rate': 2.5684210526315788e-05, 'epoch': 3.78}\n",
      "{'loss': 0.4201, 'grad_norm': 0.4895016551017761, 'learning_rate': 2.557894736842105e-05, 'epoch': 3.79}\n",
      "{'loss': 0.3195, 'grad_norm': 0.4462029039859772, 'learning_rate': 2.5473684210526315e-05, 'epoch': 3.79}\n",
      "{'loss': 0.4156, 'grad_norm': 0.3220275342464447, 'learning_rate': 2.536842105263158e-05, 'epoch': 3.79}\n",
      "{'loss': 0.3751, 'grad_norm': 0.2755560576915741, 'learning_rate': 2.5263157894736845e-05, 'epoch': 3.8}\n"
     ]
    },
    {
     "data": {
      "application/vnd.jupyter.widget-view+json": {
       "model_id": "59e26c032e2d4f3e9684096d39ae6d37",
       "version_major": 2,
       "version_minor": 0
      },
      "text/plain": [
       "  0%|          | 0/500 [00:00<?, ?it/s]"
      ]
     },
     "metadata": {},
     "output_type": "display_data"
    },
    {
     "name": "stdout",
     "output_type": "stream",
     "text": [
      "{'eval_loss': 0.37977445125579834, 'eval_rouge1': 0.6639, 'eval_rouge2': 0.3539, 'eval_rougeL': 0.5036, 'eval_gen_len': 43.1525, 'eval_runtime': 95.6153, 'eval_samples_per_second': 20.917, 'eval_steps_per_second': 5.229, 'epoch': 3.8}\n",
      "{'loss': 0.3188, 'grad_norm': 0.32952362298965454, 'learning_rate': 2.5157894736842108e-05, 'epoch': 3.81}\n",
      "{'loss': 0.3986, 'grad_norm': 0.41450271010398865, 'learning_rate': 2.505263157894737e-05, 'epoch': 3.81}\n",
      "{'loss': 0.3387, 'grad_norm': 0.38467103242874146, 'learning_rate': 2.4947368421052635e-05, 'epoch': 3.81}\n",
      "{'loss': 0.3545, 'grad_norm': 0.29494762420654297, 'learning_rate': 2.4842105263157898e-05, 'epoch': 3.82}\n",
      "{'loss': 0.3749, 'grad_norm': 0.33254092931747437, 'learning_rate': 2.4736842105263158e-05, 'epoch': 3.83}\n",
      "{'loss': 0.3881, 'grad_norm': 0.4268513023853302, 'learning_rate': 2.463157894736842e-05, 'epoch': 3.83}\n",
      "{'loss': 0.3438, 'grad_norm': 0.30396050214767456, 'learning_rate': 2.4526315789473688e-05, 'epoch': 3.83}\n",
      "{'loss': 0.4231, 'grad_norm': 0.43389514088630676, 'learning_rate': 2.4421052631578948e-05, 'epoch': 3.84}\n",
      "{'loss': 0.3914, 'grad_norm': 0.4051794409751892, 'learning_rate': 2.431578947368421e-05, 'epoch': 3.84}\n",
      "{'loss': 0.401, 'grad_norm': 0.38055044412612915, 'learning_rate': 2.4210526315789474e-05, 'epoch': 3.85}\n",
      "{'loss': 0.4015, 'grad_norm': 0.45580264925956726, 'learning_rate': 2.410526315789474e-05, 'epoch': 3.85}\n",
      "{'loss': 0.3166, 'grad_norm': 0.3348136246204376, 'learning_rate': 2.4e-05, 'epoch': 3.86}\n",
      "{'loss': 0.3933, 'grad_norm': 0.3613598048686981, 'learning_rate': 2.3894736842105264e-05, 'epoch': 3.87}\n",
      "{'loss': 0.35, 'grad_norm': 0.4754202365875244, 'learning_rate': 2.3789473684210527e-05, 'epoch': 3.87}\n",
      "{'loss': 0.4299, 'grad_norm': 0.3213804364204407, 'learning_rate': 2.368421052631579e-05, 'epoch': 3.88}\n",
      "{'loss': 0.3697, 'grad_norm': 0.4071030616760254, 'learning_rate': 2.3578947368421054e-05, 'epoch': 3.88}\n",
      "{'loss': 0.4107, 'grad_norm': 0.3462541401386261, 'learning_rate': 2.3473684210526317e-05, 'epoch': 3.88}\n",
      "{'loss': 0.3803, 'grad_norm': 0.3077327013015747, 'learning_rate': 2.336842105263158e-05, 'epoch': 3.89}\n",
      "{'loss': 0.4131, 'grad_norm': 0.3620830476284027, 'learning_rate': 2.3263157894736844e-05, 'epoch': 3.9}\n",
      "{'loss': 0.3581, 'grad_norm': 0.28079110383987427, 'learning_rate': 2.3157894736842107e-05, 'epoch': 3.9}\n",
      "{'loss': 0.34, 'grad_norm': 0.30306705832481384, 'learning_rate': 2.305263157894737e-05, 'epoch': 3.91}\n",
      "{'loss': 0.4243, 'grad_norm': 0.36348316073417664, 'learning_rate': 2.294736842105263e-05, 'epoch': 3.91}\n",
      "{'loss': 0.4295, 'grad_norm': 0.23145878314971924, 'learning_rate': 2.2842105263157897e-05, 'epoch': 3.92}\n",
      "{'loss': 0.3761, 'grad_norm': 0.33472079038619995, 'learning_rate': 2.273684210526316e-05, 'epoch': 3.92}\n",
      "{'loss': 0.3522, 'grad_norm': 0.2869758605957031, 'learning_rate': 2.2631578947368423e-05, 'epoch': 3.92}\n",
      "{'loss': 0.3626, 'grad_norm': 0.36870864033699036, 'learning_rate': 2.2526315789473683e-05, 'epoch': 3.93}\n",
      "{'loss': 0.3852, 'grad_norm': 0.3417576551437378, 'learning_rate': 2.242105263157895e-05, 'epoch': 3.94}\n",
      "{'loss': 0.3675, 'grad_norm': 0.3138626217842102, 'learning_rate': 2.2315789473684213e-05, 'epoch': 3.94}\n",
      "{'loss': 0.3899, 'grad_norm': 0.423007607460022, 'learning_rate': 2.2210526315789476e-05, 'epoch': 3.94}\n",
      "{'loss': 0.3727, 'grad_norm': 0.31485265493392944, 'learning_rate': 2.2105263157894736e-05, 'epoch': 3.95}\n",
      "{'loss': 0.3971, 'grad_norm': 0.29787102341651917, 'learning_rate': 2.2000000000000003e-05, 'epoch': 3.96}\n",
      "{'loss': 0.3372, 'grad_norm': 0.38874346017837524, 'learning_rate': 2.1894736842105266e-05, 'epoch': 3.96}\n",
      "{'loss': 0.3644, 'grad_norm': 0.4149906635284424, 'learning_rate': 2.1789473684210526e-05, 'epoch': 3.96}\n",
      "{'loss': 0.3553, 'grad_norm': 0.3355460464954376, 'learning_rate': 2.168421052631579e-05, 'epoch': 3.97}\n",
      "{'loss': 0.3526, 'grad_norm': 0.4448399245738983, 'learning_rate': 2.1578947368421053e-05, 'epoch': 3.98}\n",
      "{'loss': 0.4483, 'grad_norm': 0.3226989507675171, 'learning_rate': 2.147368421052632e-05, 'epoch': 3.98}\n",
      "{'loss': 0.3617, 'grad_norm': 0.3501831293106079, 'learning_rate': 2.136842105263158e-05, 'epoch': 3.98}\n",
      "{'loss': 0.4402, 'grad_norm': 0.5148027539253235, 'learning_rate': 2.1263157894736842e-05, 'epoch': 3.99}\n",
      "{'loss': 0.3704, 'grad_norm': 0.3335238993167877, 'learning_rate': 2.1157894736842106e-05, 'epoch': 4.0}\n",
      "{'loss': 0.3425, 'grad_norm': 0.29764464497566223, 'learning_rate': 2.105263157894737e-05, 'epoch': 4.0}\n"
     ]
    },
    {
     "data": {
      "application/vnd.jupyter.widget-view+json": {
       "model_id": "91f21340f0f6426796c06f5d37adfbfe",
       "version_major": 2,
       "version_minor": 0
      },
      "text/plain": [
       "  0%|          | 0/500 [00:00<?, ?it/s]"
      ]
     },
     "metadata": {},
     "output_type": "display_data"
    },
    {
     "name": "stdout",
     "output_type": "stream",
     "text": [
      "{'eval_loss': 0.37760791182518005, 'eval_rouge1': 0.6634, 'eval_rouge2': 0.3534, 'eval_rougeL': 0.5048, 'eval_gen_len': 43.1525, 'eval_runtime': 94.8624, 'eval_samples_per_second': 21.083, 'eval_steps_per_second': 5.271, 'epoch': 4.0}\n",
      "{'loss': 0.4105, 'grad_norm': 0.4358352720737457, 'learning_rate': 2.0947368421052632e-05, 'epoch': 4.0}\n",
      "{'loss': 0.4378, 'grad_norm': 0.3567156195640564, 'learning_rate': 2.0842105263157895e-05, 'epoch': 4.01}\n",
      "{'loss': 0.3893, 'grad_norm': 0.33854159712791443, 'learning_rate': 2.073684210526316e-05, 'epoch': 4.01}\n",
      "{'loss': 0.3652, 'grad_norm': 0.5534478425979614, 'learning_rate': 2.0631578947368422e-05, 'epoch': 4.02}\n",
      "{'loss': 0.343, 'grad_norm': 0.5266255140304565, 'learning_rate': 2.0526315789473685e-05, 'epoch': 4.03}\n",
      "{'loss': 0.3962, 'grad_norm': 0.5702618956565857, 'learning_rate': 2.042105263157895e-05, 'epoch': 4.03}\n",
      "{'loss': 0.3967, 'grad_norm': 0.47531047463417053, 'learning_rate': 2.0315789473684212e-05, 'epoch': 4.04}\n",
      "{'loss': 0.3327, 'grad_norm': 0.27690306305885315, 'learning_rate': 2.0210526315789475e-05, 'epoch': 4.04}\n",
      "{'loss': 0.3621, 'grad_norm': 0.26728662848472595, 'learning_rate': 2.010526315789474e-05, 'epoch': 4.04}\n",
      "{'loss': 0.3709, 'grad_norm': 0.2585401237010956, 'learning_rate': 2e-05, 'epoch': 4.05}\n",
      "{'loss': 0.366, 'grad_norm': 0.358833909034729, 'learning_rate': 1.9894736842105265e-05, 'epoch': 4.05}\n",
      "{'loss': 0.3511, 'grad_norm': 0.3940345346927643, 'learning_rate': 1.9789473684210528e-05, 'epoch': 4.06}\n",
      "{'loss': 0.3851, 'grad_norm': 0.2545816898345947, 'learning_rate': 1.968421052631579e-05, 'epoch': 4.07}\n",
      "{'loss': 0.4416, 'grad_norm': 0.6251884698867798, 'learning_rate': 1.957894736842105e-05, 'epoch': 4.07}\n",
      "{'loss': 0.3444, 'grad_norm': 0.2761155962944031, 'learning_rate': 1.9473684210526315e-05, 'epoch': 4.08}\n",
      "{'loss': 0.3682, 'grad_norm': 0.4515424966812134, 'learning_rate': 1.936842105263158e-05, 'epoch': 4.08}\n",
      "{'loss': 0.4225, 'grad_norm': 0.37355977296829224, 'learning_rate': 1.9263157894736845e-05, 'epoch': 4.08}\n",
      "{'loss': 0.4253, 'grad_norm': 0.4624207317829132, 'learning_rate': 1.9157894736842104e-05, 'epoch': 4.09}\n",
      "{'loss': 0.3896, 'grad_norm': 0.38268589973449707, 'learning_rate': 1.9052631578947368e-05, 'epoch': 4.09}\n",
      "{'loss': 0.3898, 'grad_norm': 0.3671589493751526, 'learning_rate': 1.8947368421052634e-05, 'epoch': 4.1}\n",
      "{'loss': 0.367, 'grad_norm': 0.9000661373138428, 'learning_rate': 1.8842105263157894e-05, 'epoch': 4.11}\n",
      "{'loss': 0.3488, 'grad_norm': 0.47916144132614136, 'learning_rate': 1.8736842105263158e-05, 'epoch': 4.11}\n",
      "{'loss': 0.3762, 'grad_norm': 0.2549513280391693, 'learning_rate': 1.863157894736842e-05, 'epoch': 4.12}\n",
      "{'loss': 0.365, 'grad_norm': 0.5549545884132385, 'learning_rate': 1.8526315789473687e-05, 'epoch': 4.12}\n",
      "{'loss': 0.349, 'grad_norm': 0.36931806802749634, 'learning_rate': 1.8421052631578947e-05, 'epoch': 4.12}\n",
      "{'loss': 0.3192, 'grad_norm': 0.3895013928413391, 'learning_rate': 1.831578947368421e-05, 'epoch': 4.13}\n",
      "{'loss': 0.4024, 'grad_norm': 0.33348798751831055, 'learning_rate': 1.8210526315789474e-05, 'epoch': 4.13}\n",
      "{'loss': 0.3847, 'grad_norm': 0.41313573718070984, 'learning_rate': 1.810526315789474e-05, 'epoch': 4.14}\n",
      "{'loss': 0.3479, 'grad_norm': 0.5464963912963867, 'learning_rate': 1.8e-05, 'epoch': 4.14}\n",
      "{'loss': 0.4305, 'grad_norm': 0.4392107129096985, 'learning_rate': 1.7894736842105264e-05, 'epoch': 4.15}\n",
      "{'loss': 0.387, 'grad_norm': 0.3087075650691986, 'learning_rate': 1.7789473684210527e-05, 'epoch': 4.16}\n",
      "{'loss': 0.4093, 'grad_norm': 0.39176779985427856, 'learning_rate': 1.768421052631579e-05, 'epoch': 4.16}\n",
      "{'loss': 0.4248, 'grad_norm': 0.4213360846042633, 'learning_rate': 1.7578947368421054e-05, 'epoch': 4.17}\n",
      "{'loss': 0.3638, 'grad_norm': 0.3214072585105896, 'learning_rate': 1.7473684210526317e-05, 'epoch': 4.17}\n",
      "{'loss': 0.4144, 'grad_norm': 0.3560556471347809, 'learning_rate': 1.736842105263158e-05, 'epoch': 4.17}\n",
      "{'loss': 0.3783, 'grad_norm': 0.3041204512119293, 'learning_rate': 1.7263157894736843e-05, 'epoch': 4.18}\n",
      "{'loss': 0.3771, 'grad_norm': 0.4470735490322113, 'learning_rate': 1.7157894736842107e-05, 'epoch': 4.18}\n",
      "{'loss': 0.3235, 'grad_norm': 0.31173115968704224, 'learning_rate': 1.705263157894737e-05, 'epoch': 4.19}\n",
      "{'loss': 0.3703, 'grad_norm': 0.37819257378578186, 'learning_rate': 1.694736842105263e-05, 'epoch': 4.2}\n",
      "{'loss': 0.359, 'grad_norm': 0.23779414594173431, 'learning_rate': 1.6842105263157896e-05, 'epoch': 4.2}\n"
     ]
    },
    {
     "data": {
      "application/vnd.jupyter.widget-view+json": {
       "model_id": "84ac271855224405965c2b41dea3b074",
       "version_major": 2,
       "version_minor": 0
      },
      "text/plain": [
       "  0%|          | 0/500 [00:00<?, ?it/s]"
      ]
     },
     "metadata": {},
     "output_type": "display_data"
    },
    {
     "name": "stdout",
     "output_type": "stream",
     "text": [
      "{'eval_loss': 0.37738192081451416, 'eval_rouge1': 0.6636, 'eval_rouge2': 0.3538, 'eval_rougeL': 0.5047, 'eval_gen_len': 43.1525, 'eval_runtime': 100.705, 'eval_samples_per_second': 19.86, 'eval_steps_per_second': 4.965, 'epoch': 4.2}\n",
      "{'loss': 0.3769, 'grad_norm': 0.43929919600486755, 'learning_rate': 1.673684210526316e-05, 'epoch': 4.21}\n",
      "{'loss': 0.3278, 'grad_norm': 0.29125890135765076, 'learning_rate': 1.6631578947368423e-05, 'epoch': 4.21}\n",
      "{'loss': 0.411, 'grad_norm': 0.35786861181259155, 'learning_rate': 1.6526315789473683e-05, 'epoch': 4.21}\n",
      "{'loss': 0.3669, 'grad_norm': 0.3043248653411865, 'learning_rate': 1.642105263157895e-05, 'epoch': 4.22}\n",
      "{'loss': 0.379, 'grad_norm': 0.4945774972438812, 'learning_rate': 1.6315789473684213e-05, 'epoch': 4.22}\n",
      "{'loss': 0.4545, 'grad_norm': 0.41098955273628235, 'learning_rate': 1.6210526315789473e-05, 'epoch': 4.23}\n",
      "{'loss': 0.3702, 'grad_norm': 0.4808301627635956, 'learning_rate': 1.6105263157894736e-05, 'epoch': 4.24}\n",
      "{'loss': 0.3792, 'grad_norm': 0.318255752325058, 'learning_rate': 1.6000000000000003e-05, 'epoch': 4.24}\n",
      "{'loss': 0.4068, 'grad_norm': 0.509529173374176, 'learning_rate': 1.5894736842105266e-05, 'epoch': 4.25}\n",
      "{'loss': 0.4045, 'grad_norm': 0.4293230473995209, 'learning_rate': 1.5789473684210526e-05, 'epoch': 4.25}\n",
      "{'loss': 0.3663, 'grad_norm': 0.36337968707084656, 'learning_rate': 1.568421052631579e-05, 'epoch': 4.25}\n",
      "{'loss': 0.3588, 'grad_norm': 0.44409772753715515, 'learning_rate': 1.5578947368421056e-05, 'epoch': 4.26}\n",
      "{'loss': 0.3828, 'grad_norm': 0.46562930941581726, 'learning_rate': 1.5473684210526316e-05, 'epoch': 4.26}\n",
      "{'loss': 0.3646, 'grad_norm': 0.3189270794391632, 'learning_rate': 1.536842105263158e-05, 'epoch': 4.27}\n",
      "{'loss': 0.3186, 'grad_norm': 0.32371461391448975, 'learning_rate': 1.5263157894736842e-05, 'epoch': 4.28}\n",
      "{'loss': 0.3576, 'grad_norm': 0.39245837926864624, 'learning_rate': 1.5157894736842107e-05, 'epoch': 4.28}\n",
      "{'loss': 0.3843, 'grad_norm': 0.32587841153144836, 'learning_rate': 1.5052631578947369e-05, 'epoch': 4.29}\n",
      "{'loss': 0.3956, 'grad_norm': 0.4841902554035187, 'learning_rate': 1.4947368421052632e-05, 'epoch': 4.29}\n",
      "{'loss': 0.3688, 'grad_norm': 0.42549681663513184, 'learning_rate': 1.4842105263157895e-05, 'epoch': 4.29}\n",
      "{'loss': 0.3896, 'grad_norm': 0.4186616539955139, 'learning_rate': 1.4736842105263157e-05, 'epoch': 4.3}\n",
      "{'loss': 0.413, 'grad_norm': 0.4560563862323761, 'learning_rate': 1.4631578947368422e-05, 'epoch': 4.3}\n",
      "{'loss': 0.3613, 'grad_norm': 0.38493356108665466, 'learning_rate': 1.4526315789473685e-05, 'epoch': 4.31}\n",
      "{'loss': 0.3854, 'grad_norm': 0.26544761657714844, 'learning_rate': 1.4421052631578948e-05, 'epoch': 4.32}\n",
      "{'loss': 0.335, 'grad_norm': 0.385690838098526, 'learning_rate': 1.431578947368421e-05, 'epoch': 4.32}\n",
      "{'loss': 0.3923, 'grad_norm': 0.4401485323905945, 'learning_rate': 1.4210526315789475e-05, 'epoch': 4.33}\n",
      "{'loss': 0.3562, 'grad_norm': 0.4908704161643982, 'learning_rate': 1.4105263157894738e-05, 'epoch': 4.33}\n",
      "{'loss': 0.3735, 'grad_norm': 0.376207560300827, 'learning_rate': 1.4000000000000001e-05, 'epoch': 4.33}\n",
      "{'loss': 0.3594, 'grad_norm': 0.26732635498046875, 'learning_rate': 1.3894736842105263e-05, 'epoch': 4.34}\n",
      "{'loss': 0.3564, 'grad_norm': 0.29139113426208496, 'learning_rate': 1.3789473684210526e-05, 'epoch': 4.34}\n",
      "{'loss': 0.3912, 'grad_norm': 0.4524802267551422, 'learning_rate': 1.3684210526315791e-05, 'epoch': 4.35}\n",
      "{'loss': 0.3984, 'grad_norm': 0.3901899456977844, 'learning_rate': 1.3578947368421053e-05, 'epoch': 4.36}\n",
      "{'loss': 0.3616, 'grad_norm': 0.4578831195831299, 'learning_rate': 1.3473684210526316e-05, 'epoch': 4.36}\n",
      "{'loss': 0.3588, 'grad_norm': 0.2791387736797333, 'learning_rate': 1.336842105263158e-05, 'epoch': 4.37}\n",
      "{'loss': 0.3346, 'grad_norm': 0.3742055296897888, 'learning_rate': 1.3263157894736844e-05, 'epoch': 4.37}\n",
      "{'loss': 0.4046, 'grad_norm': 0.28302809596061707, 'learning_rate': 1.3157894736842106e-05, 'epoch': 4.38}\n",
      "{'loss': 0.3865, 'grad_norm': 0.44819560647010803, 'learning_rate': 1.305263157894737e-05, 'epoch': 4.38}\n",
      "{'loss': 0.3652, 'grad_norm': 0.3528223931789398, 'learning_rate': 1.2947368421052633e-05, 'epoch': 4.38}\n",
      "{'loss': 0.3949, 'grad_norm': 0.40033113956451416, 'learning_rate': 1.2842105263157894e-05, 'epoch': 4.39}\n",
      "{'loss': 0.3791, 'grad_norm': 0.35690805315971375, 'learning_rate': 1.2736842105263157e-05, 'epoch': 4.39}\n",
      "{'loss': 0.388, 'grad_norm': 0.3506178855895996, 'learning_rate': 1.2631578947368422e-05, 'epoch': 4.4}\n"
     ]
    },
    {
     "data": {
      "application/vnd.jupyter.widget-view+json": {
       "model_id": "5eaf5d9afefb4293b6855c2569f6cc78",
       "version_major": 2,
       "version_minor": 0
      },
      "text/plain": [
       "  0%|          | 0/500 [00:00<?, ?it/s]"
      ]
     },
     "metadata": {},
     "output_type": "display_data"
    },
    {
     "name": "stdout",
     "output_type": "stream",
     "text": [
      "{'eval_loss': 0.3765319287776947, 'eval_rouge1': 0.665, 'eval_rouge2': 0.3547, 'eval_rougeL': 0.5048, 'eval_gen_len': 43.1525, 'eval_runtime': 94.91, 'eval_samples_per_second': 21.073, 'eval_steps_per_second': 5.268, 'epoch': 4.4}\n",
      "{'loss': 0.3634, 'grad_norm': 0.3395346701145172, 'learning_rate': 1.2526315789473686e-05, 'epoch': 4.41}\n",
      "{'loss': 0.4003, 'grad_norm': 0.3949279189109802, 'learning_rate': 1.2421052631578949e-05, 'epoch': 4.41}\n",
      "{'loss': 0.3456, 'grad_norm': 0.36869537830352783, 'learning_rate': 1.231578947368421e-05, 'epoch': 4.42}\n",
      "{'loss': 0.3303, 'grad_norm': 0.3451389670372009, 'learning_rate': 1.2210526315789474e-05, 'epoch': 4.42}\n",
      "{'loss': 0.4412, 'grad_norm': 0.48967695236206055, 'learning_rate': 1.2105263157894737e-05, 'epoch': 4.42}\n",
      "{'loss': 0.3931, 'grad_norm': 0.2733074724674225, 'learning_rate': 1.2e-05, 'epoch': 4.43}\n",
      "{'loss': 0.3576, 'grad_norm': 0.3676724433898926, 'learning_rate': 1.1894736842105264e-05, 'epoch': 4.43}\n",
      "{'loss': 0.3617, 'grad_norm': 0.6006171107292175, 'learning_rate': 1.1789473684210527e-05, 'epoch': 4.44}\n",
      "{'loss': 0.4357, 'grad_norm': 0.34477460384368896, 'learning_rate': 1.168421052631579e-05, 'epoch': 4.45}\n",
      "{'loss': 0.4088, 'grad_norm': 0.44948476552963257, 'learning_rate': 1.1578947368421053e-05, 'epoch': 4.45}\n",
      "{'loss': 0.3393, 'grad_norm': 0.3962774872779846, 'learning_rate': 1.1473684210526315e-05, 'epoch': 4.46}\n",
      "{'loss': 0.3803, 'grad_norm': 0.4451431632041931, 'learning_rate': 1.136842105263158e-05, 'epoch': 4.46}\n",
      "{'loss': 0.4382, 'grad_norm': 0.3400779664516449, 'learning_rate': 1.1263157894736842e-05, 'epoch': 4.46}\n",
      "{'loss': 0.368, 'grad_norm': 0.30882182717323303, 'learning_rate': 1.1157894736842106e-05, 'epoch': 4.47}\n",
      "{'loss': 0.4266, 'grad_norm': 0.3082433342933655, 'learning_rate': 1.1052631578947368e-05, 'epoch': 4.47}\n",
      "{'loss': 0.4118, 'grad_norm': 0.31909534335136414, 'learning_rate': 1.0947368421052633e-05, 'epoch': 4.48}\n",
      "{'loss': 0.3876, 'grad_norm': 0.3552570044994354, 'learning_rate': 1.0842105263157895e-05, 'epoch': 4.49}\n",
      "{'loss': 0.3792, 'grad_norm': 0.3562259078025818, 'learning_rate': 1.073684210526316e-05, 'epoch': 4.49}\n",
      "{'loss': 0.371, 'grad_norm': 0.33561772108078003, 'learning_rate': 1.0631578947368421e-05, 'epoch': 4.5}\n",
      "{'loss': 0.349, 'grad_norm': 0.4891946613788605, 'learning_rate': 1.0526315789473684e-05, 'epoch': 4.5}\n",
      "{'loss': 0.35, 'grad_norm': 0.3881249725818634, 'learning_rate': 1.0421052631578948e-05, 'epoch': 4.5}\n",
      "{'loss': 0.3773, 'grad_norm': 0.318855881690979, 'learning_rate': 1.0315789473684211e-05, 'epoch': 4.51}\n",
      "{'loss': 0.3219, 'grad_norm': 0.2740059196949005, 'learning_rate': 1.0210526315789474e-05, 'epoch': 4.51}\n",
      "{'loss': 0.3908, 'grad_norm': 0.3342199921607971, 'learning_rate': 1.0105263157894738e-05, 'epoch': 4.52}\n",
      "{'loss': 0.4063, 'grad_norm': 0.25782808661460876, 'learning_rate': 1e-05, 'epoch': 4.53}\n",
      "{'loss': 0.3393, 'grad_norm': 0.3493543863296509, 'learning_rate': 9.894736842105264e-06, 'epoch': 4.53}\n",
      "{'loss': 0.4041, 'grad_norm': 0.3582884967327118, 'learning_rate': 9.789473684210526e-06, 'epoch': 4.54}\n",
      "{'loss': 0.3922, 'grad_norm': 0.41593435406684875, 'learning_rate': 9.68421052631579e-06, 'epoch': 4.54}\n",
      "{'loss': 0.4091, 'grad_norm': 0.3607116937637329, 'learning_rate': 9.578947368421052e-06, 'epoch': 4.54}\n",
      "{'loss': 0.3829, 'grad_norm': 0.3431311845779419, 'learning_rate': 9.473684210526317e-06, 'epoch': 4.55}\n",
      "{'loss': 0.3359, 'grad_norm': 0.3020496368408203, 'learning_rate': 9.368421052631579e-06, 'epoch': 4.55}\n",
      "{'loss': 0.3728, 'grad_norm': 0.3483218252658844, 'learning_rate': 9.263157894736844e-06, 'epoch': 4.56}\n",
      "{'loss': 0.3501, 'grad_norm': 0.28176507353782654, 'learning_rate': 9.157894736842105e-06, 'epoch': 4.56}\n",
      "{'loss': 0.4118, 'grad_norm': 0.3386681377887726, 'learning_rate': 9.05263157894737e-06, 'epoch': 4.57}\n",
      "{'loss': 0.3943, 'grad_norm': 0.4668172299861908, 'learning_rate': 8.947368421052632e-06, 'epoch': 4.58}\n",
      "{'loss': 0.3893, 'grad_norm': 0.4112274944782257, 'learning_rate': 8.842105263157895e-06, 'epoch': 4.58}\n",
      "{'loss': 0.3825, 'grad_norm': 0.4443637728691101, 'learning_rate': 8.736842105263158e-06, 'epoch': 4.58}\n",
      "{'loss': 0.3695, 'grad_norm': 0.5248043537139893, 'learning_rate': 8.631578947368422e-06, 'epoch': 4.59}\n",
      "{'loss': 0.3224, 'grad_norm': 0.24948866665363312, 'learning_rate': 8.526315789473685e-06, 'epoch': 4.59}\n",
      "{'loss': 0.3896, 'grad_norm': 0.2913871109485626, 'learning_rate': 8.421052631578948e-06, 'epoch': 4.6}\n"
     ]
    },
    {
     "data": {
      "application/vnd.jupyter.widget-view+json": {
       "model_id": "9abdd9b0f81b4b399dafd1144cd59aab",
       "version_major": 2,
       "version_minor": 0
      },
      "text/plain": [
       "  0%|          | 0/500 [00:00<?, ?it/s]"
      ]
     },
     "metadata": {},
     "output_type": "display_data"
    },
    {
     "name": "stdout",
     "output_type": "stream",
     "text": [
      "{'eval_loss': 0.37647417187690735, 'eval_rouge1': 0.6653, 'eval_rouge2': 0.3555, 'eval_rougeL': 0.5057, 'eval_gen_len': 43.1525, 'eval_runtime': 97.7539, 'eval_samples_per_second': 20.46, 'eval_steps_per_second': 5.115, 'epoch': 4.6}\n",
      "{'loss': 0.3786, 'grad_norm': 0.4645114839076996, 'learning_rate': 8.315789473684212e-06, 'epoch': 4.61}\n",
      "{'loss': 0.3215, 'grad_norm': 0.28273457288742065, 'learning_rate': 8.210526315789475e-06, 'epoch': 4.61}\n",
      "{'loss': 0.3744, 'grad_norm': 0.46975570917129517, 'learning_rate': 8.105263157894736e-06, 'epoch': 4.62}\n",
      "{'loss': 0.3889, 'grad_norm': 0.30785834789276123, 'learning_rate': 8.000000000000001e-06, 'epoch': 4.62}\n",
      "{'loss': 0.342, 'grad_norm': 0.36643776297569275, 'learning_rate': 7.894736842105263e-06, 'epoch': 4.62}\n",
      "{'loss': 0.342, 'grad_norm': 0.5422959923744202, 'learning_rate': 7.789473684210528e-06, 'epoch': 4.63}\n",
      "{'loss': 0.3125, 'grad_norm': 0.29334431886672974, 'learning_rate': 7.68421052631579e-06, 'epoch': 4.63}\n",
      "{'loss': 0.3753, 'grad_norm': 0.25621357560157776, 'learning_rate': 7.578947368421054e-06, 'epoch': 4.64}\n",
      "{'loss': 0.4084, 'grad_norm': 0.455232709646225, 'learning_rate': 7.473684210526316e-06, 'epoch': 4.64}\n",
      "{'loss': 0.3654, 'grad_norm': 0.41539573669433594, 'learning_rate': 7.3684210526315784e-06, 'epoch': 4.65}\n",
      "{'loss': 0.3844, 'grad_norm': 0.4830547571182251, 'learning_rate': 7.2631578947368426e-06, 'epoch': 4.66}\n",
      "{'loss': 0.343, 'grad_norm': 0.45687106251716614, 'learning_rate': 7.157894736842105e-06, 'epoch': 4.66}\n",
      "{'loss': 0.3509, 'grad_norm': 0.3574077785015106, 'learning_rate': 7.052631578947369e-06, 'epoch': 4.67}\n",
      "{'loss': 0.3417, 'grad_norm': 0.5435846447944641, 'learning_rate': 6.9473684210526315e-06, 'epoch': 4.67}\n",
      "{'loss': 0.4038, 'grad_norm': 0.40266042947769165, 'learning_rate': 6.842105263157896e-06, 'epoch': 4.67}\n",
      "{'loss': 0.3712, 'grad_norm': 0.33806341886520386, 'learning_rate': 6.736842105263158e-06, 'epoch': 4.68}\n",
      "{'loss': 0.3502, 'grad_norm': 0.502674400806427, 'learning_rate': 6.631578947368422e-06, 'epoch': 4.69}\n",
      "{'loss': 0.4689, 'grad_norm': 0.383592426776886, 'learning_rate': 6.526315789473685e-06, 'epoch': 4.69}\n",
      "{'loss': 0.354, 'grad_norm': 0.397097110748291, 'learning_rate': 6.421052631578947e-06, 'epoch': 4.7}\n",
      "{'loss': 0.3739, 'grad_norm': 0.5790830850601196, 'learning_rate': 6.315789473684211e-06, 'epoch': 4.7}\n",
      "{'loss': 0.3681, 'grad_norm': 0.36459246277809143, 'learning_rate': 6.2105263157894745e-06, 'epoch': 4.71}\n",
      "{'loss': 0.4289, 'grad_norm': 0.33367884159088135, 'learning_rate': 6.105263157894737e-06, 'epoch': 4.71}\n",
      "{'loss': 0.3417, 'grad_norm': 0.4116588234901428, 'learning_rate': 6e-06, 'epoch': 4.71}\n",
      "{'loss': 0.3645, 'grad_norm': 0.36116495728492737, 'learning_rate': 5.8947368421052634e-06, 'epoch': 4.72}\n",
      "{'loss': 0.4322, 'grad_norm': 0.3006565570831299, 'learning_rate': 5.789473684210527e-06, 'epoch': 4.72}\n",
      "{'loss': 0.3803, 'grad_norm': 0.30381694436073303, 'learning_rate': 5.68421052631579e-06, 'epoch': 4.73}\n",
      "{'loss': 0.4371, 'grad_norm': 0.39307597279548645, 'learning_rate': 5.578947368421053e-06, 'epoch': 4.74}\n",
      "{'loss': 0.3232, 'grad_norm': 0.2787080705165863, 'learning_rate': 5.4736842105263165e-06, 'epoch': 4.74}\n",
      "{'loss': 0.3411, 'grad_norm': 0.6184278130531311, 'learning_rate': 5.36842105263158e-06, 'epoch': 4.75}\n",
      "{'loss': 0.3848, 'grad_norm': 0.29815369844436646, 'learning_rate': 5.263157894736842e-06, 'epoch': 4.75}\n",
      "{'loss': 0.3596, 'grad_norm': 0.492069810628891, 'learning_rate': 5.1578947368421055e-06, 'epoch': 4.75}\n",
      "{'loss': 0.3345, 'grad_norm': 0.33884596824645996, 'learning_rate': 5.052631578947369e-06, 'epoch': 4.76}\n",
      "{'loss': 0.3947, 'grad_norm': 0.3483630418777466, 'learning_rate': 4.947368421052632e-06, 'epoch': 4.76}\n",
      "{'loss': 0.3567, 'grad_norm': 0.3157157301902771, 'learning_rate': 4.842105263157895e-06, 'epoch': 4.77}\n",
      "{'loss': 0.3733, 'grad_norm': 0.2258039116859436, 'learning_rate': 4.736842105263159e-06, 'epoch': 4.78}\n",
      "{'loss': 0.3639, 'grad_norm': 0.38511812686920166, 'learning_rate': 4.631578947368422e-06, 'epoch': 4.78}\n",
      "{'loss': 0.4361, 'grad_norm': 0.3912709653377533, 'learning_rate': 4.526315789473685e-06, 'epoch': 4.79}\n",
      "{'loss': 0.327, 'grad_norm': 0.3815003037452698, 'learning_rate': 4.4210526315789476e-06, 'epoch': 4.79}\n",
      "{'loss': 0.367, 'grad_norm': 0.3630469739437103, 'learning_rate': 4.315789473684211e-06, 'epoch': 4.79}\n",
      "{'loss': 0.3704, 'grad_norm': 0.3845387101173401, 'learning_rate': 4.210526315789474e-06, 'epoch': 4.8}\n"
     ]
    },
    {
     "data": {
      "application/vnd.jupyter.widget-view+json": {
       "model_id": "4b36b54453d6423095f3677e389fdf81",
       "version_major": 2,
       "version_minor": 0
      },
      "text/plain": [
       "  0%|          | 0/500 [00:00<?, ?it/s]"
      ]
     },
     "metadata": {},
     "output_type": "display_data"
    },
    {
     "name": "stdout",
     "output_type": "stream",
     "text": [
      "{'eval_loss': 0.3764376938343048, 'eval_rouge1': 0.6651, 'eval_rouge2': 0.3551, 'eval_rougeL': 0.5051, 'eval_gen_len': 43.1525, 'eval_runtime': 91.9166, 'eval_samples_per_second': 21.759, 'eval_steps_per_second': 5.44, 'epoch': 4.8}\n",
      "{'loss': 0.3772, 'grad_norm': 0.5875990390777588, 'learning_rate': 4.105263157894737e-06, 'epoch': 4.8}\n",
      "{'loss': 0.3969, 'grad_norm': 0.4689684808254242, 'learning_rate': 4.000000000000001e-06, 'epoch': 4.81}\n",
      "{'loss': 0.3748, 'grad_norm': 0.34493255615234375, 'learning_rate': 3.894736842105264e-06, 'epoch': 4.81}\n",
      "{'loss': 0.3576, 'grad_norm': 0.3136988878250122, 'learning_rate': 3.789473684210527e-06, 'epoch': 4.82}\n",
      "{'loss': 0.4399, 'grad_norm': 0.3877088725566864, 'learning_rate': 3.6842105263157892e-06, 'epoch': 4.83}\n",
      "{'loss': 0.3627, 'grad_norm': 0.35851752758026123, 'learning_rate': 3.5789473684210525e-06, 'epoch': 4.83}\n",
      "{'loss': 0.3783, 'grad_norm': 0.3726615905761719, 'learning_rate': 3.4736842105263158e-06, 'epoch': 4.83}\n",
      "{'loss': 0.3339, 'grad_norm': 0.26066988706588745, 'learning_rate': 3.368421052631579e-06, 'epoch': 4.84}\n",
      "{'loss': 0.4214, 'grad_norm': 0.29475829005241394, 'learning_rate': 3.2631578947368423e-06, 'epoch': 4.84}\n",
      "{'loss': 0.3593, 'grad_norm': 0.38621512055397034, 'learning_rate': 3.1578947368421056e-06, 'epoch': 4.85}\n",
      "{'loss': 0.3401, 'grad_norm': 0.4014318883419037, 'learning_rate': 3.0526315789473684e-06, 'epoch': 4.86}\n",
      "{'loss': 0.3533, 'grad_norm': 0.4183107614517212, 'learning_rate': 2.9473684210526317e-06, 'epoch': 4.86}\n",
      "{'loss': 0.3405, 'grad_norm': 0.4033872187137604, 'learning_rate': 2.842105263157895e-06, 'epoch': 4.87}\n",
      "{'loss': 0.3678, 'grad_norm': 0.3094530999660492, 'learning_rate': 2.7368421052631583e-06, 'epoch': 4.87}\n",
      "{'loss': 0.3718, 'grad_norm': 0.3096941411495209, 'learning_rate': 2.631578947368421e-06, 'epoch': 4.88}\n",
      "{'loss': 0.3302, 'grad_norm': 0.3528105616569519, 'learning_rate': 2.5263157894736844e-06, 'epoch': 4.88}\n",
      "{'loss': 0.3995, 'grad_norm': 0.4099188446998596, 'learning_rate': 2.4210526315789477e-06, 'epoch': 4.88}\n",
      "{'loss': 0.4027, 'grad_norm': 0.4998288154602051, 'learning_rate': 2.315789473684211e-06, 'epoch': 4.89}\n",
      "{'loss': 0.3424, 'grad_norm': 0.3883970081806183, 'learning_rate': 2.2105263157894738e-06, 'epoch': 4.89}\n",
      "{'loss': 0.4379, 'grad_norm': 0.31196510791778564, 'learning_rate': 2.105263157894737e-06, 'epoch': 4.9}\n",
      "{'loss': 0.3563, 'grad_norm': 0.38626861572265625, 'learning_rate': 2.0000000000000003e-06, 'epoch': 4.91}\n",
      "{'loss': 0.3774, 'grad_norm': 0.31312286853790283, 'learning_rate': 1.8947368421052634e-06, 'epoch': 4.91}\n",
      "{'loss': 0.3911, 'grad_norm': 0.3486894965171814, 'learning_rate': 1.7894736842105262e-06, 'epoch': 4.92}\n",
      "{'loss': 0.3646, 'grad_norm': 0.28817206621170044, 'learning_rate': 1.6842105263157895e-06, 'epoch': 4.92}\n",
      "{'loss': 0.3729, 'grad_norm': 0.3170621693134308, 'learning_rate': 1.5789473684210528e-06, 'epoch': 4.92}\n",
      "{'loss': 0.4566, 'grad_norm': 0.5058504939079285, 'learning_rate': 1.4736842105263159e-06, 'epoch': 4.93}\n",
      "{'loss': 0.416, 'grad_norm': 0.36568474769592285, 'learning_rate': 1.3684210526315791e-06, 'epoch': 4.94}\n",
      "{'loss': 0.3802, 'grad_norm': 0.3387879729270935, 'learning_rate': 1.2631578947368422e-06, 'epoch': 4.94}\n",
      "{'loss': 0.4093, 'grad_norm': 0.34564515948295593, 'learning_rate': 1.1578947368421055e-06, 'epoch': 4.95}\n",
      "{'loss': 0.3496, 'grad_norm': 0.5598060488700867, 'learning_rate': 1.0526315789473685e-06, 'epoch': 4.95}\n",
      "{'loss': 0.3713, 'grad_norm': 0.28429946303367615, 'learning_rate': 9.473684210526317e-07, 'epoch': 4.96}\n",
      "{'loss': 0.3402, 'grad_norm': 0.2713879346847534, 'learning_rate': 8.421052631578948e-07, 'epoch': 4.96}\n",
      "{'loss': 0.3704, 'grad_norm': 0.4129704236984253, 'learning_rate': 7.368421052631579e-07, 'epoch': 4.96}\n",
      "{'loss': 0.3348, 'grad_norm': 0.32605940103530884, 'learning_rate': 6.315789473684211e-07, 'epoch': 4.97}\n",
      "{'loss': 0.3837, 'grad_norm': 0.2944616973400116, 'learning_rate': 5.263157894736843e-07, 'epoch': 4.97}\n",
      "{'loss': 0.4437, 'grad_norm': 0.575356662273407, 'learning_rate': 4.210526315789474e-07, 'epoch': 4.98}\n",
      "{'loss': 0.3949, 'grad_norm': 0.35664498805999756, 'learning_rate': 3.1578947368421055e-07, 'epoch': 4.99}\n",
      "{'loss': 0.3083, 'grad_norm': 0.38947048783302307, 'learning_rate': 2.105263157894737e-07, 'epoch': 4.99}\n",
      "{'loss': 0.3708, 'grad_norm': 0.327133446931839, 'learning_rate': 1.0526315789473685e-07, 'epoch': 5.0}\n",
      "{'loss': 0.4069, 'grad_norm': 0.362338662147522, 'learning_rate': 0.0, 'epoch': 5.0}\n"
     ]
    },
    {
     "data": {
      "application/vnd.jupyter.widget-view+json": {
       "model_id": "2ef514e175cb48cc8f0ce49eb2f56451",
       "version_major": 2,
       "version_minor": 0
      },
      "text/plain": [
       "  0%|          | 0/500 [00:00<?, ?it/s]"
      ]
     },
     "metadata": {},
     "output_type": "display_data"
    },
    {
     "name": "stdout",
     "output_type": "stream",
     "text": [
      "{'eval_loss': 0.3762052655220032, 'eval_rouge1': 0.6654, 'eval_rouge2': 0.3551, 'eval_rougeL': 0.5051, 'eval_gen_len': 43.1525, 'eval_runtime': 93.546, 'eval_samples_per_second': 21.38, 'eval_steps_per_second': 5.345, 'epoch': 5.0}\n",
      "{'train_runtime': 4451.3826, 'train_samples_per_second': 8.986, 'train_steps_per_second': 2.246, 'train_loss': 0.40834275386333463, 'epoch': 5.0}\n"
     ]
    }
   ],
   "source": [
    "training_args = TrainingArguments(\n",
    "    output_dir=OUT_DIR,\n",
    "    num_train_epochs=EPOCHS, # EPOCHS = 4\n",
    "    per_device_train_batch_size=BATCH_SIZE, # BATCH_SIZE = 4\n",
    "    per_device_eval_batch_size=BATCH_SIZE, \n",
    "    warmup_steps=500,\n",
    "    weight_decay=0.01,\n",
    "    logging_dir=OUT_DIR,\n",
    "    logging_steps=10,\n",
    "    eval_strategy='steps',\n",
    "    eval_steps=400,\n",
    "    save_strategy='epoch',\n",
    "    save_total_limit=2,\n",
    "    report_to='tensorboard',\n",
    "    learning_rate=0.0001,\n",
    "    dataloader_num_workers=4\n",
    ")\n",
    " \n",
    "trainer = Trainer(\n",
    "    model=model,\n",
    "    args=training_args,\n",
    "    train_dataset=tokenized_train,\n",
    "    eval_dataset=tokenized_valid,\n",
    "    preprocess_logits_for_metrics=preprocess_logits_for_metrics,\n",
    "    compute_metrics=compute_metrics\n",
    ")\n",
    " \n",
    "history = trainer.train()"
   ]
  },
  {
   "cell_type": "code",
   "execution_count": 36,
   "metadata": {},
   "outputs": [],
   "source": [
    "model_path = f\"{OUT_DIR}/checkpoint-10000\"  # the path where you saved your model\n",
    "model = T5ForConditionalGeneration.from_pretrained(model_path)\n",
    "tokenizer = T5Tokenizer('models/trained_spiece.model')"
   ]
  },
  {
   "cell_type": "code",
   "execution_count": 37,
   "metadata": {},
   "outputs": [],
   "source": [
    "def summarize_text(text, model, tokenizer, max_length=512, num_beams=5):\n",
    "    # Preprocess the text\n",
    "    inputs = tokenizer.encode(\n",
    "        \"summarize: \" + text,\n",
    "        return_tensors='pt',\n",
    "        max_length=max_length,\n",
    "        truncation=True\n",
    "    )\n",
    "\n",
    "    # Generate the summary\n",
    "    summary_ids = model.generate(\n",
    "        inputs,\n",
    "        max_length=200,\n",
    "        num_beams=num_beams,\n",
    "        # early_stopping=True,\n",
    "    )\n",
    "\n",
    "    # Decode and return the summary\n",
    "    return tokenizer.decode(summary_ids[0], skip_special_tokens=True)"
   ]
  },
  {
   "cell_type": "code",
   "execution_count": 38,
   "metadata": {},
   "outputs": [
    {
     "name": "stdout",
     "output_type": "stream",
     "text": [
      "Khu vực Nam Bộ có nắng nóng và nắng nóng gay gắt trong các ngày từ 1-8/5; sau đó từ 9/5, nắng nóng chủ yếu tập trung tại các tỉnh miền Đông Nam Bộ. Trên cả nước đã ghi nhận nhiều trạm khí tượng xảy ra giá trị nhiệt độ cao nhất ngày vượt giá trị lịch sử. Cụ thể, cùng trong ngày 1/5, ở Đông Hà (Quảng Trị) đạt đến 43,2 độ, vượt mức 42,3 độ năm 2023; Huế (Thừa Thiên Huế) 42,1 độ, vượt kỷ lục 41,3 độ năm 1983; Đà Nẵng 41,5, vượt mức 40,5 năm 1983 hay Thủ Dầu Một (Bình Dương) 38,9 độ ngày 2/5, vượt mức 38,7 năm 2016,…\n"
     ]
    }
   ],
   "source": [
    "text = 'Khu vực Nam Bộ có nắng nóng và nắng nóng gay gắt trong các ngày từ 1-8/5; sau đó từ 9/5, nắng nóng chủ yếu tập trung tại các tỉnh miền Đông Nam Bộ. Trên cả nước đã ghi nhận nhiều trạm khí tượng xảy ra giá trị nhiệt độ cao nhất ngày vượt giá trị lịch sử. Cụ thể, cùng trong ngày 1/5, ở Đông Hà (Quảng Trị) đạt đến 43,2 độ, vượt mức 42,3 độ năm 2023; Huế (Thừa Thiên Huế) 42,1 độ, vượt kỷ lục 41,3 độ năm 1983; Đà Nẵng 41,5, vượt mức 40,5 năm 1983 hay Thủ Dầu Một (Bình Dương) 38,9 độ ngày 2/5, vượt mức 38,7 năm 2016,…'\n",
    "print(text)"
   ]
  },
  {
   "cell_type": "code",
   "execution_count": 40,
   "metadata": {},
   "outputs": [
    {
     "data": {
      "text/plain": [
       "'Trong nắng nóng chủ yếu tập trung tại các tỉnh miên Đông Nam Bộ. Trên cả nước đã ghi nhận nhiêu trạm khí tượng xảy ra giá trị nhiệt độ cao nhất ngày vượt giá trị lịch sử. Cụ thể, cùng trong ngày 1/5, ở Đông Hà (Quảng Trị) đạt đến 43,2 độ, vượt mức 38,7 năm 1983; Đà Nẵng 41,5.'"
      ]
     },
     "execution_count": 40,
     "metadata": {},
     "output_type": "execute_result"
    }
   ],
   "source": [
    "summarize_text(text, model, tokenizer, max_length=1000)"
   ]
  },
  {
   "cell_type": "code",
   "execution_count": 58,
   "metadata": {},
   "outputs": [
    {
     "name": "stdout",
     "output_type": "stream",
     "text": [
      "{'epoch': 0.2, 'eval_gen_len': 42.2295, 'eval_loss': 0.47695666551589966, 'eval_rouge1': 0.6112, 'eval_rouge2': 0.31, 'eval_rougeL': 0.4628, 'eval_runtime': 93.3387, 'eval_samples_per_second': 21.427, 'eval_steps_per_second': 5.357, 'step': 400}\n",
      "{'epoch': 0.4, 'eval_gen_len': 43.0795, 'eval_loss': 0.4514653980731964, 'eval_rouge1': 0.6171, 'eval_rouge2': 0.3189, 'eval_rougeL': 0.4718, 'eval_runtime': 91.8426, 'eval_samples_per_second': 21.776, 'eval_steps_per_second': 5.444, 'step': 800}\n",
      "{'epoch': 0.6, 'eval_gen_len': 43.1525, 'eval_loss': 0.43480512499809265, 'eval_rouge1': 0.6147, 'eval_rouge2': 0.3189, 'eval_rougeL': 0.472, 'eval_runtime': 92.6325, 'eval_samples_per_second': 21.591, 'eval_steps_per_second': 5.398, 'step': 1200}\n",
      "{'epoch': 0.8, 'eval_gen_len': 43.152, 'eval_loss': 0.42746350169181824, 'eval_rouge1': 0.6266, 'eval_rouge2': 0.3268, 'eval_rougeL': 0.4793, 'eval_runtime': 93.2788, 'eval_samples_per_second': 21.441, 'eval_steps_per_second': 5.36, 'step': 1600}\n",
      "{'epoch': 1.0, 'eval_gen_len': 43.1525, 'eval_loss': 0.42178982496261597, 'eval_rouge1': 0.6339, 'eval_rouge2': 0.3297, 'eval_rougeL': 0.4808, 'eval_runtime': 97.2819, 'eval_samples_per_second': 20.559, 'eval_steps_per_second': 5.14, 'step': 2000}\n",
      "{'epoch': 1.2, 'eval_gen_len': 43.1525, 'eval_loss': 0.4144328534603119, 'eval_rouge1': 0.6297, 'eval_rouge2': 0.3294, 'eval_rougeL': 0.4816, 'eval_runtime': 96.6116, 'eval_samples_per_second': 20.701, 'eval_steps_per_second': 5.175, 'step': 2400}\n",
      "{'epoch': 1.4, 'eval_gen_len': 43.1525, 'eval_loss': 0.41062265634536743, 'eval_rouge1': 0.642, 'eval_rouge2': 0.3363, 'eval_rougeL': 0.4863, 'eval_runtime': 96.8715, 'eval_samples_per_second': 20.646, 'eval_steps_per_second': 5.161, 'step': 2800}\n",
      "{'epoch': 1.6, 'eval_gen_len': 43.1525, 'eval_loss': 0.40462082624435425, 'eval_rouge1': 0.641, 'eval_rouge2': 0.3369, 'eval_rougeL': 0.4879, 'eval_runtime': 98.6568, 'eval_samples_per_second': 20.272, 'eval_steps_per_second': 5.068, 'step': 3200}\n",
      "{'epoch': 1.8, 'eval_gen_len': 43.1525, 'eval_loss': 0.4011801779270172, 'eval_rouge1': 0.6488, 'eval_rouge2': 0.3405, 'eval_rougeL': 0.4911, 'eval_runtime': 95.5244, 'eval_samples_per_second': 20.937, 'eval_steps_per_second': 5.234, 'step': 3600}\n",
      "{'epoch': 2.0, 'eval_gen_len': 43.1525, 'eval_loss': 0.3967725336551666, 'eval_rouge1': 0.6502, 'eval_rouge2': 0.3416, 'eval_rougeL': 0.4929, 'eval_runtime': 94.0076, 'eval_samples_per_second': 21.275, 'eval_steps_per_second': 5.319, 'step': 4000}\n",
      "{'epoch': 2.2, 'eval_gen_len': 43.1525, 'eval_loss': 0.39395812153816223, 'eval_rouge1': 0.6522, 'eval_rouge2': 0.3426, 'eval_rougeL': 0.495, 'eval_runtime': 94.3616, 'eval_samples_per_second': 21.195, 'eval_steps_per_second': 5.299, 'step': 4400}\n",
      "{'epoch': 2.4, 'eval_gen_len': 43.1525, 'eval_loss': 0.39222782850265503, 'eval_rouge1': 0.6544, 'eval_rouge2': 0.3461, 'eval_rougeL': 0.4968, 'eval_runtime': 96.7451, 'eval_samples_per_second': 20.673, 'eval_steps_per_second': 5.168, 'step': 4800}\n",
      "{'epoch': 2.6, 'eval_gen_len': 43.1525, 'eval_loss': 0.3893381953239441, 'eval_rouge1': 0.6564, 'eval_rouge2': 0.3454, 'eval_rougeL': 0.4973, 'eval_runtime': 95.0835, 'eval_samples_per_second': 21.034, 'eval_steps_per_second': 5.259, 'step': 5200}\n",
      "{'epoch': 2.8, 'eval_gen_len': 43.1525, 'eval_loss': 0.3871671259403229, 'eval_rouge1': 0.657, 'eval_rouge2': 0.348, 'eval_rougeL': 0.4988, 'eval_runtime': 95.8729, 'eval_samples_per_second': 20.861, 'eval_steps_per_second': 5.215, 'step': 5600}\n",
      "{'epoch': 3.0, 'eval_gen_len': 43.1525, 'eval_loss': 0.3850921094417572, 'eval_rouge1': 0.6596, 'eval_rouge2': 0.3499, 'eval_rougeL': 0.5002, 'eval_runtime': 94.9179, 'eval_samples_per_second': 21.071, 'eval_steps_per_second': 5.268, 'step': 6000}\n",
      "{'epoch': 3.2, 'eval_gen_len': 43.1525, 'eval_loss': 0.3857538402080536, 'eval_rouge1': 0.6623, 'eval_rouge2': 0.3507, 'eval_rougeL': 0.5009, 'eval_runtime': 97.6964, 'eval_samples_per_second': 20.472, 'eval_steps_per_second': 5.118, 'step': 6400}\n",
      "{'epoch': 3.4, 'eval_gen_len': 43.1525, 'eval_loss': 0.38172048330307007, 'eval_rouge1': 0.6599, 'eval_rouge2': 0.3514, 'eval_rougeL': 0.5018, 'eval_runtime': 98.5709, 'eval_samples_per_second': 20.29, 'eval_steps_per_second': 5.072, 'step': 6800}\n",
      "{'epoch': 3.6, 'eval_gen_len': 43.1525, 'eval_loss': 0.3812352418899536, 'eval_rouge1': 0.6625, 'eval_rouge2': 0.353, 'eval_rougeL': 0.5027, 'eval_runtime': 93.6017, 'eval_samples_per_second': 21.367, 'eval_steps_per_second': 5.342, 'step': 7200}\n",
      "{'epoch': 3.8, 'eval_gen_len': 43.1525, 'eval_loss': 0.37977445125579834, 'eval_rouge1': 0.6639, 'eval_rouge2': 0.3539, 'eval_rougeL': 0.5036, 'eval_runtime': 95.6153, 'eval_samples_per_second': 20.917, 'eval_steps_per_second': 5.229, 'step': 7600}\n",
      "{'epoch': 4.0, 'eval_gen_len': 43.1525, 'eval_loss': 0.37760791182518005, 'eval_rouge1': 0.6634, 'eval_rouge2': 0.3534, 'eval_rougeL': 0.5048, 'eval_runtime': 94.8624, 'eval_samples_per_second': 21.083, 'eval_steps_per_second': 5.271, 'step': 8000}\n",
      "{'epoch': 4.2, 'eval_gen_len': 43.1525, 'eval_loss': 0.37738192081451416, 'eval_rouge1': 0.6636, 'eval_rouge2': 0.3538, 'eval_rougeL': 0.5047, 'eval_runtime': 100.705, 'eval_samples_per_second': 19.86, 'eval_steps_per_second': 4.965, 'step': 8400}\n",
      "{'epoch': 4.4, 'eval_gen_len': 43.1525, 'eval_loss': 0.3765319287776947, 'eval_rouge1': 0.665, 'eval_rouge2': 0.3547, 'eval_rougeL': 0.5048, 'eval_runtime': 94.91, 'eval_samples_per_second': 21.073, 'eval_steps_per_second': 5.268, 'step': 8800}\n",
      "{'epoch': 4.6, 'eval_gen_len': 43.1525, 'eval_loss': 0.37647417187690735, 'eval_rouge1': 0.6653, 'eval_rouge2': 0.3555, 'eval_rougeL': 0.5057, 'eval_runtime': 97.7539, 'eval_samples_per_second': 20.46, 'eval_steps_per_second': 5.115, 'step': 9200}\n",
      "{'epoch': 4.8, 'eval_gen_len': 43.1525, 'eval_loss': 0.3764376938343048, 'eval_rouge1': 0.6651, 'eval_rouge2': 0.3551, 'eval_rougeL': 0.5051, 'eval_runtime': 91.9166, 'eval_samples_per_second': 21.759, 'eval_steps_per_second': 5.44, 'step': 9600}\n",
      "{'epoch': 5.0, 'eval_gen_len': 43.1525, 'eval_loss': 0.3762052655220032, 'eval_rouge1': 0.6654, 'eval_rouge2': 0.3551, 'eval_rougeL': 0.5051, 'eval_runtime': 93.546, 'eval_samples_per_second': 21.38, 'eval_steps_per_second': 5.345, 'step': 10000}\n"
     ]
    }
   ],
   "source": [
    "import json\n",
    "\n",
    "# Đọc file JSON\n",
    "with open('result666/checkpoint-10000/trainer_state.json', 'r') as file:\n",
    "    data = json.load(file)\n",
    "\n",
    "# Lấy từ điển có trường 'log_history'\n",
    "log_history = data.get('log_history', [])\n",
    "\n",
    "\n",
    "filtered_logs = [log for log in log_history if log.get('step', 0) % 400 == 0 and 'eval_rouge1' in log]\n",
    "\n",
    "# In ra các từ điển đã lọc được\n",
    "for log in filtered_logs:\n",
    "    print(log)\n",
    "\n"
   ]
  },
  {
   "cell_type": "code",
   "execution_count": 63,
   "metadata": {},
   "outputs": [
    {
     "data": {
      "text/html": [
       "<style type=\"text/css\">\n",
       "</style>\n",
       "<table id=\"T_aa592\">\n",
       "  <thead>\n",
       "    <tr>\n",
       "      <th class=\"blank level0\" >&nbsp;</th>\n",
       "      <th id=\"T_aa592_level0_col0\" class=\"col_heading level0 col0\" >epoch</th>\n",
       "      <th id=\"T_aa592_level0_col1\" class=\"col_heading level0 col1\" >eval_gen_len</th>\n",
       "      <th id=\"T_aa592_level0_col2\" class=\"col_heading level0 col2\" >eval_loss</th>\n",
       "      <th id=\"T_aa592_level0_col3\" class=\"col_heading level0 col3\" >eval_rouge1</th>\n",
       "      <th id=\"T_aa592_level0_col4\" class=\"col_heading level0 col4\" >eval_rouge2</th>\n",
       "      <th id=\"T_aa592_level0_col5\" class=\"col_heading level0 col5\" >eval_rougeL</th>\n",
       "      <th id=\"T_aa592_level0_col6\" class=\"col_heading level0 col6\" >eval_runtime</th>\n",
       "      <th id=\"T_aa592_level0_col7\" class=\"col_heading level0 col7\" >eval_samples_per_second</th>\n",
       "      <th id=\"T_aa592_level0_col8\" class=\"col_heading level0 col8\" >eval_steps_per_second</th>\n",
       "      <th id=\"T_aa592_level0_col9\" class=\"col_heading level0 col9\" >step</th>\n",
       "    </tr>\n",
       "  </thead>\n",
       "  <tbody>\n",
       "    <tr>\n",
       "      <th id=\"T_aa592_level0_row0\" class=\"row_heading level0 row0\" >0</th>\n",
       "      <td id=\"T_aa592_row0_col0\" class=\"data row0 col0\" >0.200000</td>\n",
       "      <td id=\"T_aa592_row0_col1\" class=\"data row0 col1\" >42.229500</td>\n",
       "      <td id=\"T_aa592_row0_col2\" class=\"data row0 col2\" >0.476957</td>\n",
       "      <td id=\"T_aa592_row0_col3\" class=\"data row0 col3\" >0.611200</td>\n",
       "      <td id=\"T_aa592_row0_col4\" class=\"data row0 col4\" >0.310000</td>\n",
       "      <td id=\"T_aa592_row0_col5\" class=\"data row0 col5\" >0.462800</td>\n",
       "      <td id=\"T_aa592_row0_col6\" class=\"data row0 col6\" >93.338700</td>\n",
       "      <td id=\"T_aa592_row0_col7\" class=\"data row0 col7\" >21.427000</td>\n",
       "      <td id=\"T_aa592_row0_col8\" class=\"data row0 col8\" >5.357000</td>\n",
       "      <td id=\"T_aa592_row0_col9\" class=\"data row0 col9\" >400</td>\n",
       "    </tr>\n",
       "    <tr>\n",
       "      <th id=\"T_aa592_level0_row1\" class=\"row_heading level0 row1\" >1</th>\n",
       "      <td id=\"T_aa592_row1_col0\" class=\"data row1 col0\" >0.400000</td>\n",
       "      <td id=\"T_aa592_row1_col1\" class=\"data row1 col1\" >43.079500</td>\n",
       "      <td id=\"T_aa592_row1_col2\" class=\"data row1 col2\" >0.451465</td>\n",
       "      <td id=\"T_aa592_row1_col3\" class=\"data row1 col3\" >0.617100</td>\n",
       "      <td id=\"T_aa592_row1_col4\" class=\"data row1 col4\" >0.318900</td>\n",
       "      <td id=\"T_aa592_row1_col5\" class=\"data row1 col5\" >0.471800</td>\n",
       "      <td id=\"T_aa592_row1_col6\" class=\"data row1 col6\" >91.842600</td>\n",
       "      <td id=\"T_aa592_row1_col7\" class=\"data row1 col7\" >21.776000</td>\n",
       "      <td id=\"T_aa592_row1_col8\" class=\"data row1 col8\" >5.444000</td>\n",
       "      <td id=\"T_aa592_row1_col9\" class=\"data row1 col9\" >800</td>\n",
       "    </tr>\n",
       "    <tr>\n",
       "      <th id=\"T_aa592_level0_row2\" class=\"row_heading level0 row2\" >2</th>\n",
       "      <td id=\"T_aa592_row2_col0\" class=\"data row2 col0\" >0.600000</td>\n",
       "      <td id=\"T_aa592_row2_col1\" class=\"data row2 col1\" >43.152500</td>\n",
       "      <td id=\"T_aa592_row2_col2\" class=\"data row2 col2\" >0.434805</td>\n",
       "      <td id=\"T_aa592_row2_col3\" class=\"data row2 col3\" >0.614700</td>\n",
       "      <td id=\"T_aa592_row2_col4\" class=\"data row2 col4\" >0.318900</td>\n",
       "      <td id=\"T_aa592_row2_col5\" class=\"data row2 col5\" >0.472000</td>\n",
       "      <td id=\"T_aa592_row2_col6\" class=\"data row2 col6\" >92.632500</td>\n",
       "      <td id=\"T_aa592_row2_col7\" class=\"data row2 col7\" >21.591000</td>\n",
       "      <td id=\"T_aa592_row2_col8\" class=\"data row2 col8\" >5.398000</td>\n",
       "      <td id=\"T_aa592_row2_col9\" class=\"data row2 col9\" >1200</td>\n",
       "    </tr>\n",
       "    <tr>\n",
       "      <th id=\"T_aa592_level0_row3\" class=\"row_heading level0 row3\" >3</th>\n",
       "      <td id=\"T_aa592_row3_col0\" class=\"data row3 col0\" >0.800000</td>\n",
       "      <td id=\"T_aa592_row3_col1\" class=\"data row3 col1\" >43.152000</td>\n",
       "      <td id=\"T_aa592_row3_col2\" class=\"data row3 col2\" >0.427464</td>\n",
       "      <td id=\"T_aa592_row3_col3\" class=\"data row3 col3\" >0.626600</td>\n",
       "      <td id=\"T_aa592_row3_col4\" class=\"data row3 col4\" >0.326800</td>\n",
       "      <td id=\"T_aa592_row3_col5\" class=\"data row3 col5\" >0.479300</td>\n",
       "      <td id=\"T_aa592_row3_col6\" class=\"data row3 col6\" >93.278800</td>\n",
       "      <td id=\"T_aa592_row3_col7\" class=\"data row3 col7\" >21.441000</td>\n",
       "      <td id=\"T_aa592_row3_col8\" class=\"data row3 col8\" >5.360000</td>\n",
       "      <td id=\"T_aa592_row3_col9\" class=\"data row3 col9\" >1600</td>\n",
       "    </tr>\n",
       "    <tr>\n",
       "      <th id=\"T_aa592_level0_row4\" class=\"row_heading level0 row4\" >4</th>\n",
       "      <td id=\"T_aa592_row4_col0\" class=\"data row4 col0\" >1.000000</td>\n",
       "      <td id=\"T_aa592_row4_col1\" class=\"data row4 col1\" >43.152500</td>\n",
       "      <td id=\"T_aa592_row4_col2\" class=\"data row4 col2\" >0.421790</td>\n",
       "      <td id=\"T_aa592_row4_col3\" class=\"data row4 col3\" >0.633900</td>\n",
       "      <td id=\"T_aa592_row4_col4\" class=\"data row4 col4\" >0.329700</td>\n",
       "      <td id=\"T_aa592_row4_col5\" class=\"data row4 col5\" >0.480800</td>\n",
       "      <td id=\"T_aa592_row4_col6\" class=\"data row4 col6\" >97.281900</td>\n",
       "      <td id=\"T_aa592_row4_col7\" class=\"data row4 col7\" >20.559000</td>\n",
       "      <td id=\"T_aa592_row4_col8\" class=\"data row4 col8\" >5.140000</td>\n",
       "      <td id=\"T_aa592_row4_col9\" class=\"data row4 col9\" >2000</td>\n",
       "    </tr>\n",
       "    <tr>\n",
       "      <th id=\"T_aa592_level0_row5\" class=\"row_heading level0 row5\" >5</th>\n",
       "      <td id=\"T_aa592_row5_col0\" class=\"data row5 col0\" >1.200000</td>\n",
       "      <td id=\"T_aa592_row5_col1\" class=\"data row5 col1\" >43.152500</td>\n",
       "      <td id=\"T_aa592_row5_col2\" class=\"data row5 col2\" >0.414433</td>\n",
       "      <td id=\"T_aa592_row5_col3\" class=\"data row5 col3\" >0.629700</td>\n",
       "      <td id=\"T_aa592_row5_col4\" class=\"data row5 col4\" >0.329400</td>\n",
       "      <td id=\"T_aa592_row5_col5\" class=\"data row5 col5\" >0.481600</td>\n",
       "      <td id=\"T_aa592_row5_col6\" class=\"data row5 col6\" >96.611600</td>\n",
       "      <td id=\"T_aa592_row5_col7\" class=\"data row5 col7\" >20.701000</td>\n",
       "      <td id=\"T_aa592_row5_col8\" class=\"data row5 col8\" >5.175000</td>\n",
       "      <td id=\"T_aa592_row5_col9\" class=\"data row5 col9\" >2400</td>\n",
       "    </tr>\n",
       "    <tr>\n",
       "      <th id=\"T_aa592_level0_row6\" class=\"row_heading level0 row6\" >6</th>\n",
       "      <td id=\"T_aa592_row6_col0\" class=\"data row6 col0\" >1.400000</td>\n",
       "      <td id=\"T_aa592_row6_col1\" class=\"data row6 col1\" >43.152500</td>\n",
       "      <td id=\"T_aa592_row6_col2\" class=\"data row6 col2\" >0.410623</td>\n",
       "      <td id=\"T_aa592_row6_col3\" class=\"data row6 col3\" >0.642000</td>\n",
       "      <td id=\"T_aa592_row6_col4\" class=\"data row6 col4\" >0.336300</td>\n",
       "      <td id=\"T_aa592_row6_col5\" class=\"data row6 col5\" >0.486300</td>\n",
       "      <td id=\"T_aa592_row6_col6\" class=\"data row6 col6\" >96.871500</td>\n",
       "      <td id=\"T_aa592_row6_col7\" class=\"data row6 col7\" >20.646000</td>\n",
       "      <td id=\"T_aa592_row6_col8\" class=\"data row6 col8\" >5.161000</td>\n",
       "      <td id=\"T_aa592_row6_col9\" class=\"data row6 col9\" >2800</td>\n",
       "    </tr>\n",
       "    <tr>\n",
       "      <th id=\"T_aa592_level0_row7\" class=\"row_heading level0 row7\" >7</th>\n",
       "      <td id=\"T_aa592_row7_col0\" class=\"data row7 col0\" >1.600000</td>\n",
       "      <td id=\"T_aa592_row7_col1\" class=\"data row7 col1\" >43.152500</td>\n",
       "      <td id=\"T_aa592_row7_col2\" class=\"data row7 col2\" >0.404621</td>\n",
       "      <td id=\"T_aa592_row7_col3\" class=\"data row7 col3\" >0.641000</td>\n",
       "      <td id=\"T_aa592_row7_col4\" class=\"data row7 col4\" >0.336900</td>\n",
       "      <td id=\"T_aa592_row7_col5\" class=\"data row7 col5\" >0.487900</td>\n",
       "      <td id=\"T_aa592_row7_col6\" class=\"data row7 col6\" >98.656800</td>\n",
       "      <td id=\"T_aa592_row7_col7\" class=\"data row7 col7\" >20.272000</td>\n",
       "      <td id=\"T_aa592_row7_col8\" class=\"data row7 col8\" >5.068000</td>\n",
       "      <td id=\"T_aa592_row7_col9\" class=\"data row7 col9\" >3200</td>\n",
       "    </tr>\n",
       "    <tr>\n",
       "      <th id=\"T_aa592_level0_row8\" class=\"row_heading level0 row8\" >8</th>\n",
       "      <td id=\"T_aa592_row8_col0\" class=\"data row8 col0\" >1.800000</td>\n",
       "      <td id=\"T_aa592_row8_col1\" class=\"data row8 col1\" >43.152500</td>\n",
       "      <td id=\"T_aa592_row8_col2\" class=\"data row8 col2\" >0.401180</td>\n",
       "      <td id=\"T_aa592_row8_col3\" class=\"data row8 col3\" >0.648800</td>\n",
       "      <td id=\"T_aa592_row8_col4\" class=\"data row8 col4\" >0.340500</td>\n",
       "      <td id=\"T_aa592_row8_col5\" class=\"data row8 col5\" >0.491100</td>\n",
       "      <td id=\"T_aa592_row8_col6\" class=\"data row8 col6\" >95.524400</td>\n",
       "      <td id=\"T_aa592_row8_col7\" class=\"data row8 col7\" >20.937000</td>\n",
       "      <td id=\"T_aa592_row8_col8\" class=\"data row8 col8\" >5.234000</td>\n",
       "      <td id=\"T_aa592_row8_col9\" class=\"data row8 col9\" >3600</td>\n",
       "    </tr>\n",
       "    <tr>\n",
       "      <th id=\"T_aa592_level0_row9\" class=\"row_heading level0 row9\" >9</th>\n",
       "      <td id=\"T_aa592_row9_col0\" class=\"data row9 col0\" >2.000000</td>\n",
       "      <td id=\"T_aa592_row9_col1\" class=\"data row9 col1\" >43.152500</td>\n",
       "      <td id=\"T_aa592_row9_col2\" class=\"data row9 col2\" >0.396773</td>\n",
       "      <td id=\"T_aa592_row9_col3\" class=\"data row9 col3\" >0.650200</td>\n",
       "      <td id=\"T_aa592_row9_col4\" class=\"data row9 col4\" >0.341600</td>\n",
       "      <td id=\"T_aa592_row9_col5\" class=\"data row9 col5\" >0.492900</td>\n",
       "      <td id=\"T_aa592_row9_col6\" class=\"data row9 col6\" >94.007600</td>\n",
       "      <td id=\"T_aa592_row9_col7\" class=\"data row9 col7\" >21.275000</td>\n",
       "      <td id=\"T_aa592_row9_col8\" class=\"data row9 col8\" >5.319000</td>\n",
       "      <td id=\"T_aa592_row9_col9\" class=\"data row9 col9\" >4000</td>\n",
       "    </tr>\n",
       "    <tr>\n",
       "      <th id=\"T_aa592_level0_row10\" class=\"row_heading level0 row10\" >10</th>\n",
       "      <td id=\"T_aa592_row10_col0\" class=\"data row10 col0\" >2.200000</td>\n",
       "      <td id=\"T_aa592_row10_col1\" class=\"data row10 col1\" >43.152500</td>\n",
       "      <td id=\"T_aa592_row10_col2\" class=\"data row10 col2\" >0.393958</td>\n",
       "      <td id=\"T_aa592_row10_col3\" class=\"data row10 col3\" >0.652200</td>\n",
       "      <td id=\"T_aa592_row10_col4\" class=\"data row10 col4\" >0.342600</td>\n",
       "      <td id=\"T_aa592_row10_col5\" class=\"data row10 col5\" >0.495000</td>\n",
       "      <td id=\"T_aa592_row10_col6\" class=\"data row10 col6\" >94.361600</td>\n",
       "      <td id=\"T_aa592_row10_col7\" class=\"data row10 col7\" >21.195000</td>\n",
       "      <td id=\"T_aa592_row10_col8\" class=\"data row10 col8\" >5.299000</td>\n",
       "      <td id=\"T_aa592_row10_col9\" class=\"data row10 col9\" >4400</td>\n",
       "    </tr>\n",
       "    <tr>\n",
       "      <th id=\"T_aa592_level0_row11\" class=\"row_heading level0 row11\" >11</th>\n",
       "      <td id=\"T_aa592_row11_col0\" class=\"data row11 col0\" >2.400000</td>\n",
       "      <td id=\"T_aa592_row11_col1\" class=\"data row11 col1\" >43.152500</td>\n",
       "      <td id=\"T_aa592_row11_col2\" class=\"data row11 col2\" >0.392228</td>\n",
       "      <td id=\"T_aa592_row11_col3\" class=\"data row11 col3\" >0.654400</td>\n",
       "      <td id=\"T_aa592_row11_col4\" class=\"data row11 col4\" >0.346100</td>\n",
       "      <td id=\"T_aa592_row11_col5\" class=\"data row11 col5\" >0.496800</td>\n",
       "      <td id=\"T_aa592_row11_col6\" class=\"data row11 col6\" >96.745100</td>\n",
       "      <td id=\"T_aa592_row11_col7\" class=\"data row11 col7\" >20.673000</td>\n",
       "      <td id=\"T_aa592_row11_col8\" class=\"data row11 col8\" >5.168000</td>\n",
       "      <td id=\"T_aa592_row11_col9\" class=\"data row11 col9\" >4800</td>\n",
       "    </tr>\n",
       "    <tr>\n",
       "      <th id=\"T_aa592_level0_row12\" class=\"row_heading level0 row12\" >12</th>\n",
       "      <td id=\"T_aa592_row12_col0\" class=\"data row12 col0\" >2.600000</td>\n",
       "      <td id=\"T_aa592_row12_col1\" class=\"data row12 col1\" >43.152500</td>\n",
       "      <td id=\"T_aa592_row12_col2\" class=\"data row12 col2\" >0.389338</td>\n",
       "      <td id=\"T_aa592_row12_col3\" class=\"data row12 col3\" >0.656400</td>\n",
       "      <td id=\"T_aa592_row12_col4\" class=\"data row12 col4\" >0.345400</td>\n",
       "      <td id=\"T_aa592_row12_col5\" class=\"data row12 col5\" >0.497300</td>\n",
       "      <td id=\"T_aa592_row12_col6\" class=\"data row12 col6\" >95.083500</td>\n",
       "      <td id=\"T_aa592_row12_col7\" class=\"data row12 col7\" >21.034000</td>\n",
       "      <td id=\"T_aa592_row12_col8\" class=\"data row12 col8\" >5.259000</td>\n",
       "      <td id=\"T_aa592_row12_col9\" class=\"data row12 col9\" >5200</td>\n",
       "    </tr>\n",
       "    <tr>\n",
       "      <th id=\"T_aa592_level0_row13\" class=\"row_heading level0 row13\" >13</th>\n",
       "      <td id=\"T_aa592_row13_col0\" class=\"data row13 col0\" >2.800000</td>\n",
       "      <td id=\"T_aa592_row13_col1\" class=\"data row13 col1\" >43.152500</td>\n",
       "      <td id=\"T_aa592_row13_col2\" class=\"data row13 col2\" >0.387167</td>\n",
       "      <td id=\"T_aa592_row13_col3\" class=\"data row13 col3\" >0.657000</td>\n",
       "      <td id=\"T_aa592_row13_col4\" class=\"data row13 col4\" >0.348000</td>\n",
       "      <td id=\"T_aa592_row13_col5\" class=\"data row13 col5\" >0.498800</td>\n",
       "      <td id=\"T_aa592_row13_col6\" class=\"data row13 col6\" >95.872900</td>\n",
       "      <td id=\"T_aa592_row13_col7\" class=\"data row13 col7\" >20.861000</td>\n",
       "      <td id=\"T_aa592_row13_col8\" class=\"data row13 col8\" >5.215000</td>\n",
       "      <td id=\"T_aa592_row13_col9\" class=\"data row13 col9\" >5600</td>\n",
       "    </tr>\n",
       "    <tr>\n",
       "      <th id=\"T_aa592_level0_row14\" class=\"row_heading level0 row14\" >14</th>\n",
       "      <td id=\"T_aa592_row14_col0\" class=\"data row14 col0\" >3.000000</td>\n",
       "      <td id=\"T_aa592_row14_col1\" class=\"data row14 col1\" >43.152500</td>\n",
       "      <td id=\"T_aa592_row14_col2\" class=\"data row14 col2\" >0.385092</td>\n",
       "      <td id=\"T_aa592_row14_col3\" class=\"data row14 col3\" >0.659600</td>\n",
       "      <td id=\"T_aa592_row14_col4\" class=\"data row14 col4\" >0.349900</td>\n",
       "      <td id=\"T_aa592_row14_col5\" class=\"data row14 col5\" >0.500200</td>\n",
       "      <td id=\"T_aa592_row14_col6\" class=\"data row14 col6\" >94.917900</td>\n",
       "      <td id=\"T_aa592_row14_col7\" class=\"data row14 col7\" >21.071000</td>\n",
       "      <td id=\"T_aa592_row14_col8\" class=\"data row14 col8\" >5.268000</td>\n",
       "      <td id=\"T_aa592_row14_col9\" class=\"data row14 col9\" >6000</td>\n",
       "    </tr>\n",
       "    <tr>\n",
       "      <th id=\"T_aa592_level0_row15\" class=\"row_heading level0 row15\" >15</th>\n",
       "      <td id=\"T_aa592_row15_col0\" class=\"data row15 col0\" >3.200000</td>\n",
       "      <td id=\"T_aa592_row15_col1\" class=\"data row15 col1\" >43.152500</td>\n",
       "      <td id=\"T_aa592_row15_col2\" class=\"data row15 col2\" >0.385754</td>\n",
       "      <td id=\"T_aa592_row15_col3\" class=\"data row15 col3\" >0.662300</td>\n",
       "      <td id=\"T_aa592_row15_col4\" class=\"data row15 col4\" >0.350700</td>\n",
       "      <td id=\"T_aa592_row15_col5\" class=\"data row15 col5\" >0.500900</td>\n",
       "      <td id=\"T_aa592_row15_col6\" class=\"data row15 col6\" >97.696400</td>\n",
       "      <td id=\"T_aa592_row15_col7\" class=\"data row15 col7\" >20.472000</td>\n",
       "      <td id=\"T_aa592_row15_col8\" class=\"data row15 col8\" >5.118000</td>\n",
       "      <td id=\"T_aa592_row15_col9\" class=\"data row15 col9\" >6400</td>\n",
       "    </tr>\n",
       "    <tr>\n",
       "      <th id=\"T_aa592_level0_row16\" class=\"row_heading level0 row16\" >16</th>\n",
       "      <td id=\"T_aa592_row16_col0\" class=\"data row16 col0\" >3.400000</td>\n",
       "      <td id=\"T_aa592_row16_col1\" class=\"data row16 col1\" >43.152500</td>\n",
       "      <td id=\"T_aa592_row16_col2\" class=\"data row16 col2\" >0.381720</td>\n",
       "      <td id=\"T_aa592_row16_col3\" class=\"data row16 col3\" >0.659900</td>\n",
       "      <td id=\"T_aa592_row16_col4\" class=\"data row16 col4\" >0.351400</td>\n",
       "      <td id=\"T_aa592_row16_col5\" class=\"data row16 col5\" >0.501800</td>\n",
       "      <td id=\"T_aa592_row16_col6\" class=\"data row16 col6\" >98.570900</td>\n",
       "      <td id=\"T_aa592_row16_col7\" class=\"data row16 col7\" >20.290000</td>\n",
       "      <td id=\"T_aa592_row16_col8\" class=\"data row16 col8\" >5.072000</td>\n",
       "      <td id=\"T_aa592_row16_col9\" class=\"data row16 col9\" >6800</td>\n",
       "    </tr>\n",
       "    <tr>\n",
       "      <th id=\"T_aa592_level0_row17\" class=\"row_heading level0 row17\" >17</th>\n",
       "      <td id=\"T_aa592_row17_col0\" class=\"data row17 col0\" >3.600000</td>\n",
       "      <td id=\"T_aa592_row17_col1\" class=\"data row17 col1\" >43.152500</td>\n",
       "      <td id=\"T_aa592_row17_col2\" class=\"data row17 col2\" >0.381235</td>\n",
       "      <td id=\"T_aa592_row17_col3\" class=\"data row17 col3\" >0.662500</td>\n",
       "      <td id=\"T_aa592_row17_col4\" class=\"data row17 col4\" >0.353000</td>\n",
       "      <td id=\"T_aa592_row17_col5\" class=\"data row17 col5\" >0.502700</td>\n",
       "      <td id=\"T_aa592_row17_col6\" class=\"data row17 col6\" >93.601700</td>\n",
       "      <td id=\"T_aa592_row17_col7\" class=\"data row17 col7\" >21.367000</td>\n",
       "      <td id=\"T_aa592_row17_col8\" class=\"data row17 col8\" >5.342000</td>\n",
       "      <td id=\"T_aa592_row17_col9\" class=\"data row17 col9\" >7200</td>\n",
       "    </tr>\n",
       "    <tr>\n",
       "      <th id=\"T_aa592_level0_row18\" class=\"row_heading level0 row18\" >18</th>\n",
       "      <td id=\"T_aa592_row18_col0\" class=\"data row18 col0\" >3.800000</td>\n",
       "      <td id=\"T_aa592_row18_col1\" class=\"data row18 col1\" >43.152500</td>\n",
       "      <td id=\"T_aa592_row18_col2\" class=\"data row18 col2\" >0.379774</td>\n",
       "      <td id=\"T_aa592_row18_col3\" class=\"data row18 col3\" >0.663900</td>\n",
       "      <td id=\"T_aa592_row18_col4\" class=\"data row18 col4\" >0.353900</td>\n",
       "      <td id=\"T_aa592_row18_col5\" class=\"data row18 col5\" >0.503600</td>\n",
       "      <td id=\"T_aa592_row18_col6\" class=\"data row18 col6\" >95.615300</td>\n",
       "      <td id=\"T_aa592_row18_col7\" class=\"data row18 col7\" >20.917000</td>\n",
       "      <td id=\"T_aa592_row18_col8\" class=\"data row18 col8\" >5.229000</td>\n",
       "      <td id=\"T_aa592_row18_col9\" class=\"data row18 col9\" >7600</td>\n",
       "    </tr>\n",
       "    <tr>\n",
       "      <th id=\"T_aa592_level0_row19\" class=\"row_heading level0 row19\" >19</th>\n",
       "      <td id=\"T_aa592_row19_col0\" class=\"data row19 col0\" >4.000000</td>\n",
       "      <td id=\"T_aa592_row19_col1\" class=\"data row19 col1\" >43.152500</td>\n",
       "      <td id=\"T_aa592_row19_col2\" class=\"data row19 col2\" >0.377608</td>\n",
       "      <td id=\"T_aa592_row19_col3\" class=\"data row19 col3\" >0.663400</td>\n",
       "      <td id=\"T_aa592_row19_col4\" class=\"data row19 col4\" >0.353400</td>\n",
       "      <td id=\"T_aa592_row19_col5\" class=\"data row19 col5\" >0.504800</td>\n",
       "      <td id=\"T_aa592_row19_col6\" class=\"data row19 col6\" >94.862400</td>\n",
       "      <td id=\"T_aa592_row19_col7\" class=\"data row19 col7\" >21.083000</td>\n",
       "      <td id=\"T_aa592_row19_col8\" class=\"data row19 col8\" >5.271000</td>\n",
       "      <td id=\"T_aa592_row19_col9\" class=\"data row19 col9\" >8000</td>\n",
       "    </tr>\n",
       "    <tr>\n",
       "      <th id=\"T_aa592_level0_row20\" class=\"row_heading level0 row20\" >20</th>\n",
       "      <td id=\"T_aa592_row20_col0\" class=\"data row20 col0\" >4.200000</td>\n",
       "      <td id=\"T_aa592_row20_col1\" class=\"data row20 col1\" >43.152500</td>\n",
       "      <td id=\"T_aa592_row20_col2\" class=\"data row20 col2\" >0.377382</td>\n",
       "      <td id=\"T_aa592_row20_col3\" class=\"data row20 col3\" >0.663600</td>\n",
       "      <td id=\"T_aa592_row20_col4\" class=\"data row20 col4\" >0.353800</td>\n",
       "      <td id=\"T_aa592_row20_col5\" class=\"data row20 col5\" >0.504700</td>\n",
       "      <td id=\"T_aa592_row20_col6\" class=\"data row20 col6\" >100.705000</td>\n",
       "      <td id=\"T_aa592_row20_col7\" class=\"data row20 col7\" >19.860000</td>\n",
       "      <td id=\"T_aa592_row20_col8\" class=\"data row20 col8\" >4.965000</td>\n",
       "      <td id=\"T_aa592_row20_col9\" class=\"data row20 col9\" >8400</td>\n",
       "    </tr>\n",
       "    <tr>\n",
       "      <th id=\"T_aa592_level0_row21\" class=\"row_heading level0 row21\" >21</th>\n",
       "      <td id=\"T_aa592_row21_col0\" class=\"data row21 col0\" >4.400000</td>\n",
       "      <td id=\"T_aa592_row21_col1\" class=\"data row21 col1\" >43.152500</td>\n",
       "      <td id=\"T_aa592_row21_col2\" class=\"data row21 col2\" >0.376532</td>\n",
       "      <td id=\"T_aa592_row21_col3\" class=\"data row21 col3\" >0.665000</td>\n",
       "      <td id=\"T_aa592_row21_col4\" class=\"data row21 col4\" >0.354700</td>\n",
       "      <td id=\"T_aa592_row21_col5\" class=\"data row21 col5\" >0.504800</td>\n",
       "      <td id=\"T_aa592_row21_col6\" class=\"data row21 col6\" >94.910000</td>\n",
       "      <td id=\"T_aa592_row21_col7\" class=\"data row21 col7\" >21.073000</td>\n",
       "      <td id=\"T_aa592_row21_col8\" class=\"data row21 col8\" >5.268000</td>\n",
       "      <td id=\"T_aa592_row21_col9\" class=\"data row21 col9\" >8800</td>\n",
       "    </tr>\n",
       "    <tr>\n",
       "      <th id=\"T_aa592_level0_row22\" class=\"row_heading level0 row22\" >22</th>\n",
       "      <td id=\"T_aa592_row22_col0\" class=\"data row22 col0\" >4.600000</td>\n",
       "      <td id=\"T_aa592_row22_col1\" class=\"data row22 col1\" >43.152500</td>\n",
       "      <td id=\"T_aa592_row22_col2\" class=\"data row22 col2\" >0.376474</td>\n",
       "      <td id=\"T_aa592_row22_col3\" class=\"data row22 col3\" >0.665300</td>\n",
       "      <td id=\"T_aa592_row22_col4\" class=\"data row22 col4\" >0.355500</td>\n",
       "      <td id=\"T_aa592_row22_col5\" class=\"data row22 col5\" >0.505700</td>\n",
       "      <td id=\"T_aa592_row22_col6\" class=\"data row22 col6\" >97.753900</td>\n",
       "      <td id=\"T_aa592_row22_col7\" class=\"data row22 col7\" >20.460000</td>\n",
       "      <td id=\"T_aa592_row22_col8\" class=\"data row22 col8\" >5.115000</td>\n",
       "      <td id=\"T_aa592_row22_col9\" class=\"data row22 col9\" >9200</td>\n",
       "    </tr>\n",
       "    <tr>\n",
       "      <th id=\"T_aa592_level0_row23\" class=\"row_heading level0 row23\" >23</th>\n",
       "      <td id=\"T_aa592_row23_col0\" class=\"data row23 col0\" >4.800000</td>\n",
       "      <td id=\"T_aa592_row23_col1\" class=\"data row23 col1\" >43.152500</td>\n",
       "      <td id=\"T_aa592_row23_col2\" class=\"data row23 col2\" >0.376438</td>\n",
       "      <td id=\"T_aa592_row23_col3\" class=\"data row23 col3\" >0.665100</td>\n",
       "      <td id=\"T_aa592_row23_col4\" class=\"data row23 col4\" >0.355100</td>\n",
       "      <td id=\"T_aa592_row23_col5\" class=\"data row23 col5\" >0.505100</td>\n",
       "      <td id=\"T_aa592_row23_col6\" class=\"data row23 col6\" >91.916600</td>\n",
       "      <td id=\"T_aa592_row23_col7\" class=\"data row23 col7\" >21.759000</td>\n",
       "      <td id=\"T_aa592_row23_col8\" class=\"data row23 col8\" >5.440000</td>\n",
       "      <td id=\"T_aa592_row23_col9\" class=\"data row23 col9\" >9600</td>\n",
       "    </tr>\n",
       "    <tr>\n",
       "      <th id=\"T_aa592_level0_row24\" class=\"row_heading level0 row24\" >24</th>\n",
       "      <td id=\"T_aa592_row24_col0\" class=\"data row24 col0\" >5.000000</td>\n",
       "      <td id=\"T_aa592_row24_col1\" class=\"data row24 col1\" >43.152500</td>\n",
       "      <td id=\"T_aa592_row24_col2\" class=\"data row24 col2\" >0.376205</td>\n",
       "      <td id=\"T_aa592_row24_col3\" class=\"data row24 col3\" >0.665400</td>\n",
       "      <td id=\"T_aa592_row24_col4\" class=\"data row24 col4\" >0.355100</td>\n",
       "      <td id=\"T_aa592_row24_col5\" class=\"data row24 col5\" >0.505100</td>\n",
       "      <td id=\"T_aa592_row24_col6\" class=\"data row24 col6\" >93.546000</td>\n",
       "      <td id=\"T_aa592_row24_col7\" class=\"data row24 col7\" >21.380000</td>\n",
       "      <td id=\"T_aa592_row24_col8\" class=\"data row24 col8\" >5.345000</td>\n",
       "      <td id=\"T_aa592_row24_col9\" class=\"data row24 col9\" >10000</td>\n",
       "    </tr>\n",
       "  </tbody>\n",
       "</table>\n"
      ],
      "text/plain": [
       "<pandas.io.formats.style.Styler at 0x1232c559130>"
      ]
     },
     "execution_count": 63,
     "metadata": {},
     "output_type": "execute_result"
    }
   ],
   "source": [
    "import pandas as pd\n",
    "\n",
    "# Chuyển danh sách từ điển thành DataFrame\n",
    "df = pd.DataFrame(filtered_logs)\n",
    "\n",
    "# Tạo một bản sao của DataFrame\n",
    "styled_df = df.style\n",
    "\n",
    "# Tùy chỉnh màu sắc cho cột 'eval_rouge1'\n",
    "styled_df = styled_df.apply(lambda row: ['color: blue' if val is None else '' for val in row], axis=1, subset=['eval_rouge1'])\n",
    "\n",
    "# Hiển thị DataFrame đã tùy chỉnh với màu sắc\n",
    "styled_df\n"
   ]
  },
  {
   "cell_type": "code",
   "execution_count": 64,
   "metadata": {},
   "outputs": [],
   "source": [
    "import gradio as gr\n",
    " \n",
    "from transformers import T5ForConditionalGeneration, T5Tokenizer"
   ]
  },
  {
   "cell_type": "code",
   "execution_count": 65,
   "metadata": {},
   "outputs": [],
   "source": [
    "def summarize_text(text):\n",
    "    # Preprocess the text\n",
    "    inputs = tokenizer.encode(\n",
    "        \"summarize: \" + text,\n",
    "        return_tensors='pt',\n",
    "        max_length=512,\n",
    "        truncation=True,\n",
    "        padding='max_length'\n",
    "    )\n",
    " \n",
    "    # Generate the summary\n",
    "    summary_ids = model.generate(\n",
    "        inputs,\n",
    "        max_length=50,\n",
    "        num_beams=5,\n",
    "        # early_stopping=True\n",
    "    )\n",
    " \n",
    "    # Decode and return the summary\n",
    "    return tokenizer.decode(summary_ids[0], skip_special_tokens=True)"
   ]
  },
  {
   "cell_type": "code",
   "execution_count": 66,
   "metadata": {},
   "outputs": [],
   "source": [
    "model_path = \"result666/checkpoint-10000\" \n",
    "model = T5ForConditionalGeneration.from_pretrained(model_path)\n",
    "tokenizer = T5Tokenizer('models/trained_spiece.model')"
   ]
  },
  {
   "cell_type": "code",
   "execution_count": 67,
   "metadata": {},
   "outputs": [
    {
     "name": "stdout",
     "output_type": "stream",
     "text": [
      "Running on local URL:  http://127.0.0.1:7860\n",
      "\n",
      "To create a public link, set `share=True` in `launch()`.\n"
     ]
    },
    {
     "data": {
      "text/html": [
       "<div><iframe src=\"http://127.0.0.1:7860/\" width=\"100%\" height=\"500\" allow=\"autoplay; camera; microphone; clipboard-read; clipboard-write;\" frameborder=\"0\" allowfullscreen></iframe></div>"
      ],
      "text/plain": [
       "<IPython.core.display.HTML object>"
      ]
     },
     "metadata": {},
     "output_type": "display_data"
    },
    {
     "data": {
      "text/plain": []
     },
     "execution_count": 67,
     "metadata": {},
     "output_type": "execute_result"
    }
   ],
   "source": [
    "interface = gr.Interface(\n",
    "    fn=summarize_text,\n",
    "    inputs=gr.Textbox(lines=10, placeholder='Enter Text Here...', label='Input text'),\n",
    "    outputs=gr.Textbox(label='Summarized Text'),\n",
    "    title='Text Summarizer using T5'\n",
    ")\n",
    "interface.launch()"
   ]
  },
  {
   "cell_type": "code",
   "execution_count": null,
   "metadata": {},
   "outputs": [],
   "source": []
  }
 ],
 "metadata": {
  "kernelspec": {
   "display_name": "Python 3",
   "language": "python",
   "name": "python3"
  },
  "language_info": {
   "codemirror_mode": {
    "name": "ipython",
    "version": 3
   },
   "file_extension": ".py",
   "mimetype": "text/x-python",
   "name": "python",
   "nbconvert_exporter": "python",
   "pygments_lexer": "ipython3",
   "version": "3.12.2"
  }
 },
 "nbformat": 4,
 "nbformat_minor": 2
}
